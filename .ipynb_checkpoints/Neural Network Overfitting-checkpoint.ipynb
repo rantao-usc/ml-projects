{
 "cells": [
  {
   "cell_type": "markdown",
   "metadata": {},
   "source": [
    "# Use Fashion MNIST dataset to illustrate this"
   ]
  },
  {
   "cell_type": "code",
   "execution_count": 1,
   "metadata": {},
   "outputs": [
    {
     "name": "stdout",
     "output_type": "stream",
     "text": [
      "2.4.1\n"
     ]
    }
   ],
   "source": [
    "# TensorFlow and tf.keras\n",
    "import tensorflow as tf\n",
    "\n",
    "# Helper libraries\n",
    "import numpy as np\n",
    "import matplotlib.pyplot as plt\n",
    "\n",
    "print(tf.__version__)"
   ]
  },
  {
   "cell_type": "markdown",
   "metadata": {},
   "source": [
    "# Import the Fashion MNIST dataset"
   ]
  },
  {
   "cell_type": "code",
   "execution_count": 3,
   "metadata": {},
   "outputs": [
    {
     "name": "stdout",
     "output_type": "stream",
     "text": [
      "Downloading data from https://storage.googleapis.com/tensorflow/tf-keras-datasets/train-labels-idx1-ubyte.gz\n",
      "32768/29515 [=================================] - 0s 1us/step\n",
      "Downloading data from https://storage.googleapis.com/tensorflow/tf-keras-datasets/train-images-idx3-ubyte.gz\n",
      "26427392/26421880 [==============================] - 4s 0us/step\n",
      "Downloading data from https://storage.googleapis.com/tensorflow/tf-keras-datasets/t10k-labels-idx1-ubyte.gz\n",
      "8192/5148 [===============================================] - 0s 0us/step\n",
      "Downloading data from https://storage.googleapis.com/tensorflow/tf-keras-datasets/t10k-images-idx3-ubyte.gz\n",
      "4423680/4422102 [==============================] - 1s 0us/step\n"
     ]
    }
   ],
   "source": [
    "import ssl\n",
    "ssl._create_default_https_context = ssl._create_unverified_context\n",
    "\n",
    "fashion_mnist = tf.keras.datasets.fashion_mnist\n",
    "\n",
    "(train_images, train_labels), (test_images, test_labels) = fashion_mnist.load_data()"
   ]
  },
  {
   "cell_type": "code",
   "execution_count": 4,
   "metadata": {},
   "outputs": [],
   "source": [
    "class_names = ['T-shirt/top', 'Trouser', 'Pullover', 'Dress', 'Coat',\n",
    "               'Sandal', 'Shirt', 'Sneaker', 'Bag', 'Ankle boot']"
   ]
  },
  {
   "cell_type": "code",
   "execution_count": 5,
   "metadata": {},
   "outputs": [
    {
     "data": {
      "text/plain": [
       "(60000, 28, 28)"
      ]
     },
     "execution_count": 5,
     "metadata": {},
     "output_type": "execute_result"
    }
   ],
   "source": [
    "train_images.shape"
   ]
  },
  {
   "cell_type": "code",
   "execution_count": 6,
   "metadata": {},
   "outputs": [
    {
     "data": {
      "text/plain": [
       "60000"
      ]
     },
     "execution_count": 6,
     "metadata": {},
     "output_type": "execute_result"
    }
   ],
   "source": [
    "len(train_labels)"
   ]
  },
  {
   "cell_type": "code",
   "execution_count": 7,
   "metadata": {},
   "outputs": [
    {
     "data": {
      "text/plain": [
       "array([9, 0, 0, ..., 3, 0, 5], dtype=uint8)"
      ]
     },
     "execution_count": 7,
     "metadata": {},
     "output_type": "execute_result"
    }
   ],
   "source": [
    "train_labels"
   ]
  },
  {
   "cell_type": "code",
   "execution_count": 8,
   "metadata": {},
   "outputs": [
    {
     "data": {
      "text/plain": [
       "(10000, 28, 28)"
      ]
     },
     "execution_count": 8,
     "metadata": {},
     "output_type": "execute_result"
    }
   ],
   "source": [
    "test_images.shape"
   ]
  },
  {
   "cell_type": "code",
   "execution_count": 9,
   "metadata": {},
   "outputs": [
    {
     "data": {
      "text/plain": [
       "10000"
      ]
     },
     "execution_count": 9,
     "metadata": {},
     "output_type": "execute_result"
    }
   ],
   "source": [
    "len(test_labels)"
   ]
  },
  {
   "cell_type": "code",
   "execution_count": 10,
   "metadata": {},
   "outputs": [],
   "source": [
    "# Scale these values to a range of 0 to 1 \n",
    "# before feeding them to the neural network model. \n",
    "# To do so, divide the values by 255.\n",
    "train_images = train_images / 255.0\n",
    "\n",
    "test_images = test_images / 255.0"
   ]
  },
  {
   "cell_type": "markdown",
   "metadata": {},
   "source": [
    "# Build the model"
   ]
  },
  {
   "cell_type": "code",
   "execution_count": 11,
   "metadata": {},
   "outputs": [],
   "source": [
    "# Set up the layers\n",
    "model = tf.keras.Sequential([\n",
    "    tf.keras.layers.Flatten(input_shape=(28, 28)),\n",
    "    tf.keras.layers.Dense(128, activation='relu'),\n",
    "    tf.keras.layers.Dense(10)\n",
    "])"
   ]
  },
  {
   "cell_type": "code",
   "execution_count": 12,
   "metadata": {},
   "outputs": [],
   "source": [
    "# Complie the model\n",
    "model.compile(optimizer='adam',\n",
    "              loss=tf.keras.losses.SparseCategoricalCrossentropy(from_logits=True),\n",
    "              metrics=['accuracy'])"
   ]
  },
  {
   "cell_type": "code",
   "execution_count": 31,
   "metadata": {},
   "outputs": [
    {
     "name": "stdout",
     "output_type": "stream",
     "text": [
      "Epoch 1/30\n",
      "1257/1257 [==============================] - 5s 4ms/step - loss: 0.0858 - accuracy: 0.9685 - val_loss: 0.1000 - val_accuracy: 0.9616\n",
      "Epoch 2/30\n",
      "1257/1257 [==============================] - 5s 4ms/step - loss: 0.0857 - accuracy: 0.9676 - val_loss: 0.1034 - val_accuracy: 0.9616\n",
      "Epoch 3/30\n",
      "1257/1257 [==============================] - 4s 3ms/step - loss: 0.0876 - accuracy: 0.9676 - val_loss: 0.1026 - val_accuracy: 0.9616\n",
      "Epoch 4/30\n",
      "1257/1257 [==============================] - 4s 3ms/step - loss: 0.0819 - accuracy: 0.9689 - val_loss: 0.1145 - val_accuracy: 0.9554\n",
      "Epoch 5/30\n",
      "1257/1257 [==============================] - 4s 3ms/step - loss: 0.0801 - accuracy: 0.9701 - val_loss: 0.1114 - val_accuracy: 0.9591\n",
      "Epoch 6/30\n",
      "1257/1257 [==============================] - 4s 3ms/step - loss: 0.0775 - accuracy: 0.9714 - val_loss: 0.1297 - val_accuracy: 0.9529\n",
      "Epoch 7/30\n",
      "1257/1257 [==============================] - 4s 3ms/step - loss: 0.0794 - accuracy: 0.9710 - val_loss: 0.1461 - val_accuracy: 0.9487\n",
      "Epoch 8/30\n",
      "1257/1257 [==============================] - 4s 3ms/step - loss: 0.0750 - accuracy: 0.9718 - val_loss: 0.1401 - val_accuracy: 0.9501\n",
      "Epoch 9/30\n",
      "1257/1257 [==============================] - 4s 3ms/step - loss: 0.0757 - accuracy: 0.9713 - val_loss: 0.1129 - val_accuracy: 0.9577\n",
      "Epoch 10/30\n",
      "1257/1257 [==============================] - 4s 3ms/step - loss: 0.0712 - accuracy: 0.9740 - val_loss: 0.1251 - val_accuracy: 0.9568\n",
      "Epoch 11/30\n",
      "1257/1257 [==============================] - 4s 3ms/step - loss: 0.0715 - accuracy: 0.9732 - val_loss: 0.1276 - val_accuracy: 0.9541\n",
      "Epoch 12/30\n",
      "1257/1257 [==============================] - 4s 3ms/step - loss: 0.0698 - accuracy: 0.9741 - val_loss: 0.1407 - val_accuracy: 0.9513\n",
      "Epoch 13/30\n",
      "1257/1257 [==============================] - 4s 3ms/step - loss: 0.0697 - accuracy: 0.9736 - val_loss: 0.1372 - val_accuracy: 0.9512\n",
      "Epoch 14/30\n",
      "1257/1257 [==============================] - 4s 4ms/step - loss: 0.0681 - accuracy: 0.9746 - val_loss: 0.1331 - val_accuracy: 0.9519\n",
      "Epoch 15/30\n",
      "1257/1257 [==============================] - 4s 3ms/step - loss: 0.0659 - accuracy: 0.9753 - val_loss: 0.1516 - val_accuracy: 0.9473\n",
      "Epoch 16/30\n",
      "1257/1257 [==============================] - 4s 3ms/step - loss: 0.0668 - accuracy: 0.9749 - val_loss: 0.1592 - val_accuracy: 0.9448\n",
      "Epoch 17/30\n",
      "1257/1257 [==============================] - 7s 6ms/step - loss: 0.0633 - accuracy: 0.9757 - val_loss: 0.1414 - val_accuracy: 0.9500\n",
      "Epoch 18/30\n",
      "1257/1257 [==============================] - 6s 5ms/step - loss: 0.0598 - accuracy: 0.9778 - val_loss: 0.1364 - val_accuracy: 0.9513\n",
      "Epoch 19/30\n",
      "1257/1257 [==============================] - 4s 3ms/step - loss: 0.0601 - accuracy: 0.9775 - val_loss: 0.1674 - val_accuracy: 0.9463\n",
      "Epoch 20/30\n",
      "1257/1257 [==============================] - 5s 4ms/step - loss: 0.0626 - accuracy: 0.9753 - val_loss: 0.1631 - val_accuracy: 0.9440\n",
      "Epoch 21/30\n",
      "1257/1257 [==============================] - 5s 4ms/step - loss: 0.0605 - accuracy: 0.9778 - val_loss: 0.1562 - val_accuracy: 0.9482\n",
      "Epoch 22/30\n",
      "1257/1257 [==============================] - 4s 3ms/step - loss: 0.0597 - accuracy: 0.9778 - val_loss: 0.1927 - val_accuracy: 0.9421\n",
      "Epoch 23/30\n",
      "1257/1257 [==============================] - 5s 4ms/step - loss: 0.0609 - accuracy: 0.9771 - val_loss: 0.1575 - val_accuracy: 0.9502\n",
      "Epoch 24/30\n",
      "1257/1257 [==============================] - 5s 4ms/step - loss: 0.0551 - accuracy: 0.9799 - val_loss: 0.1668 - val_accuracy: 0.9455\n",
      "Epoch 25/30\n",
      "1257/1257 [==============================] - 4s 3ms/step - loss: 0.0555 - accuracy: 0.9798 - val_loss: 0.1789 - val_accuracy: 0.9427\n",
      "Epoch 26/30\n",
      "1257/1257 [==============================] - 4s 3ms/step - loss: 0.0556 - accuracy: 0.9797 - val_loss: 0.1768 - val_accuracy: 0.9450\n",
      "Epoch 27/30\n",
      "1257/1257 [==============================] - 4s 3ms/step - loss: 0.0520 - accuracy: 0.9798 - val_loss: 0.2029 - val_accuracy: 0.9361\n",
      "Epoch 28/30\n",
      "1257/1257 [==============================] - 4s 3ms/step - loss: 0.0527 - accuracy: 0.9806 - val_loss: 0.1887 - val_accuracy: 0.9437\n",
      "Epoch 29/30\n",
      "1257/1257 [==============================] - 4s 3ms/step - loss: 0.0546 - accuracy: 0.9797 - val_loss: 0.1761 - val_accuracy: 0.9434\n",
      "Epoch 30/30\n",
      "1257/1257 [==============================] - 4s 3ms/step - loss: 0.0497 - accuracy: 0.9818 - val_loss: 0.1850 - val_accuracy: 0.9434\n"
     ]
    }
   ],
   "source": [
    "# Train the model\n",
    "history = model.fit(train_images, train_labels, validation_split=0.33, epochs=30)"
   ]
  },
  {
   "cell_type": "code",
   "execution_count": 25,
   "metadata": {},
   "outputs": [
    {
     "name": "stdout",
     "output_type": "stream",
     "text": [
      "dict_keys(['loss', 'accuracy', 'val_loss', 'val_accuracy'])\n"
     ]
    }
   ],
   "source": [
    "print(history.history.keys())"
   ]
  },
  {
   "cell_type": "code",
   "execution_count": 35,
   "metadata": {},
   "outputs": [
    {
     "data": {
      "image/png": "[encoded data removed]",
      "text/plain": [
       "<Figure size 432x288 with 1 Axes>"
      ]
     },
     "metadata": {
      "needs_background": "light"
     },
     "output_type": "display_data"
    },
    {
     "data": {
      "text/plain": [
       "<Figure size 432x288 with 0 Axes>"
      ]
     },
     "metadata": {},
     "output_type": "display_data"
    }
   ],
   "source": [
    "# summarize history for accuracy\n",
    "plt.plot(history.history['accuracy'])\n",
    "plt.plot(history.history['val_accuracy'])\n",
    "plt.title('model accuracy')\n",
    "plt.ylabel('accuracy')\n",
    "plt.xlabel('epoch')\n",
    "plt.legend(['train', 'test'], loc='upper left')\n",
    "plt.show()\n",
    "plt.savefig('model accuracy')"
   ]
  },
  {
   "cell_type": "code",
   "execution_count": 34,
   "metadata": {},
   "outputs": [
    {
     "data": {
      "image/png": "[encoded data removed]",
      "text/plain": [
       "<Figure size 432x288 with 1 Axes>"
      ]
     },
     "metadata": {
      "needs_background": "light"
     },
     "output_type": "display_data"
    },
    {
     "data": {
      "text/plain": [
       "<Figure size 432x288 with 0 Axes>"
      ]
     },
     "metadata": {},
     "output_type": "display_data"
    }
   ],
   "source": [
    "# summarize history for loss\n",
    "plt.plot(history.history['loss'])\n",
    "plt.plot(history.history['val_loss'])\n",
    "plt.title('model loss')\n",
    "plt.ylabel('loss')\n",
    "plt.xlabel('epoch')\n",
    "plt.legend(['train', 'test'], loc='upper left')\n",
    "plt.show()\n",
    "plt.savefig('model loss')"
   ]
  },
  {
   "cell_type": "code",
   "execution_count": 17,
   "metadata": {},
   "outputs": [
    {
     "name": "stdout",
     "output_type": "stream",
     "text": [
      "313/313 - 1s - loss: 0.3470 - accuracy: 0.8798\n",
      "\n",
      "Test accuracy: 0.879800021648407\n"
     ]
    }
   ],
   "source": [
    "# Evaluate how the model performs on the test dataset (use accuracy)\n",
    "test_loss, test_acc = model.evaluate(test_images,  test_labels, verbose=2)\n",
    "\n",
    "print('\\nTest accuracy:', test_acc)"
   ]
  },
  {
   "cell_type": "code",
   "execution_count": 23,
   "metadata": {},
   "outputs": [
    {
     "data": {
      "image/png": "[encoded data removed]",
      "text/plain": [
       "<Figure size 432x288 with 1 Axes>"
      ]
     },
     "metadata": {
      "needs_background": "light"
     },
     "output_type": "display_data"
    }
   ],
   "source": [
    "plt.plot(test_acc)\n",
    "plt.title('test accuracy')\n",
    "plt.ylabel('accuracy')\n",
    "plt.xlabel('epoch')\n",
    "plt.legend('test')\n",
    "plt.show()"
   ]
  },
  {
   "cell_type": "code",
   "execution_count": null,
   "metadata": {},
   "outputs": [],
   "source": []
  }
 ],
 "metadata": {
  "kernelspec": {
   "display_name": "Python 3",
   "language": "python",
   "name": "python3"
  },
  "language_info": {
   "codemirror_mode": {
    "name": "ipython",
    "version": 3
   },
   "file_extension": ".py",
   "mimetype": "text/x-python",
   "name": "python",
   "nbconvert_exporter": "python",
   "pygments_lexer": "ipython3",
   "version": "3.8.5"
  }
 },
 "nbformat": 4,
 "nbformat_minor": 4
}
