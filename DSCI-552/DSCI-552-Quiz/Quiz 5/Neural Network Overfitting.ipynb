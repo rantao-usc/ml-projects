{
 "cells": [
  {
   "cell_type": "markdown",
   "metadata": {},
   "source": [
    "# Use Fashion MNIST dataset to illustrate this"
   ]
  },
  {
   "cell_type": "code",
   "execution_count": 53,
   "metadata": {},
   "outputs": [
    {
     "name": "stdout",
     "output_type": "stream",
     "text": [
      "2.4.1\n"
     ]
    }
   ],
   "source": [
    "# TensorFlow and tf.keras\n",
    "import tensorflow as tf\n",
    "\n",
    "# Helper libraries\n",
    "import numpy as np\n",
    "import matplotlib.pyplot as plt\n",
    "\n",
    "print(tf.__version__)"
   ]
  },
  {
   "cell_type": "markdown",
   "metadata": {},
   "source": [
    "# Import the Fashion MNIST dataset"
   ]
  },
  {
   "cell_type": "code",
   "execution_count": 54,
   "metadata": {},
   "outputs": [],
   "source": [
    "import ssl\n",
    "ssl._create_default_https_context = ssl._create_unverified_context\n",
    "\n",
    "fashion_mnist = tf.keras.datasets.fashion_mnist\n",
    "\n",
    "(train_images, train_labels), (test_images, test_labels) = fashion_mnist.load_data()"
   ]
  },
  {
   "cell_type": "code",
   "execution_count": 55,
   "metadata": {},
   "outputs": [],
   "source": [
    "class_names = ['T-shirt/top', 'Trouser', 'Pullover', 'Dress', 'Coat',\n",
    "               'Sandal', 'Shirt', 'Sneaker', 'Bag', 'Ankle boot']"
   ]
  },
  {
   "cell_type": "code",
   "execution_count": 56,
   "metadata": {},
   "outputs": [
    {
     "data": {
      "text/plain": [
       "(60000, 28, 28)"
      ]
     },
     "execution_count": 56,
     "metadata": {},
     "output_type": "execute_result"
    }
   ],
   "source": [
    "train_images.shape"
   ]
  },
  {
   "cell_type": "code",
   "execution_count": 57,
   "metadata": {},
   "outputs": [
    {
     "data": {
      "text/plain": [
       "60000"
      ]
     },
     "execution_count": 57,
     "metadata": {},
     "output_type": "execute_result"
    }
   ],
   "source": [
    "len(train_labels)"
   ]
  },
  {
   "cell_type": "code",
   "execution_count": 58,
   "metadata": {},
   "outputs": [
    {
     "data": {
      "text/plain": [
       "array([9, 0, 0, ..., 3, 0, 5], dtype=uint8)"
      ]
     },
     "execution_count": 58,
     "metadata": {},
     "output_type": "execute_result"
    }
   ],
   "source": [
    "train_labels"
   ]
  },
  {
   "cell_type": "code",
   "execution_count": 59,
   "metadata": {},
   "outputs": [
    {
     "data": {
      "text/plain": [
       "(10000, 28, 28)"
      ]
     },
     "execution_count": 59,
     "metadata": {},
     "output_type": "execute_result"
    }
   ],
   "source": [
    "test_images.shape"
   ]
  },
  {
   "cell_type": "code",
   "execution_count": 60,
   "metadata": {},
   "outputs": [
    {
     "data": {
      "text/plain": [
       "10000"
      ]
     },
     "execution_count": 60,
     "metadata": {},
     "output_type": "execute_result"
    }
   ],
   "source": [
    "len(test_labels)"
   ]
  },
  {
   "cell_type": "code",
   "execution_count": 61,
   "metadata": {},
   "outputs": [],
   "source": [
    "# Scale these values to a range of 0 to 1 \n",
    "# before feeding them to the neural network model. \n",
    "# To do so, divide the values by 255.\n",
    "train_images = train_images / 255.0\n",
    "\n",
    "test_images = test_images / 255.0"
   ]
  },
  {
   "cell_type": "markdown",
   "metadata": {},
   "source": [
    "# Build the model"
   ]
  },
  {
   "cell_type": "code",
   "execution_count": 62,
   "metadata": {},
   "outputs": [],
   "source": [
    "# Set up the layers\n",
    "model = tf.keras.Sequential([\n",
    "    tf.keras.layers.Flatten(input_shape=(28, 28)),\n",
    "    tf.keras.layers.Dense(128, activation='relu'),\n",
    "    tf.keras.layers.Dense(10)\n",
    "])"
   ]
  },
  {
   "cell_type": "code",
   "execution_count": 63,
   "metadata": {},
   "outputs": [],
   "source": [
    "# Compile the model\n",
    "model.compile(optimizer='adam',\n",
    "              loss=tf.keras.losses.SparseCategoricalCrossentropy(from_logits=True),\n",
    "              metrics=['accuracy'])"
   ]
  },
  {
   "cell_type": "code",
   "execution_count": 64,
   "metadata": {},
   "outputs": [
    {
     "name": "stdout",
     "output_type": "stream",
     "text": [
      "Epoch 1/100\n",
      "1257/1257 [==============================] - 4s 3ms/step - loss: 0.6830 - accuracy: 0.7658 - val_loss: 0.4368 - val_accuracy: 0.8469\n",
      "Epoch 2/100\n",
      "1257/1257 [==============================] - 3s 3ms/step - loss: 0.4082 - accuracy: 0.8528 - val_loss: 0.3844 - val_accuracy: 0.8629\n",
      "Epoch 3/100\n",
      "1257/1257 [==============================] - 3s 3ms/step - loss: 0.3580 - accuracy: 0.8716 - val_loss: 0.3647 - val_accuracy: 0.8651\n",
      "Epoch 4/100\n",
      "1257/1257 [==============================] - 4s 3ms/step - loss: 0.3262 - accuracy: 0.8806 - val_loss: 0.3515 - val_accuracy: 0.8738\n",
      "Epoch 5/100\n",
      "1257/1257 [==============================] - 4s 3ms/step - loss: 0.3110 - accuracy: 0.8834 - val_loss: 0.3375 - val_accuracy: 0.8799\n",
      "Epoch 6/100\n",
      "1257/1257 [==============================] - 4s 3ms/step - loss: 0.2890 - accuracy: 0.8915 - val_loss: 0.3288 - val_accuracy: 0.8806\n",
      "Epoch 7/100\n",
      "1257/1257 [==============================] - 4s 3ms/step - loss: 0.2719 - accuracy: 0.8977 - val_loss: 0.3354 - val_accuracy: 0.8795\n",
      "Epoch 8/100\n",
      "1257/1257 [==============================] - 4s 3ms/step - loss: 0.2619 - accuracy: 0.9052 - val_loss: 0.3273 - val_accuracy: 0.8831\n",
      "Epoch 9/100\n",
      "1257/1257 [==============================] - 4s 3ms/step - loss: 0.2473 - accuracy: 0.9099 - val_loss: 0.3239 - val_accuracy: 0.8848\n",
      "Epoch 10/100\n",
      "1257/1257 [==============================] - 4s 3ms/step - loss: 0.2423 - accuracy: 0.9088 - val_loss: 0.3370 - val_accuracy: 0.8819\n",
      "Epoch 11/100\n",
      "1257/1257 [==============================] - 5s 4ms/step - loss: 0.2364 - accuracy: 0.9117 - val_loss: 0.3115 - val_accuracy: 0.8900\n",
      "Epoch 12/100\n",
      "1257/1257 [==============================] - 6s 4ms/step - loss: 0.2232 - accuracy: 0.9158 - val_loss: 0.3103 - val_accuracy: 0.8915\n",
      "Epoch 13/100\n",
      "1257/1257 [==============================] - 6s 5ms/step - loss: 0.2206 - accuracy: 0.9159 - val_loss: 0.3429 - val_accuracy: 0.8804\n",
      "Epoch 14/100\n",
      "1257/1257 [==============================] - 7s 6ms/step - loss: 0.2062 - accuracy: 0.9225 - val_loss: 0.3315 - val_accuracy: 0.8882\n",
      "Epoch 15/100\n",
      "1257/1257 [==============================] - 4s 3ms/step - loss: 0.2013 - accuracy: 0.9242 - val_loss: 0.3505 - val_accuracy: 0.8841\n",
      "Epoch 16/100\n",
      "1257/1257 [==============================] - 4s 3ms/step - loss: 0.1947 - accuracy: 0.9274 - val_loss: 0.3327 - val_accuracy: 0.8881\n",
      "Epoch 17/100\n",
      "1257/1257 [==============================] - 5s 4ms/step - loss: 0.1888 - accuracy: 0.9296 - val_loss: 0.3269 - val_accuracy: 0.8886\n",
      "Epoch 18/100\n",
      "1257/1257 [==============================] - 3s 3ms/step - loss: 0.1814 - accuracy: 0.9341 - val_loss: 0.3319 - val_accuracy: 0.8899\n",
      "Epoch 19/100\n",
      "1257/1257 [==============================] - 3s 3ms/step - loss: 0.1758 - accuracy: 0.9336 - val_loss: 0.3357 - val_accuracy: 0.8896\n",
      "Epoch 20/100\n",
      "1257/1257 [==============================] - 4s 3ms/step - loss: 0.1713 - accuracy: 0.9359 - val_loss: 0.3324 - val_accuracy: 0.8921\n",
      "Epoch 21/100\n",
      "1257/1257 [==============================] - 4s 3ms/step - loss: 0.1670 - accuracy: 0.9366 - val_loss: 0.3448 - val_accuracy: 0.8890\n",
      "Epoch 22/100\n",
      "1257/1257 [==============================] - 4s 3ms/step - loss: 0.1627 - accuracy: 0.9377 - val_loss: 0.3439 - val_accuracy: 0.8913\n",
      "Epoch 23/100\n",
      "1257/1257 [==============================] - 3s 3ms/step - loss: 0.1594 - accuracy: 0.9383 - val_loss: 0.3393 - val_accuracy: 0.8947\n",
      "Epoch 24/100\n",
      "1257/1257 [==============================] - 4s 3ms/step - loss: 0.1548 - accuracy: 0.9429 - val_loss: 0.3527 - val_accuracy: 0.8904\n",
      "Epoch 25/100\n",
      "1257/1257 [==============================] - 3s 3ms/step - loss: 0.1506 - accuracy: 0.9436 - val_loss: 0.3535 - val_accuracy: 0.8941\n",
      "Epoch 26/100\n",
      "1257/1257 [==============================] - 6s 5ms/step - loss: 0.1465 - accuracy: 0.9444 - val_loss: 0.3668 - val_accuracy: 0.8928\n",
      "Epoch 27/100\n",
      "1257/1257 [==============================] - 4s 3ms/step - loss: 0.1423 - accuracy: 0.9466 - val_loss: 0.3613 - val_accuracy: 0.8921\n",
      "Epoch 28/100\n",
      "1257/1257 [==============================] - 5s 4ms/step - loss: 0.1413 - accuracy: 0.9470 - val_loss: 0.3750 - val_accuracy: 0.8925\n",
      "Epoch 29/100\n",
      "1257/1257 [==============================] - 4s 3ms/step - loss: 0.1320 - accuracy: 0.9508 - val_loss: 0.3842 - val_accuracy: 0.8922\n",
      "Epoch 30/100\n",
      "1257/1257 [==============================] - 4s 3ms/step - loss: 0.1349 - accuracy: 0.9492 - val_loss: 0.3809 - val_accuracy: 0.8930\n",
      "Epoch 31/100\n",
      "1257/1257 [==============================] - 4s 3ms/step - loss: 0.1257 - accuracy: 0.9531 - val_loss: 0.4065 - val_accuracy: 0.8859\n",
      "Epoch 32/100\n",
      "1257/1257 [==============================] - 4s 3ms/step - loss: 0.1268 - accuracy: 0.9520 - val_loss: 0.4018 - val_accuracy: 0.8878\n",
      "Epoch 33/100\n",
      "1257/1257 [==============================] - 3s 3ms/step - loss: 0.1256 - accuracy: 0.9530 - val_loss: 0.3927 - val_accuracy: 0.8904\n",
      "Epoch 34/100\n",
      "1257/1257 [==============================] - 4s 3ms/step - loss: 0.1200 - accuracy: 0.9547 - val_loss: 0.4195 - val_accuracy: 0.8866\n",
      "Epoch 35/100\n",
      "1257/1257 [==============================] - 4s 3ms/step - loss: 0.1134 - accuracy: 0.9573 - val_loss: 0.4264 - val_accuracy: 0.8880\n",
      "Epoch 36/100\n",
      "1257/1257 [==============================] - 4s 3ms/step - loss: 0.1140 - accuracy: 0.9585 - val_loss: 0.4261 - val_accuracy: 0.8877\n",
      "Epoch 37/100\n",
      "1257/1257 [==============================] - 3s 3ms/step - loss: 0.1107 - accuracy: 0.9585 - val_loss: 0.4420 - val_accuracy: 0.8889\n",
      "Epoch 38/100\n",
      "1257/1257 [==============================] - 4s 3ms/step - loss: 0.1082 - accuracy: 0.9583 - val_loss: 0.4283 - val_accuracy: 0.8901\n",
      "Epoch 39/100\n",
      "1257/1257 [==============================] - 3s 3ms/step - loss: 0.1056 - accuracy: 0.9601 - val_loss: 0.4448 - val_accuracy: 0.8845\n",
      "Epoch 40/100\n",
      "1257/1257 [==============================] - 3s 2ms/step - loss: 0.1098 - accuracy: 0.9589 - val_loss: 0.4500 - val_accuracy: 0.8894\n",
      "Epoch 41/100\n",
      "1257/1257 [==============================] - 3s 3ms/step - loss: 0.1016 - accuracy: 0.9623 - val_loss: 0.4629 - val_accuracy: 0.8887\n",
      "Epoch 42/100\n",
      "1257/1257 [==============================] - 3s 2ms/step - loss: 0.1020 - accuracy: 0.9622 - val_loss: 0.4426 - val_accuracy: 0.8929\n",
      "Epoch 43/100\n",
      "1257/1257 [==============================] - 3s 3ms/step - loss: 0.0946 - accuracy: 0.9642 - val_loss: 0.4611 - val_accuracy: 0.8929\n",
      "Epoch 44/100\n",
      "1257/1257 [==============================] - 3s 2ms/step - loss: 0.0923 - accuracy: 0.9658 - val_loss: 0.4576 - val_accuracy: 0.8888\n",
      "Epoch 45/100\n",
      "1257/1257 [==============================] - 3s 3ms/step - loss: 0.0970 - accuracy: 0.9648 - val_loss: 0.4752 - val_accuracy: 0.8938\n",
      "Epoch 46/100\n",
      "1257/1257 [==============================] - 4s 3ms/step - loss: 0.0888 - accuracy: 0.9651 - val_loss: 0.4830 - val_accuracy: 0.8894\n",
      "Epoch 47/100\n",
      "1257/1257 [==============================] - 4s 3ms/step - loss: 0.0960 - accuracy: 0.9655 - val_loss: 0.4731 - val_accuracy: 0.8902\n",
      "Epoch 48/100\n",
      "1257/1257 [==============================] - 3s 3ms/step - loss: 0.0882 - accuracy: 0.9665 - val_loss: 0.4813 - val_accuracy: 0.8910\n",
      "Epoch 49/100\n",
      "1257/1257 [==============================] - 3s 3ms/step - loss: 0.0845 - accuracy: 0.9682 - val_loss: 0.5100 - val_accuracy: 0.8884\n",
      "Epoch 50/100\n",
      "1257/1257 [==============================] - 3s 3ms/step - loss: 0.0824 - accuracy: 0.9692 - val_loss: 0.5014 - val_accuracy: 0.8904\n",
      "Epoch 51/100\n",
      "1257/1257 [==============================] - 3s 3ms/step - loss: 0.0829 - accuracy: 0.9682 - val_loss: 0.4984 - val_accuracy: 0.8884\n",
      "Epoch 52/100\n",
      "1257/1257 [==============================] - 3s 3ms/step - loss: 0.0824 - accuracy: 0.9697 - val_loss: 0.5259 - val_accuracy: 0.8888\n",
      "Epoch 53/100\n",
      "1257/1257 [==============================] - 4s 3ms/step - loss: 0.0755 - accuracy: 0.9734 - val_loss: 0.5276 - val_accuracy: 0.8835\n",
      "Epoch 54/100\n",
      "1257/1257 [==============================] - 3s 3ms/step - loss: 0.0757 - accuracy: 0.9712 - val_loss: 0.5260 - val_accuracy: 0.8869\n",
      "Epoch 55/100\n",
      "1257/1257 [==============================] - 3s 3ms/step - loss: 0.0740 - accuracy: 0.9726 - val_loss: 0.5018 - val_accuracy: 0.8892\n",
      "Epoch 56/100\n",
      "1257/1257 [==============================] - 3s 3ms/step - loss: 0.0745 - accuracy: 0.9728 - val_loss: 0.5384 - val_accuracy: 0.8912\n",
      "Epoch 57/100\n"
     ]
    },
    {
     "name": "stdout",
     "output_type": "stream",
     "text": [
      "1257/1257 [==============================] - 4s 3ms/step - loss: 0.0729 - accuracy: 0.9723 - val_loss: 0.5478 - val_accuracy: 0.8877\n",
      "Epoch 58/100\n",
      "1257/1257 [==============================] - 3s 3ms/step - loss: 0.0751 - accuracy: 0.9722 - val_loss: 0.5352 - val_accuracy: 0.8894\n",
      "Epoch 59/100\n",
      "1257/1257 [==============================] - 3s 2ms/step - loss: 0.0705 - accuracy: 0.9740 - val_loss: 0.5662 - val_accuracy: 0.8863\n",
      "Epoch 60/100\n",
      "1257/1257 [==============================] - 3s 3ms/step - loss: 0.0708 - accuracy: 0.9736 - val_loss: 0.5572 - val_accuracy: 0.8882\n",
      "Epoch 61/100\n",
      "1257/1257 [==============================] - 3s 3ms/step - loss: 0.0625 - accuracy: 0.9777 - val_loss: 0.5498 - val_accuracy: 0.8902\n",
      "Epoch 62/100\n",
      "1257/1257 [==============================] - 3s 3ms/step - loss: 0.0690 - accuracy: 0.9747 - val_loss: 0.5697 - val_accuracy: 0.8873\n",
      "Epoch 63/100\n",
      "1257/1257 [==============================] - 3s 3ms/step - loss: 0.0662 - accuracy: 0.9755 - val_loss: 0.5603 - val_accuracy: 0.8884\n",
      "Epoch 64/100\n",
      "1257/1257 [==============================] - 3s 3ms/step - loss: 0.0644 - accuracy: 0.9760 - val_loss: 0.5804 - val_accuracy: 0.8900\n",
      "Epoch 65/100\n",
      "1257/1257 [==============================] - 3s 3ms/step - loss: 0.0658 - accuracy: 0.9757 - val_loss: 0.5786 - val_accuracy: 0.8890\n",
      "Epoch 66/100\n",
      "1257/1257 [==============================] - 3s 3ms/step - loss: 0.0644 - accuracy: 0.9756 - val_loss: 0.5862 - val_accuracy: 0.8880\n",
      "Epoch 67/100\n",
      "1257/1257 [==============================] - 4s 3ms/step - loss: 0.0706 - accuracy: 0.9744 - val_loss: 0.5880 - val_accuracy: 0.8919\n",
      "Epoch 68/100\n",
      "1257/1257 [==============================] - 3s 3ms/step - loss: 0.0597 - accuracy: 0.9765 - val_loss: 0.6226 - val_accuracy: 0.8851\n",
      "Epoch 69/100\n",
      "1257/1257 [==============================] - 3s 3ms/step - loss: 0.0549 - accuracy: 0.9800 - val_loss: 0.6002 - val_accuracy: 0.8864\n",
      "Epoch 70/100\n",
      "1257/1257 [==============================] - 4s 3ms/step - loss: 0.0544 - accuracy: 0.9804 - val_loss: 0.6011 - val_accuracy: 0.8890\n",
      "Epoch 71/100\n",
      "1257/1257 [==============================] - 3s 3ms/step - loss: 0.0540 - accuracy: 0.9800 - val_loss: 0.6100 - val_accuracy: 0.8915\n",
      "Epoch 72/100\n",
      "1257/1257 [==============================] - 4s 3ms/step - loss: 0.0539 - accuracy: 0.9787 - val_loss: 0.6207 - val_accuracy: 0.8814\n",
      "Epoch 73/100\n",
      "1257/1257 [==============================] - 3s 3ms/step - loss: 0.0561 - accuracy: 0.9795 - val_loss: 0.6542 - val_accuracy: 0.8847\n",
      "Epoch 74/100\n",
      "1257/1257 [==============================] - 3s 3ms/step - loss: 0.0589 - accuracy: 0.9786 - val_loss: 0.6294 - val_accuracy: 0.8903\n",
      "Epoch 75/100\n",
      "1257/1257 [==============================] - 3s 2ms/step - loss: 0.0531 - accuracy: 0.9796 - val_loss: 0.6575 - val_accuracy: 0.8872\n",
      "Epoch 76/100\n",
      "1257/1257 [==============================] - 3s 2ms/step - loss: 0.0535 - accuracy: 0.9802 - val_loss: 0.6568 - val_accuracy: 0.8866\n",
      "Epoch 77/100\n",
      "1257/1257 [==============================] - 3s 3ms/step - loss: 0.0585 - accuracy: 0.9784 - val_loss: 0.6961 - val_accuracy: 0.8818\n",
      "Epoch 78/100\n",
      "1257/1257 [==============================] - 3s 3ms/step - loss: 0.0551 - accuracy: 0.9805 - val_loss: 0.6650 - val_accuracy: 0.8897\n",
      "Epoch 79/100\n",
      "1257/1257 [==============================] - 3s 2ms/step - loss: 0.0594 - accuracy: 0.9795 - val_loss: 0.6925 - val_accuracy: 0.8895\n",
      "Epoch 80/100\n",
      "1257/1257 [==============================] - 3s 3ms/step - loss: 0.0535 - accuracy: 0.9794 - val_loss: 0.6564 - val_accuracy: 0.8907\n",
      "Epoch 81/100\n",
      "1257/1257 [==============================] - 3s 2ms/step - loss: 0.0455 - accuracy: 0.9840 - val_loss: 0.6617 - val_accuracy: 0.8911\n",
      "Epoch 82/100\n",
      "1257/1257 [==============================] - 4s 3ms/step - loss: 0.0420 - accuracy: 0.9848 - val_loss: 0.6972 - val_accuracy: 0.8853\n",
      "Epoch 83/100\n",
      "1257/1257 [==============================] - 4s 3ms/step - loss: 0.0565 - accuracy: 0.9781 - val_loss: 0.6828 - val_accuracy: 0.8867\n",
      "Epoch 84/100\n",
      "1257/1257 [==============================] - 4s 3ms/step - loss: 0.0474 - accuracy: 0.9833 - val_loss: 0.6808 - val_accuracy: 0.8873\n",
      "Epoch 85/100\n",
      "1257/1257 [==============================] - 3s 3ms/step - loss: 0.0419 - accuracy: 0.9853 - val_loss: 0.6661 - val_accuracy: 0.8878\n",
      "Epoch 86/100\n",
      "1257/1257 [==============================] - 4s 3ms/step - loss: 0.0437 - accuracy: 0.9838 - val_loss: 0.7050 - val_accuracy: 0.8862\n",
      "Epoch 87/100\n",
      "1257/1257 [==============================] - 3s 3ms/step - loss: 0.0424 - accuracy: 0.9846 - val_loss: 0.6828 - val_accuracy: 0.8905\n",
      "Epoch 88/100\n",
      "1257/1257 [==============================] - 4s 3ms/step - loss: 0.0510 - accuracy: 0.9816 - val_loss: 0.7039 - val_accuracy: 0.8891\n",
      "Epoch 89/100\n",
      "1257/1257 [==============================] - 3s 2ms/step - loss: 0.0442 - accuracy: 0.9836 - val_loss: 0.6952 - val_accuracy: 0.8887\n",
      "Epoch 90/100\n",
      "1257/1257 [==============================] - 4s 3ms/step - loss: 0.0438 - accuracy: 0.9843 - val_loss: 0.7180 - val_accuracy: 0.8895\n",
      "Epoch 91/100\n",
      "1257/1257 [==============================] - 3s 3ms/step - loss: 0.0469 - accuracy: 0.9821 - val_loss: 0.7000 - val_accuracy: 0.8924\n",
      "Epoch 92/100\n",
      "1257/1257 [==============================] - 3s 3ms/step - loss: 0.0343 - accuracy: 0.9876 - val_loss: 0.7119 - val_accuracy: 0.8913\n",
      "Epoch 93/100\n",
      "1257/1257 [==============================] - 4s 3ms/step - loss: 0.0437 - accuracy: 0.9835 - val_loss: 0.7589 - val_accuracy: 0.8888\n",
      "Epoch 94/100\n",
      "1257/1257 [==============================] - 5s 4ms/step - loss: 0.0407 - accuracy: 0.9854 - val_loss: 0.6967 - val_accuracy: 0.8927\n",
      "Epoch 95/100\n",
      "1257/1257 [==============================] - 4s 3ms/step - loss: 0.0398 - accuracy: 0.9853 - val_loss: 0.7389 - val_accuracy: 0.8865\n",
      "Epoch 96/100\n",
      "1257/1257 [==============================] - 4s 3ms/step - loss: 0.0467 - accuracy: 0.9822 - val_loss: 0.7740 - val_accuracy: 0.8851\n",
      "Epoch 97/100\n",
      "1257/1257 [==============================] - 3s 3ms/step - loss: 0.0414 - accuracy: 0.9846 - val_loss: 0.7588 - val_accuracy: 0.8881\n",
      "Epoch 98/100\n",
      "1257/1257 [==============================] - 4s 3ms/step - loss: 0.0458 - accuracy: 0.9846 - val_loss: 0.7501 - val_accuracy: 0.8910\n",
      "Epoch 99/100\n",
      "1257/1257 [==============================] - 4s 3ms/step - loss: 0.0352 - accuracy: 0.9876 - val_loss: 0.7755 - val_accuracy: 0.8877\n",
      "Epoch 100/100\n",
      "1257/1257 [==============================] - 3s 3ms/step - loss: 0.0381 - accuracy: 0.9863 - val_loss: 0.7608 - val_accuracy: 0.8890\n"
     ]
    }
   ],
   "source": [
    "# Train the model\n",
    "history = model.fit(train_images, train_labels, validation_split=0.33, epochs=100)"
   ]
  },
  {
   "cell_type": "code",
   "execution_count": 65,
   "metadata": {},
   "outputs": [
    {
     "name": "stdout",
     "output_type": "stream",
     "text": [
      "dict_keys(['loss', 'accuracy', 'val_loss', 'val_accuracy'])\n"
     ]
    }
   ],
   "source": [
    "print(history.history.keys())"
   ]
  },
  {
   "cell_type": "code",
   "execution_count": 66,
   "metadata": {},
   "outputs": [
    {
     "data": {
      "image/png": "[encoded data removed]",
      "text/plain": [
       "<Figure size 432x288 with 1 Axes>"
      ]
     },
     "metadata": {
      "needs_background": "light"
     },
     "output_type": "display_data"
    }
   ],
   "source": [
    "# summarize history for accuracy\n",
    "plt.plot(history.history['accuracy'])\n",
    "plt.plot(history.history['val_accuracy'])\n",
    "plt.title('model accuracy')\n",
    "plt.ylabel('accuracy')\n",
    "plt.xlabel('epoch')\n",
    "plt.legend(['train', 'test'], loc='upper left')\n",
    "plt.savefig('model accuracy')"
   ]
  },
  {
   "cell_type": "code",
   "execution_count": 67,
   "metadata": {},
   "outputs": [
    {
     "data": {
      "image/png": "[encoded data removed]",
      "text/plain": [
       "<Figure size 432x288 with 1 Axes>"
      ]
     },
     "metadata": {
      "needs_background": "light"
     },
     "output_type": "display_data"
    }
   ],
   "source": [
    "# summarize history for loss\n",
    "plt.plot(history.history['loss'])\n",
    "plt.plot(history.history['val_loss'])\n",
    "plt.title('model loss')\n",
    "plt.ylabel('loss')\n",
    "plt.xlabel('epoch')\n",
    "plt.legend(['train', 'test'], loc='upper left')\n",
    "plt.savefig('model loss')"
   ]
  },
  {
   "cell_type": "code",
   "execution_count": 68,
   "metadata": {},
   "outputs": [
    {
     "name": "stdout",
     "output_type": "stream",
     "text": [
      "313/313 - 0s - loss: 0.8749 - accuracy: 0.8800\n",
      "\n",
      "Test accuracy: 0.8799999952316284\n"
     ]
    }
   ],
   "source": [
    "# Evaluate how the model performs on the test dataset (use accuracy)\n",
    "test_loss, test_acc = model.evaluate(test_images,  test_labels, verbose=2)\n",
    "\n",
    "print('\\nTest accuracy:', test_acc)"
   ]
  },
  {
   "cell_type": "code",
   "execution_count": null,
   "metadata": {},
   "outputs": [],
   "source": []
  }
 ],
 "metadata": {
  "kernelspec": {
   "display_name": "Python 3",
   "language": "python",
   "name": "python3"
  },
  "language_info": {
   "codemirror_mode": {
    "name": "ipython",
    "version": 3
   },
   "file_extension": ".py",
   "mimetype": "text/x-python",
   "name": "python",
   "nbconvert_exporter": "python",
   "pygments_lexer": "ipython3",
   "version": "3.8.5"
  }
 },
 "nbformat": 4,
 "nbformat_minor": 4
}
