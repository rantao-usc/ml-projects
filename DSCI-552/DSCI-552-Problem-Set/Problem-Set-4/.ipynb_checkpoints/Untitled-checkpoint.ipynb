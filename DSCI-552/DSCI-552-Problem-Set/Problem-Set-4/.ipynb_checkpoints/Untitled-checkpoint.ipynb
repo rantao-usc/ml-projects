{
 "cells": [
  {
   "cell_type": "markdown",
   "metadata": {},
   "source": [
    "# Load Dataset"
   ]
  },
  {
   "cell_type": "code",
   "execution_count": 1,
   "metadata": {},
   "outputs": [],
   "source": [
    "# Load dataset\n",
    "import numpy as np\n",
    "import pandas as pd\n",
    "\n",
    "# Load data of image\n",
    "images = np.load('datasets/ps4_trainvalid_images.npy')\n",
    "\n",
    "# Load data of label \n",
    "labels = pd.read_csv('datasets/ps4_trainvalid_labels.csv', index_col=0)"
   ]
  },
  {
   "cell_type": "code",
   "execution_count": 2,
   "metadata": {},
   "outputs": [
    {
     "data": {
      "text/plain": [
       "(13260, 64, 64, 1)"
      ]
     },
     "execution_count": 2,
     "metadata": {},
     "output_type": "execute_result"
    }
   ],
   "source": [
    "images.shape"
   ]
  },
  {
   "cell_type": "code",
   "execution_count": 3,
   "metadata": {},
   "outputs": [
    {
     "data": {
      "text/plain": [
       "array([0, 0, 0, ..., 0, 2, 0])"
      ]
     },
     "execution_count": 3,
     "metadata": {},
     "output_type": "execute_result"
    }
   ],
   "source": [
    "# reshape labels\n",
    "labels = sum(labels.values.tolist(),[])\n",
    "labels = np.array(labels)\n",
    "labels"
   ]
  },
  {
   "cell_type": "code",
   "execution_count": 27,
   "metadata": {},
   "outputs": [
    {
     "data": {
      "text/plain": [
       "Counter({0: 10506, 1: 2372, 2: 382})"
      ]
     },
     "execution_count": 27,
     "metadata": {},
     "output_type": "execute_result"
    }
   ],
   "source": [
    "import collections\n",
    "collections.Counter(labels)"
   ]
  },
  {
   "cell_type": "markdown",
   "metadata": {},
   "source": [
    "# Split Dataset "
   ]
  },
  {
   "cell_type": "code",
   "execution_count": 4,
   "metadata": {},
   "outputs": [],
   "source": [
    "# Split dataset\n",
    "from sklearn.model_selection import train_test_split\n",
    "# X_train, X_test, y_train, y_test = train_test_split(images, labels, test_size=0.33, random_state=42, shuffle=True)\n",
    "\n",
    "# Let test dataset size be 20%\n",
    "X_train, X_test, y_train, y_test = train_test_split(images, labels, test_size=0.2, random_state=1, shuffle=True)\n",
    "\n",
    "# Let training dataset and validation dataset size be 60% and 20%\n",
    "X_train, X_val, y_train, y_val = train_test_split(X_train, y_train, test_size=0.25, random_state=1) # 0.25 x 0.8 = 0.2"
   ]
  },
  {
   "cell_type": "code",
   "execution_count": 5,
   "metadata": {},
   "outputs": [
    {
     "data": {
      "text/plain": [
       "(7956, 64, 64, 1)"
      ]
     },
     "execution_count": 5,
     "metadata": {},
     "output_type": "execute_result"
    }
   ],
   "source": [
    "X_train.shape"
   ]
  },
  {
   "cell_type": "code",
   "execution_count": 6,
   "metadata": {},
   "outputs": [
    {
     "data": {
      "text/plain": [
       "Counter({0: 6270, 1: 1460, 2: 226})"
      ]
     },
     "execution_count": 6,
     "metadata": {},
     "output_type": "execute_result"
    }
   ],
   "source": [
    "# occur the occurance of each number in y_train\n",
    "import collections\n",
    "collections.Counter(y_train)"
   ]
  },
  {
   "cell_type": "markdown",
   "metadata": {},
   "source": [
    "# Data augmentation on training dataset"
   ]
  },
  {
   "cell_type": "code",
   "execution_count": 7,
   "metadata": {},
   "outputs": [],
   "source": [
    "from keras.preprocessing.image import ImageDataGenerator\n",
    "gen = ImageDataGenerator(rotation_range=10, width_shift_range=0.1, \n",
    "                         height_shift_range=0.1, shear_range=0.15, \n",
    "                         zoom_range=0.1, channel_shift_range=10, \n",
    "                         horizontal_flip=False)"
   ]
  },
  {
   "cell_type": "code",
   "execution_count": 8,
   "metadata": {},
   "outputs": [],
   "source": [
    "# get the index of 1 and 2 in y_train\n",
    "index_1 = np.where(y_train == 1) \n",
    "index_2 = np.where(y_train == 2) "
   ]
  },
  {
   "cell_type": "markdown",
   "metadata": {},
   "source": [
    "### Increase pictures with label 1"
   ]
  },
  {
   "cell_type": "code",
   "execution_count": 9,
   "metadata": {},
   "outputs": [
    {
     "data": {
      "text/plain": [
       "(1460, 64, 64, 1)"
      ]
     },
     "execution_count": 9,
     "metadata": {},
     "output_type": "execute_result"
    }
   ],
   "source": [
    "image_1 = images[index_1]\n",
    "image_1.shape"
   ]
  },
  {
   "cell_type": "code",
   "execution_count": 10,
   "metadata": {},
   "outputs": [],
   "source": [
    "aug_iter_1 = gen.flow(image_1)"
   ]
  },
  {
   "cell_type": "code",
   "execution_count": 11,
   "metadata": {},
   "outputs": [],
   "source": [
    "# numbers of generate images = numbers of label 0 - numbers of label 1\n",
    "num_gen_1 = collections.Counter(y_train)[0] - collections.Counter(y_train)[1]\n",
    "\n",
    "#generate image\n",
    "aug_images_1 = [next(aug_iter_1)[0].astype(np.uint8) for i in range(num_gen_1)]"
   ]
  },
  {
   "cell_type": "code",
   "execution_count": 12,
   "metadata": {},
   "outputs": [],
   "source": [
    "#append X_train with aug_image_1\n",
    "X_data = []\n",
    "for i in range(X_train.shape[0]):\n",
    "    X_data.append(X_train[i])\n",
    "for i in range(num_gen_1):\n",
    "    X_data.append(aug_images_1[i])"
   ]
  },
  {
   "cell_type": "code",
   "execution_count": 13,
   "metadata": {},
   "outputs": [
    {
     "data": {
      "text/plain": [
       "(12766, 64, 64, 1)"
      ]
     },
     "execution_count": 13,
     "metadata": {},
     "output_type": "execute_result"
    }
   ],
   "source": [
    "np.shape(X_data)"
   ]
  },
  {
   "cell_type": "code",
   "execution_count": 14,
   "metadata": {},
   "outputs": [
    {
     "data": {
      "text/plain": [
       "(12766,)"
      ]
     },
     "execution_count": 14,
     "metadata": {},
     "output_type": "execute_result"
    }
   ],
   "source": [
    "# append y_train with [1]\n",
    "for i in range(num_gen_1):\n",
    "    y_train = np.append(y_train, 1)\n",
    "y_train.shape"
   ]
  },
  {
   "cell_type": "code",
   "execution_count": 15,
   "metadata": {},
   "outputs": [
    {
     "data": {
      "text/plain": [
       "Counter({0: 6270, 1: 6270, 2: 226})"
      ]
     },
     "execution_count": 15,
     "metadata": {},
     "output_type": "execute_result"
    }
   ],
   "source": [
    "collections.Counter(y_train)"
   ]
  },
  {
   "cell_type": "code",
   "execution_count": 16,
   "metadata": {},
   "outputs": [],
   "source": [
    "# use same methods to create image 2\n",
    "image_2 = images[index_2]\n",
    "aug_iter_2 = gen.flow(image_2)\n",
    "\n",
    "# numbers of generate images\n",
    "num_gen_2 = collections.Counter(y_train)[0] - collections.Counter(y_train)[2]\n",
    "\n",
    "#generate image\n",
    "aug_images_2 = [next(aug_iter_2)[0].astype(np.uint8) for i in range(num_gen_2)]\n",
    "\n",
    "#append X_train with aug_image_2\n",
    "\n",
    "for i in range(num_gen_2):\n",
    "    X_data.append(aug_images_2[i])\n",
    "\n",
    "# append y_train with [2]\n",
    "for i in range(num_gen_2):\n",
    "    y_train = np.append(y_train, 2) "
   ]
  },
  {
   "cell_type": "code",
   "execution_count": 17,
   "metadata": {},
   "outputs": [
    {
     "data": {
      "text/plain": [
       "(18810, 64, 64, 1)"
      ]
     },
     "execution_count": 17,
     "metadata": {},
     "output_type": "execute_result"
    }
   ],
   "source": [
    "np.shape(X_data)"
   ]
  },
  {
   "cell_type": "code",
   "execution_count": 18,
   "metadata": {},
   "outputs": [
    {
     "data": {
      "text/plain": [
       "Counter({0: 6270, 1: 6270, 2: 6270})"
      ]
     },
     "execution_count": 18,
     "metadata": {},
     "output_type": "execute_result"
    }
   ],
   "source": [
    "collections.Counter(y_train)"
   ]
  },
  {
   "cell_type": "code",
   "execution_count": 19,
   "metadata": {},
   "outputs": [],
   "source": [
    "X_train = np.array(X_data)\n",
    "y_train = y_train"
   ]
  },
  {
   "cell_type": "markdown",
   "metadata": {},
   "source": [
    "# Using CNN to train the dataset"
   ]
  },
  {
   "cell_type": "code",
   "execution_count": 20,
   "metadata": {},
   "outputs": [
    {
     "name": "stdout",
     "output_type": "stream",
     "text": [
      "Epoch 1/100\n",
      "147/147 [==============================] - 58s 389ms/step - loss: 2.7722 - accuracy: 0.4204 - val_loss: 0.7088 - val_accuracy: 0.7221\n",
      "Epoch 2/100\n",
      "147/147 [==============================] - 56s 379ms/step - loss: 0.7688 - accuracy: 0.6309 - val_loss: 0.4722 - val_accuracy: 0.8318\n",
      "Epoch 3/100\n",
      "147/147 [==============================] - 55s 373ms/step - loss: 0.6847 - accuracy: 0.6781 - val_loss: 0.4730 - val_accuracy: 0.8311\n",
      "Epoch 4/100\n",
      "147/147 [==============================] - 55s 374ms/step - loss: 0.6340 - accuracy: 0.7059 - val_loss: 0.5049 - val_accuracy: 0.8115\n",
      "Epoch 5/100\n",
      "147/147 [==============================] - 55s 377ms/step - loss: 0.5818 - accuracy: 0.7368 - val_loss: 0.4759 - val_accuracy: 0.8277\n",
      "Epoch 6/100\n",
      "147/147 [==============================] - 55s 373ms/step - loss: 0.5477 - accuracy: 0.7577 - val_loss: 0.4576 - val_accuracy: 0.8375\n",
      "Epoch 7/100\n",
      "147/147 [==============================] - 56s 382ms/step - loss: 0.5195 - accuracy: 0.7690 - val_loss: 0.4964 - val_accuracy: 0.8137\n",
      "Epoch 8/100\n",
      "147/147 [==============================] - 56s 379ms/step - loss: 0.4952 - accuracy: 0.7853 - val_loss: 0.4786 - val_accuracy: 0.8224\n",
      "Epoch 9/100\n",
      "147/147 [==============================] - 57s 386ms/step - loss: 0.4698 - accuracy: 0.7960 - val_loss: 0.4962 - val_accuracy: 0.8107\n",
      "Epoch 10/100\n",
      "147/147 [==============================] - 55s 376ms/step - loss: 0.4375 - accuracy: 0.8158 - val_loss: 0.4346 - val_accuracy: 0.8424\n",
      "Epoch 11/100\n",
      "147/147 [==============================] - 55s 376ms/step - loss: 0.4426 - accuracy: 0.8129 - val_loss: 0.4065 - val_accuracy: 0.8578\n",
      "Epoch 12/100\n",
      "147/147 [==============================] - 56s 378ms/step - loss: 0.4101 - accuracy: 0.8281 - val_loss: 0.4991 - val_accuracy: 0.8032\n",
      "Epoch 13/100\n",
      "147/147 [==============================] - 57s 390ms/step - loss: 0.3864 - accuracy: 0.8340 - val_loss: 0.4871 - val_accuracy: 0.8277\n",
      "Epoch 14/100\n",
      "147/147 [==============================] - 56s 379ms/step - loss: 0.3645 - accuracy: 0.8462 - val_loss: 0.4675 - val_accuracy: 0.8303\n",
      "Epoch 15/100\n",
      "147/147 [==============================] - 55s 377ms/step - loss: 0.3448 - accuracy: 0.8605 - val_loss: 0.5228 - val_accuracy: 0.8069\n",
      "Epoch 16/100\n",
      "147/147 [==============================] - 55s 375ms/step - loss: 0.3434 - accuracy: 0.8613 - val_loss: 0.4888 - val_accuracy: 0.8303\n",
      "Epoch 17/100\n",
      "147/147 [==============================] - 56s 378ms/step - loss: 0.3159 - accuracy: 0.8707 - val_loss: 0.4814 - val_accuracy: 0.8281\n",
      "Epoch 18/100\n",
      "147/147 [==============================] - 56s 381ms/step - loss: 0.3068 - accuracy: 0.8781 - val_loss: 0.4984 - val_accuracy: 0.8311\n",
      "Epoch 19/100\n",
      "147/147 [==============================] - 57s 387ms/step - loss: 0.2801 - accuracy: 0.8899 - val_loss: 0.4644 - val_accuracy: 0.8492\n",
      "Epoch 20/100\n",
      "147/147 [==============================] - 55s 375ms/step - loss: 0.2702 - accuracy: 0.8942 - val_loss: 0.4787 - val_accuracy: 0.8488\n",
      "Epoch 21/100\n",
      "147/147 [==============================] - 56s 378ms/step - loss: 0.2563 - accuracy: 0.8968 - val_loss: 0.5435 - val_accuracy: 0.8345\n"
     ]
    }
   ],
   "source": [
    "# keras imports for the dataset and building our neural network\n",
    "# from keras.datasets import mnist\n",
    "import keras\n",
    "from keras.models import Sequential\n",
    "from keras.layers import Dense, Dropout, Conv2D, MaxPool2D, Flatten\n",
    "# from keras.utils import np_utils\n",
    "\n",
    "# to calculate accuracy\n",
    "from sklearn.metrics import accuracy_score\n",
    "\n",
    "# loading the dataset\n",
    "# (X_train, y_train), (X_test, y_test) = mnist.load_data()\n",
    "\n",
    "# building the input vector from the 64x64 pixels\n",
    "X_train = X_train.reshape(X_train.shape[0], 64, 64, 1)\n",
    "X_val = X_val.reshape(X_val.shape[0], 64, 64, 1)\n",
    "X_train = X_train.astype('float32')\n",
    "X_val = X_val.astype('float32')\n",
    "\n",
    "# normalizing the data to help with the training\n",
    "X_train /= 255\n",
    "X_val /= 255\n",
    "\n",
    "# # one-hot encoding using keras' numpy-related utilities\n",
    "\n",
    "# print(\"Shape before one-hot encoding: \", y_train.shape)\n",
    "# Y_train = np_utils.to_categorical(y_train)\n",
    "# Y_test = np_utils.to_categorical(y_test)\n",
    "# print(\"Shape after one-hot encoding: \", Y_train.shape)\n",
    "\n",
    "# building a linear stack of layers with the sequential model\n",
    "model = Sequential()\n",
    "\n",
    "# convolutional layer\n",
    "model.add(Conv2D(25, kernel_size=(3,3), strides=(1,1), padding='valid', activation='relu', input_shape=(64,64,1)))\n",
    "model.add(MaxPool2D(pool_size=(1,1)))\n",
    "model.add(Dropout(0.25)) # use dropout to avoid overfit\n",
    "\n",
    "# flatten output of conv\n",
    "model.add(Flatten())\n",
    "\n",
    "# hidden layer\n",
    "model.add(Dense(100, activation='relu'))\n",
    "\n",
    "# output layer\n",
    "model.add(Dense(10, activation='softmax'))\n",
    "\n",
    "# compiling the sequential model\n",
    "model.compile(loss='sparse_categorical_crossentropy', metrics=['accuracy'], optimizer='adam')\n",
    "\n",
    "# early stopping \n",
    "early_stopping_cb = keras.callbacks.EarlyStopping(patience=10, restore_best_weights=True)\n",
    "\n",
    "# training the model \n",
    "epochs= 100\n",
    "history = model.fit(X_train, y_train, batch_size=128, epochs=epochs, validation_data=(X_val, y_val), callbacks=early_stopping_cb)"
   ]
  },
  {
   "cell_type": "code",
   "execution_count": 22,
   "metadata": {},
   "outputs": [
    {
     "data": {
      "image/png": "[encoded data removed]",
      "text/plain": [
       "<Figure size 576x576 with 2 Axes>"
      ]
     },
     "metadata": {
      "needs_background": "light"
     },
     "output_type": "display_data"
    }
   ],
   "source": [
    "import matplotlib.pyplot as plt\n",
    "acc = history.history['accuracy']\n",
    "val_acc = history.history['val_accuracy']\n",
    "\n",
    "\n",
    "loss = history.history['loss']\n",
    "val_loss = history.history['val_loss']\n",
    "\n",
    "epochs_range = range(21)\n",
    "\n",
    "plt.figure(figsize=(8, 8))\n",
    "plt.subplot(1, 2, 1)\n",
    "plt.plot(epochs_range, acc, label='Training Accuracy')\n",
    "plt.plot(epochs_range, val_acc, label='Validation Accuracy')\n",
    "plt.legend(loc='lower right')\n",
    "plt.title('Training and Validation Accuracy')\n",
    "\n",
    "plt.subplot(1, 2, 2)\n",
    "plt.plot(epochs_range, loss, label='Training Loss')\n",
    "plt.plot(epochs_range, val_loss, label='Validation Loss')\n",
    "plt.legend(loc='upper right')\n",
    "plt.title('Training and Validation Loss')\n",
    "plt.show()"
   ]
  },
  {
   "cell_type": "code",
   "execution_count": 23,
   "metadata": {},
   "outputs": [
    {
     "name": "stdout",
     "output_type": "stream",
     "text": [
      "[[1523  483  105]\n",
      " [ 136  304   15]\n",
      " [  34   48    4]]\n",
      "              precision    recall  f1-score   support\n",
      "\n",
      "           0      0.900     0.721     0.801      2111\n",
      "           1      0.364     0.668     0.471       455\n",
      "           2      0.032     0.047     0.038        86\n",
      "\n",
      "    accuracy                          0.690      2652\n",
      "   macro avg      0.432     0.479     0.437      2652\n",
      "weighted avg      0.780     0.690     0.719      2652\n",
      "\n"
     ]
    }
   ],
   "source": [
    "from sklearn import metrics\n",
    "\n",
    "# True values\n",
    "y_true = y_test\n",
    "# Predicted values\n",
    "pred = model.predict(X_test, verbose=0)\n",
    "y_pred = np.argmax(pred, axis=-1)\n",
    "\n",
    "# Print the confusion matrix\n",
    "print(metrics.confusion_matrix(y_true, y_pred))\n",
    "\n",
    "# Print the precision and recall, among other metrics\n",
    "print(metrics.classification_report(y_true, y_pred, digits=3))"
   ]
  },
  {
   "cell_type": "markdown",
   "metadata": {},
   "source": [
    "# Add one extra conv layer"
   ]
  },
  {
   "cell_type": "code",
   "execution_count": 24,
   "metadata": {},
   "outputs": [
    {
     "name": "stdout",
     "output_type": "stream",
     "text": [
      "Epoch 1/100\n",
      "147/147 [==============================] - 161s 1s/step - loss: 1.5015 - accuracy: 0.3521 - val_loss: 0.7427 - val_accuracy: 0.6776\n",
      "Epoch 2/100\n",
      "147/147 [==============================] - 158s 1s/step - loss: 0.8848 - accuracy: 0.5475 - val_loss: 0.5596 - val_accuracy: 0.8073\n",
      "Epoch 3/100\n",
      "147/147 [==============================] - 156s 1s/step - loss: 0.8032 - accuracy: 0.6053 - val_loss: 0.5533 - val_accuracy: 0.7952\n",
      "Epoch 4/100\n",
      "147/147 [==============================] - 155s 1s/step - loss: 0.7352 - accuracy: 0.6443 - val_loss: 0.4771 - val_accuracy: 0.8326\n",
      "Epoch 5/100\n",
      "147/147 [==============================] - 159s 1s/step - loss: 0.6932 - accuracy: 0.6631 - val_loss: 0.4822 - val_accuracy: 0.8228\n",
      "Epoch 6/100\n",
      "147/147 [==============================] - 158s 1s/step - loss: 0.6292 - accuracy: 0.6986 - val_loss: 0.5659 - val_accuracy: 0.7922\n",
      "Epoch 7/100\n",
      "147/147 [==============================] - 157s 1s/step - loss: 0.5788 - accuracy: 0.7328 - val_loss: 0.5389 - val_accuracy: 0.8032\n",
      "Epoch 8/100\n",
      "147/147 [==============================] - 156s 1s/step - loss: 0.5296 - accuracy: 0.7586 - val_loss: 0.5359 - val_accuracy: 0.8054\n",
      "Epoch 9/100\n",
      "147/147 [==============================] - 157s 1s/step - loss: 0.4980 - accuracy: 0.7769 - val_loss: 0.3889 - val_accuracy: 0.8680\n",
      "Epoch 10/100\n",
      "147/147 [==============================] - 156s 1s/step - loss: 0.4566 - accuracy: 0.7937 - val_loss: 0.6609 - val_accuracy: 0.7764\n",
      "Epoch 11/100\n",
      "147/147 [==============================] - 157s 1s/step - loss: 0.4110 - accuracy: 0.8159 - val_loss: 0.4188 - val_accuracy: 0.8752\n",
      "Epoch 12/100\n",
      "147/147 [==============================] - 160s 1s/step - loss: 0.3703 - accuracy: 0.8432 - val_loss: 0.4795 - val_accuracy: 0.8363\n",
      "Epoch 13/100\n",
      "147/147 [==============================] - 189s 1s/step - loss: 0.3588 - accuracy: 0.8460 - val_loss: 0.4617 - val_accuracy: 0.8548\n",
      "Epoch 14/100\n",
      "147/147 [==============================] - 174s 1s/step - loss: 0.3232 - accuracy: 0.8624 - val_loss: 0.4538 - val_accuracy: 0.8710\n",
      "Epoch 15/100\n",
      "147/147 [==============================] - 165s 1s/step - loss: 0.2793 - accuracy: 0.8829 - val_loss: 0.4967 - val_accuracy: 0.8431\n",
      "Epoch 16/100\n",
      "147/147 [==============================] - 180s 1s/step - loss: 0.2641 - accuracy: 0.8912 - val_loss: 0.4825 - val_accuracy: 0.8560\n",
      "Epoch 17/100\n",
      "147/147 [==============================] - 174s 1s/step - loss: 0.2294 - accuracy: 0.9086 - val_loss: 0.4919 - val_accuracy: 0.8718\n",
      "Epoch 18/100\n",
      "147/147 [==============================] - 172s 1s/step - loss: 0.2077 - accuracy: 0.9179 - val_loss: 0.5567 - val_accuracy: 0.8703\n",
      "Epoch 19/100\n",
      "147/147 [==============================] - 172s 1s/step - loss: 0.1913 - accuracy: 0.9232 - val_loss: 0.5701 - val_accuracy: 0.8488\n"
     ]
    }
   ],
   "source": [
    "import keras\n",
    "from keras.models import Sequential\n",
    "from keras.layers import Dense, Dropout, Conv2D, MaxPool2D, Flatten\n",
    "# from keras.utils import np_utils\n",
    "\n",
    "# to calculate accuracy\n",
    "from sklearn.metrics import accuracy_score\n",
    "\n",
    "# building a linear stack of layers with the sequential model\n",
    "model_1 = Sequential()\n",
    "\n",
    "# convolutional layer\n",
    "model_1.add(Conv2D(25, kernel_size=(3,3), strides=(1,1), padding='valid', activation='relu', input_shape=(64,64,1)))\n",
    "model_1.add(MaxPool2D(pool_size=(1,1)))\n",
    "model_1.add(Dropout(0.25)) # use dropout to avoid overfit\n",
    "\n",
    "# one extra convolutional layer\n",
    "model_1.add(Conv2D(25, kernel_size=(3,3), strides=(1,1), padding='valid', activation='relu', input_shape=(64,64,1)))\n",
    "model_1.add(MaxPool2D(pool_size=(1,1)))\n",
    "model_1.add(Dropout(0.25)) # use dropout to avoid overfit\n",
    "\n",
    "# flatten output of conv\n",
    "model_1.add(Flatten())\n",
    "\n",
    "# hidden layer\n",
    "model_1.add(Dense(100, activation='relu'))\n",
    "\n",
    "# output layer\n",
    "model_1.add(Dense(10, activation='softmax'))\n",
    "\n",
    "# compiling the sequential model\n",
    "model_1.compile(loss='sparse_categorical_crossentropy', metrics=['accuracy'], optimizer='adam')\n",
    "\n",
    "# early stopping \n",
    "early_stopping_cb = keras.callbacks.EarlyStopping(patience=10, restore_best_weights=True)\n",
    "\n",
    "# training the model \n",
    "epochs= 100\n",
    "history_1 = model_1.fit(X_train, y_train, batch_size=128, epochs=epochs, validation_data=(X_val, y_val), callbacks=early_stopping_cb)"
   ]
  },
  {
   "cell_type": "code",
   "execution_count": 25,
   "metadata": {},
   "outputs": [
    {
     "data": {
      "image/png": "[encoded data removed]",
      "text/plain": [
       "<Figure size 576x576 with 2 Axes>"
      ]
     },
     "metadata": {
      "needs_background": "light"
     },
     "output_type": "display_data"
    }
   ],
   "source": [
    "import matplotlib.pyplot as plt\n",
    "acc = history_1.history['accuracy']\n",
    "val_acc = history_1.history['val_accuracy']\n",
    "\n",
    "\n",
    "loss = history_1.history['loss']\n",
    "val_loss = history_1.history['val_loss']\n",
    "\n",
    "epochs_range = range(19)\n",
    "\n",
    "plt.figure(figsize=(8, 8))\n",
    "plt.subplot(1, 2, 1)\n",
    "plt.plot(epochs_range, acc, label='Training Accuracy')\n",
    "plt.plot(epochs_range, val_acc, label='Validation Accuracy')\n",
    "plt.legend(loc='lower right')\n",
    "plt.title('Training and Validation Accuracy')\n",
    "\n",
    "plt.subplot(1, 2, 2)\n",
    "plt.plot(epochs_range, loss, label='Training Loss')\n",
    "plt.plot(epochs_range, val_loss, label='Validation Loss')\n",
    "plt.legend(loc='upper right')\n",
    "plt.title('Training and Validation Loss')\n",
    "plt.show()"
   ]
  },
  {
   "cell_type": "code",
   "execution_count": 26,
   "metadata": {},
   "outputs": [
    {
     "name": "stdout",
     "output_type": "stream",
     "text": [
      "[[1949   69   93]\n",
      " [ 200  218   37]\n",
      " [  49   30    7]]\n",
      "              precision    recall  f1-score   support\n",
      "\n",
      "           0      0.887     0.923     0.905      2111\n",
      "           1      0.688     0.479     0.565       455\n",
      "           2      0.051     0.081     0.063        86\n",
      "\n",
      "    accuracy                          0.820      2652\n",
      "   macro avg      0.542     0.495     0.511      2652\n",
      "weighted avg      0.825     0.820     0.819      2652\n",
      "\n"
     ]
    }
   ],
   "source": [
    "from sklearn import metrics\n",
    "\n",
    "# True values\n",
    "y_true = y_test\n",
    "# Predicted values\n",
    "pred = model_1.predict(X_test, verbose=0)\n",
    "y_pred = np.argmax(pred, axis=-1)\n",
    "\n",
    "# Print the confusion matrix\n",
    "print(metrics.confusion_matrix(y_true, y_pred))\n",
    "\n",
    "# Print the precision and recall, among other metrics\n",
    "print(metrics.classification_report(y_true, y_pred, digits=3))"
   ]
  },
  {
   "cell_type": "markdown",
   "metadata": {},
   "source": [
    "# Kaggle "
   ]
  },
  {
   "cell_type": "code",
   "execution_count": 28,
   "metadata": {},
   "outputs": [],
   "source": [
    "# Load dataset\n",
    "dataset = np.load('datasets/ps4_kaggle_images.npy')"
   ]
  },
  {
   "cell_type": "code",
   "execution_count": 31,
   "metadata": {},
   "outputs": [],
   "source": [
    "# predicted values\n",
    "predicted = model_1.predict(dataset, verbose=0)\n",
    "predicted_values = np.argmax(predicted, axis=-1)"
   ]
  },
  {
   "cell_type": "code",
   "execution_count": 32,
   "metadata": {},
   "outputs": [
    {
     "data": {
      "text/plain": [
       "array([0, 1, 0, 1, 0, 1, 0, 0, 1, 0, 0, 0, 0, 2, 0, 1, 0, 0, 0, 1, 0, 0,\n",
       "       2, 1, 1, 1, 0, 0, 0, 0, 0, 1, 0, 0, 0, 0, 0, 2, 0, 1, 1, 0, 0, 0,\n",
       "       0, 0, 0, 0, 0, 1, 1, 0, 0, 0, 0, 1, 1, 0, 1, 1, 1, 0, 2, 1, 2, 0,\n",
       "       0, 0, 1, 0, 0, 0, 0, 1, 2, 0, 0, 0, 0, 0, 0, 0, 0, 1, 0, 0, 0, 0,\n",
       "       0, 0, 0, 0, 2, 0, 0, 0, 0, 0, 0, 0, 0, 0, 0, 0, 0, 1, 0, 1, 1, 0,\n",
       "       0, 1, 2, 1, 0, 2, 1, 0, 0, 0, 1, 1, 0, 0, 2, 1, 1, 0, 0, 0, 0, 1,\n",
       "       2, 1, 0, 1, 0, 1, 0, 0, 1, 0, 0, 0, 1, 0, 0, 0, 0, 1, 0, 1, 0, 0,\n",
       "       0, 0, 0, 0, 2, 0, 0, 2, 1, 1, 0, 0, 0, 1, 0, 0, 0, 0, 0, 0, 0, 0,\n",
       "       0, 0, 0, 1, 1, 1, 0, 0, 1, 0, 0, 0, 0, 0, 0, 0, 0, 0, 0, 2, 0, 1,\n",
       "       0, 0, 0, 0, 1, 1, 0, 1, 0, 0, 0, 0, 0, 0, 1, 2, 0, 0, 1, 1, 1, 1,\n",
       "       0, 0, 1, 1, 0, 2, 0, 0, 1, 0, 0, 0, 0, 0, 1, 0, 0, 0, 1, 1, 1, 1,\n",
       "       1, 0, 0, 0, 0, 0, 1, 2, 0, 0, 0, 0, 2, 0, 1, 0, 0, 0, 0, 1, 1, 2,\n",
       "       0, 0, 1, 2, 1, 0, 0, 1, 1, 0, 0, 1, 0, 1, 0, 0, 1, 1, 0, 0, 0, 0,\n",
       "       0, 0, 0, 0, 1, 1, 0, 0, 0, 1, 1, 1, 1, 2])"
      ]
     },
     "execution_count": 32,
     "metadata": {},
     "output_type": "execute_result"
    }
   ],
   "source": [
    "predicted_values"
   ]
  },
  {
   "cell_type": "code",
   "execution_count": 33,
   "metadata": {},
   "outputs": [],
   "source": [
    "import csv\n",
    "with open('output.csv', 'w', newline='') as file:\n",
    "    writer = csv.writer(file)\n",
    "    writer.writerow([\"Id\", \"Predicted\"])\n",
    "    \n",
    "    i = 0\n",
    "    for ele in predicted_values:\n",
    "        \n",
    "        writer.writerow([i, ele])\n",
    "        \n",
    "        i += 1"
   ]
  },
  {
   "cell_type": "code",
   "execution_count": null,
   "metadata": {},
   "outputs": [],
   "source": []
  }
 ],
 "metadata": {
  "kernelspec": {
   "display_name": "Python 3",
   "language": "python",
   "name": "python3"
  },
  "language_info": {
   "codemirror_mode": {
    "name": "ipython",
    "version": 3
   },
   "file_extension": ".py",
   "mimetype": "text/x-python",
   "name": "python",
   "nbconvert_exporter": "python",
   "pygments_lexer": "ipython3",
   "version": "3.8.5"
  }
 },
 "nbformat": 4,
 "nbformat_minor": 4
}
