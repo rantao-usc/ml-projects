{
 "cells": [
  {
   "cell_type": "markdown",
   "metadata": {},
   "source": [
    "# Load dataset"
   ]
  },
  {
   "cell_type": "code",
   "execution_count": 2,
   "metadata": {},
   "outputs": [],
   "source": [
    "import pandas as pd\n",
    "import numpy as np\n",
    "import matplotlib.pyplot as plt"
   ]
  },
  {
   "cell_type": "code",
   "execution_count": 178,
   "metadata": {},
   "outputs": [],
   "source": [
    "from keras.models import Sequential\n",
    "from keras.layers import Dense\n",
    "from sklearn.metrics import mean_squared_error"
   ]
  },
  {
   "cell_type": "code",
   "execution_count": 179,
   "metadata": {},
   "outputs": [],
   "source": [
    "from keras.layers import LSTM, Flatten"
   ]
  },
  {
   "cell_type": "code",
   "execution_count": 3,
   "metadata": {},
   "outputs": [],
   "source": [
    "# Load dataset\n",
    "df = pd.read_csv(\"datasets/ps6_trainvalid.csv\")"
   ]
  },
  {
   "cell_type": "code",
   "execution_count": 181,
   "metadata": {},
   "outputs": [
    {
     "data": {
      "text/html": [
       "<div>\n",
       "<style scoped>\n",
       "    .dataframe tbody tr th:only-of-type {\n",
       "        vertical-align: middle;\n",
       "    }\n",
       "\n",
       "    .dataframe tbody tr th {\n",
       "        vertical-align: top;\n",
       "    }\n",
       "\n",
       "    .dataframe thead th {\n",
       "        text-align: right;\n",
       "    }\n",
       "</style>\n",
       "<table border=\"1\" class=\"dataframe\">\n",
       "  <thead>\n",
       "    <tr style=\"text-align: right;\">\n",
       "      <th></th>\n",
       "      <th>datetime</th>\n",
       "      <th>temperature</th>\n",
       "      <th>humidity</th>\n",
       "      <th>pressure</th>\n",
       "      <th>weather</th>\n",
       "      <th>wind_direction</th>\n",
       "      <th>wind_speed</th>\n",
       "    </tr>\n",
       "  </thead>\n",
       "  <tbody>\n",
       "    <tr>\n",
       "      <th>0</th>\n",
       "      <td>2012-10-01 12:00:00</td>\n",
       "      <td>NaN</td>\n",
       "      <td>NaN</td>\n",
       "      <td>NaN</td>\n",
       "      <td>NaN</td>\n",
       "      <td>NaN</td>\n",
       "      <td>NaN</td>\n",
       "    </tr>\n",
       "    <tr>\n",
       "      <th>1</th>\n",
       "      <td>2012-10-01 13:00:00</td>\n",
       "      <td>291.870000</td>\n",
       "      <td>88.0</td>\n",
       "      <td>1013.0</td>\n",
       "      <td>mist</td>\n",
       "      <td>0.0</td>\n",
       "      <td>0.0</td>\n",
       "    </tr>\n",
       "    <tr>\n",
       "      <th>2</th>\n",
       "      <td>2012-10-01 14:00:00</td>\n",
       "      <td>291.868186</td>\n",
       "      <td>88.0</td>\n",
       "      <td>1013.0</td>\n",
       "      <td>sky is clear</td>\n",
       "      <td>0.0</td>\n",
       "      <td>0.0</td>\n",
       "    </tr>\n",
       "    <tr>\n",
       "      <th>3</th>\n",
       "      <td>2012-10-01 15:00:00</td>\n",
       "      <td>291.862844</td>\n",
       "      <td>88.0</td>\n",
       "      <td>1013.0</td>\n",
       "      <td>sky is clear</td>\n",
       "      <td>0.0</td>\n",
       "      <td>0.0</td>\n",
       "    </tr>\n",
       "    <tr>\n",
       "      <th>4</th>\n",
       "      <td>2012-10-01 16:00:00</td>\n",
       "      <td>291.857503</td>\n",
       "      <td>88.0</td>\n",
       "      <td>1013.0</td>\n",
       "      <td>sky is clear</td>\n",
       "      <td>0.0</td>\n",
       "      <td>0.0</td>\n",
       "    </tr>\n",
       "  </tbody>\n",
       "</table>\n",
       "</div>"
      ],
      "text/plain": [
       "              datetime  temperature  humidity  pressure       weather  \\\n",
       "0  2012-10-01 12:00:00          NaN       NaN       NaN           NaN   \n",
       "1  2012-10-01 13:00:00   291.870000      88.0    1013.0          mist   \n",
       "2  2012-10-01 14:00:00   291.868186      88.0    1013.0  sky is clear   \n",
       "3  2012-10-01 15:00:00   291.862844      88.0    1013.0  sky is clear   \n",
       "4  2012-10-01 16:00:00   291.857503      88.0    1013.0  sky is clear   \n",
       "\n",
       "   wind_direction  wind_speed  \n",
       "0             NaN         NaN  \n",
       "1             0.0         0.0  \n",
       "2             0.0         0.0  \n",
       "3             0.0         0.0  \n",
       "4             0.0         0.0  "
      ]
     },
     "execution_count": 181,
     "metadata": {},
     "output_type": "execute_result"
    }
   ],
   "source": [
    "df.head()"
   ]
  },
  {
   "cell_type": "code",
   "execution_count": 4,
   "metadata": {},
   "outputs": [
    {
     "data": {
      "text/plain": [
       "(45013, 7)"
      ]
     },
     "execution_count": 4,
     "metadata": {},
     "output_type": "execute_result"
    }
   ],
   "source": [
    "df.shape"
   ]
  },
  {
   "cell_type": "code",
   "execution_count": 56,
   "metadata": {},
   "outputs": [
    {
     "name": "stdout",
     "output_type": "stream",
     "text": [
      "datetime          datetime64[ns]\n",
      "temperature              float64\n",
      "humidity                 float64\n",
      "pressure                 float64\n",
      "weather                   object\n",
      "wind_direction           float64\n",
      "wind_speed               float64\n",
      "dtype: object\n"
     ]
    }
   ],
   "source": [
    "df['datetime'] = pd.to_datetime(df['datetime'])\n",
    "print(df.dtypes)"
   ]
  },
  {
   "cell_type": "markdown",
   "metadata": {},
   "source": [
    "# First using only temperature to predict 'future'"
   ]
  },
  {
   "cell_type": "markdown",
   "metadata": {},
   "source": [
    "## The model which can only forecast the 'next' hour"
   ]
  },
  {
   "cell_type": "markdown",
   "metadata": {},
   "source": [
    "### Preprocessing"
   ]
  },
  {
   "cell_type": "code",
   "execution_count": 182,
   "metadata": {},
   "outputs": [
    {
     "data": {
      "text/plain": [
       "(3, 7)"
      ]
     },
     "execution_count": 182,
     "metadata": {},
     "output_type": "execute_result"
    }
   ],
   "source": [
    "# Dealing with missing data\n",
    "missing_data = df[pd.isnull(df[\"temperature\"])]\n",
    "missing_data.shape"
   ]
  },
  {
   "cell_type": "code",
   "execution_count": 183,
   "metadata": {},
   "outputs": [],
   "source": [
    "# drop those data\n",
    "df = df.dropna()"
   ]
  },
  {
   "cell_type": "code",
   "execution_count": 59,
   "metadata": {},
   "outputs": [],
   "source": [
    "# plot the evolution of temperature over time\n",
    "def plot_series(time, series, format=\"-\", start=0, end=None, label=None):\n",
    "    plt.plot(time[start:end], series[start:end], format, label=label)\n",
    "    plt.xlabel(\"Time\")\n",
    "    plt.ylabel(\"Value\")\n",
    "    if label:\n",
    "        plt.legend(fontsize=14)\n",
    "    plt.grid(True)"
   ]
  },
  {
   "cell_type": "code",
   "execution_count": 89,
   "metadata": {},
   "outputs": [
    {
     "data": {
      "image/png": "[encoded data removed]",
      "text/plain": [
       "<Figure size 432x288 with 1 Axes>"
      ]
     },
     "metadata": {
      "needs_background": "light"
     },
     "output_type": "display_data"
    }
   ],
   "source": [
    "time = df['datetime']\n",
    "temp_values = df['temperature'].values \n",
    "plot_series(time, temp_values)"
   ]
  },
  {
   "cell_type": "code",
   "execution_count": 184,
   "metadata": {},
   "outputs": [
    {
     "data": {
      "text/plain": [
       "(44671,)"
      ]
     },
     "execution_count": 184,
     "metadata": {},
     "output_type": "execute_result"
    }
   ],
   "source": [
    "time.shape"
   ]
  },
  {
   "cell_type": "code",
   "execution_count": 185,
   "metadata": {},
   "outputs": [
    {
     "data": {
      "text/plain": [
       "(44671,)"
      ]
     },
     "execution_count": 185,
     "metadata": {},
     "output_type": "execute_result"
    }
   ],
   "source": [
    "temp_values.shape"
   ]
  },
  {
   "cell_type": "code",
   "execution_count": 186,
   "metadata": {},
   "outputs": [
    {
     "data": {
      "text/plain": [
       "array([291.87      , 291.86818552, 291.86284446, ..., 296.51      ,\n",
       "       297.09      , 296.69      ])"
      ]
     },
     "execution_count": 186,
     "metadata": {},
     "output_type": "execute_result"
    }
   ],
   "source": [
    "temp_values"
   ]
  },
  {
   "cell_type": "code",
   "execution_count": 5,
   "metadata": {},
   "outputs": [
    {
     "name": "stdout",
     "output_type": "stream",
     "text": [
      "[10 20 30] 40\n",
      "[20 30 40] 50\n",
      "[30 40 50] 60\n",
      "[40 50 60] 70\n",
      "[50 60 70] 80\n",
      "[60 70 80] 90\n"
     ]
    }
   ],
   "source": [
    "# univariate data preparation\n",
    "from numpy import array\n",
    "\n",
    "# split a univariate sequence into samples\n",
    "def split_sequence(sequence, n_steps):\n",
    "    X, y = list(), list()\n",
    "    for i in range(len(sequence)):\n",
    "        # find the end of this pattern\n",
    "        end_ix = i + n_steps\n",
    "        # check if we are beyond the sequence\n",
    "        if end_ix > len(sequence)-1:\n",
    "            break\n",
    "        # gather input and output parts of the pattern\n",
    "        seq_x, seq_y = sequence[i:end_ix], sequence[end_ix]\n",
    "        X.append(seq_x)\n",
    "        y.append(seq_y)\n",
    "    return array(X), array(y)\n",
    "\n",
    "# define input sequence\n",
    "raw_seq = [10, 20, 30, 40, 50, 60, 70, 80, 90]\n",
    "# choose a number of time steps\n",
    "n_steps = 3\n",
    "# split into samples\n",
    "X, y = split_sequence(raw_seq, n_steps)\n",
    "# summarize the data\n",
    "for i in range(len(X)):\n",
    "\tprint(X[i], y[i])"
   ]
  },
  {
   "cell_type": "code",
   "execution_count": 64,
   "metadata": {},
   "outputs": [],
   "source": [
    "n_steps = 24 * 5\n",
    "\n",
    "X, y = split_sequence(temp_values, n_steps)"
   ]
  },
  {
   "cell_type": "code",
   "execution_count": 65,
   "metadata": {},
   "outputs": [
    {
     "data": {
      "text/plain": [
       "(44551, 120)"
      ]
     },
     "execution_count": 65,
     "metadata": {},
     "output_type": "execute_result"
    }
   ],
   "source": [
    "X.shape"
   ]
  },
  {
   "cell_type": "code",
   "execution_count": 66,
   "metadata": {},
   "outputs": [
    {
     "data": {
      "text/plain": [
       "(44551,)"
      ]
     },
     "execution_count": 66,
     "metadata": {},
     "output_type": "execute_result"
    }
   ],
   "source": [
    "y.shape"
   ]
  },
  {
   "cell_type": "code",
   "execution_count": 67,
   "metadata": {},
   "outputs": [
    {
     "name": "stdout",
     "output_type": "stream",
     "text": [
      "Shape of training X: (31185, 120)\n",
      "Shape of validation X: (13366, 120)\n",
      "Shape of training y: (31185,)\n",
      "Shape of validation y: (13366,)\n"
     ]
    }
   ],
   "source": [
    "# Split training and validation set\n",
    "n = len(X)\n",
    "train_X = X[0:int(n*0.7),:]\n",
    "val_X = X[int(n*0.7):,:]\n",
    "\n",
    "train_y = y[0:int(n*0.7)]\n",
    "val_y = y[int(n*0.7):]\n",
    "\n",
    "print(\"Shape of training X: {}\".format(train_X.shape))\n",
    "print(\"Shape of validation X: {}\".format(val_X.shape))\n",
    "\n",
    "print(\"Shape of training y: {}\".format(train_y.shape))\n",
    "print(\"Shape of validation y: {}\".format(val_y.shape))"
   ]
  },
  {
   "cell_type": "markdown",
   "metadata": {},
   "source": [
    "## Linear Model"
   ]
  },
  {
   "cell_type": "code",
   "execution_count": 68,
   "metadata": {},
   "outputs": [
    {
     "name": "stdout",
     "output_type": "stream",
     "text": [
      "Model: \"sequential_15\"\n",
      "_________________________________________________________________\n",
      "Layer (type)                 Output Shape              Param #   \n",
      "=================================================================\n",
      "dense_20 (Dense)             (None, 8)                 968       \n",
      "_________________________________________________________________\n",
      "dense_21 (Dense)             (None, 1)                 9         \n",
      "=================================================================\n",
      "Total params: 977\n",
      "Trainable params: 977\n",
      "Non-trainable params: 0\n",
      "_________________________________________________________________\n",
      "None\n"
     ]
    }
   ],
   "source": [
    "# define model\n",
    "Linear_model = Sequential()\n",
    "Linear_model.add(Dense(8, input_shape =[n_steps], activation='relu'))\n",
    "Linear_model.add(Dense(1))\n",
    "Linear_model.compile(loss='mse', optimizer='adam')\n",
    "print(Linear_model.summary())"
   ]
  },
  {
   "cell_type": "code",
   "execution_count": 69,
   "metadata": {},
   "outputs": [
    {
     "name": "stdout",
     "output_type": "stream",
     "text": [
      "Epoch 1/100\n",
      "780/780 - 1s - loss: 75.7868 - val_loss: 31.2741\n",
      "Epoch 2/100\n",
      "780/780 - 1s - loss: 27.8272 - val_loss: 17.9935\n",
      "Epoch 3/100\n",
      "780/780 - 1s - loss: 18.7470 - val_loss: 13.7391\n",
      "Epoch 4/100\n",
      "780/780 - 1s - loss: 15.9092 - val_loss: 10.0327\n",
      "Epoch 5/100\n",
      "780/780 - 1s - loss: 15.0621 - val_loss: 9.2044\n",
      "Epoch 6/100\n",
      "780/780 - 1s - loss: 14.0138 - val_loss: 19.8028\n",
      "Epoch 7/100\n",
      "780/780 - 1s - loss: 14.2355 - val_loss: 9.9072\n",
      "Epoch 8/100\n",
      "780/780 - 1s - loss: 12.0056 - val_loss: 9.6805\n",
      "Epoch 9/100\n",
      "780/780 - 1s - loss: 12.6859 - val_loss: 11.3424\n",
      "Epoch 10/100\n",
      "780/780 - 1s - loss: 10.7037 - val_loss: 6.7480\n",
      "Epoch 11/100\n",
      "780/780 - 1s - loss: 10.3755 - val_loss: 7.6054\n",
      "Epoch 12/100\n",
      "780/780 - 1s - loss: 10.3465 - val_loss: 6.2010\n",
      "Epoch 13/100\n",
      "780/780 - 1s - loss: 9.4626 - val_loss: 7.3828\n",
      "Epoch 14/100\n",
      "780/780 - 2s - loss: 8.6787 - val_loss: 13.1639\n",
      "Epoch 15/100\n",
      "780/780 - 1s - loss: 8.6375 - val_loss: 7.3465\n",
      "Epoch 16/100\n",
      "780/780 - 1s - loss: 9.5316 - val_loss: 5.6560\n",
      "Epoch 17/100\n",
      "780/780 - 1s - loss: 8.4118 - val_loss: 10.4066\n",
      "Epoch 18/100\n",
      "780/780 - 1s - loss: 8.5914 - val_loss: 6.0759\n",
      "Epoch 19/100\n",
      "780/780 - 1s - loss: 7.7873 - val_loss: 9.2633\n",
      "Epoch 20/100\n",
      "780/780 - 1s - loss: 7.3060 - val_loss: 6.8154\n",
      "Epoch 21/100\n",
      "780/780 - 1s - loss: 7.7458 - val_loss: 13.4685\n",
      "Epoch 22/100\n",
      "780/780 - 1s - loss: 7.3608 - val_loss: 6.5037\n",
      "Epoch 23/100\n",
      "780/780 - 1s - loss: 7.1172 - val_loss: 10.5357\n",
      "Epoch 24/100\n",
      "780/780 - 1s - loss: 6.9197 - val_loss: 4.0394\n",
      "Epoch 25/100\n",
      "780/780 - 1s - loss: 6.7584 - val_loss: 4.2090\n",
      "Epoch 26/100\n",
      "780/780 - 1s - loss: 6.6152 - val_loss: 4.6444\n",
      "Epoch 27/100\n",
      "780/780 - 1s - loss: 6.2848 - val_loss: 4.1816\n",
      "Epoch 28/100\n",
      "780/780 - 1s - loss: 6.3093 - val_loss: 7.1784\n",
      "Epoch 29/100\n",
      "780/780 - 1s - loss: 6.4743 - val_loss: 3.9759\n",
      "Epoch 30/100\n",
      "780/780 - 1s - loss: 5.7625 - val_loss: 3.5742\n",
      "Epoch 31/100\n",
      "780/780 - 1s - loss: 5.7729 - val_loss: 9.4817\n",
      "Epoch 32/100\n",
      "780/780 - 1s - loss: 5.6100 - val_loss: 3.5398\n",
      "Epoch 33/100\n",
      "780/780 - 1s - loss: 6.0276 - val_loss: 3.7131\n",
      "Epoch 34/100\n",
      "780/780 - 1s - loss: 5.5756 - val_loss: 3.7585\n",
      "Epoch 35/100\n",
      "780/780 - 1s - loss: 5.4142 - val_loss: 4.1217\n",
      "Epoch 36/100\n",
      "780/780 - 1s - loss: 5.7404 - val_loss: 3.3362\n",
      "Epoch 37/100\n",
      "780/780 - 1s - loss: 5.3348 - val_loss: 5.4207\n",
      "Epoch 38/100\n",
      "780/780 - 1s - loss: 5.5422 - val_loss: 7.8309\n",
      "Epoch 39/100\n",
      "780/780 - 1s - loss: 5.1933 - val_loss: 6.6988\n",
      "Epoch 40/100\n",
      "780/780 - 1s - loss: 4.7691 - val_loss: 3.1321\n",
      "Epoch 41/100\n",
      "780/780 - 1s - loss: 5.1973 - val_loss: 4.1851\n",
      "Epoch 42/100\n",
      "780/780 - 1s - loss: 4.9684 - val_loss: 3.1038\n",
      "Epoch 43/100\n",
      "780/780 - 1s - loss: 4.7353 - val_loss: 3.0724\n",
      "Epoch 44/100\n",
      "780/780 - 1s - loss: 5.3081 - val_loss: 7.0282\n",
      "Epoch 45/100\n",
      "780/780 - 1s - loss: 4.4646 - val_loss: 3.2156\n",
      "Epoch 46/100\n",
      "780/780 - 1s - loss: 5.1322 - val_loss: 6.2602\n",
      "Epoch 47/100\n",
      "780/780 - 1s - loss: 4.9446 - val_loss: 7.0368\n",
      "Epoch 48/100\n",
      "780/780 - 1s - loss: 4.6504 - val_loss: 3.7457\n",
      "Epoch 49/100\n",
      "780/780 - 1s - loss: 4.7483 - val_loss: 4.5307\n",
      "Epoch 50/100\n",
      "780/780 - 1s - loss: 4.6263 - val_loss: 3.0150\n",
      "Epoch 51/100\n",
      "780/780 - 1s - loss: 4.6042 - val_loss: 3.9033\n",
      "Epoch 52/100\n",
      "780/780 - 1s - loss: 4.3930 - val_loss: 4.4041\n",
      "Epoch 53/100\n",
      "780/780 - 1s - loss: 4.5686 - val_loss: 2.8026\n",
      "Epoch 54/100\n",
      "780/780 - 1s - loss: 4.1395 - val_loss: 4.6771\n",
      "Epoch 55/100\n",
      "780/780 - 1s - loss: 4.1876 - val_loss: 2.9690\n",
      "Epoch 56/100\n",
      "780/780 - 1s - loss: 4.5425 - val_loss: 3.0785\n",
      "Epoch 57/100\n",
      "780/780 - 1s - loss: 3.8837 - val_loss: 2.9883\n",
      "Epoch 58/100\n",
      "780/780 - 1s - loss: 4.4016 - val_loss: 2.9746\n",
      "Epoch 59/100\n",
      "780/780 - 1s - loss: 4.3657 - val_loss: 3.1453\n",
      "Epoch 60/100\n",
      "780/780 - 1s - loss: 4.2391 - val_loss: 3.6221\n",
      "Epoch 61/100\n",
      "780/780 - 1s - loss: 4.0039 - val_loss: 3.2626\n",
      "Epoch 62/100\n",
      "780/780 - 1s - loss: 4.0526 - val_loss: 3.1505\n",
      "Epoch 63/100\n",
      "780/780 - 1s - loss: 4.2568 - val_loss: 4.6243\n",
      "Epoch 64/100\n",
      "780/780 - 1s - loss: 4.4216 - val_loss: 2.7338\n",
      "Epoch 65/100\n",
      "780/780 - 1s - loss: 3.9162 - val_loss: 4.9836\n",
      "Epoch 66/100\n",
      "780/780 - 1s - loss: 3.9341 - val_loss: 4.0377\n",
      "Epoch 67/100\n",
      "780/780 - 1s - loss: 3.7168 - val_loss: 5.1868\n",
      "Epoch 68/100\n",
      "780/780 - 1s - loss: 3.9435 - val_loss: 2.7472\n",
      "Epoch 69/100\n",
      "780/780 - 1s - loss: 3.8995 - val_loss: 2.6367\n",
      "Epoch 70/100\n",
      "780/780 - 1s - loss: 3.8149 - val_loss: 3.4503\n",
      "Epoch 71/100\n",
      "780/780 - 1s - loss: 4.0244 - val_loss: 3.2033\n",
      "Epoch 72/100\n",
      "780/780 - 1s - loss: 4.1883 - val_loss: 3.6727\n",
      "Epoch 73/100\n",
      "780/780 - 1s - loss: 3.8990 - val_loss: 2.9952\n",
      "Epoch 74/100\n",
      "780/780 - 1s - loss: 4.0497 - val_loss: 4.3074\n",
      "Epoch 75/100\n",
      "780/780 - 1s - loss: 3.7910 - val_loss: 3.3090\n",
      "Epoch 76/100\n",
      "780/780 - 1s - loss: 3.7527 - val_loss: 3.4714\n",
      "Epoch 77/100\n",
      "780/780 - 1s - loss: 3.6221 - val_loss: 2.4839\n",
      "Epoch 78/100\n",
      "780/780 - 1s - loss: 3.6847 - val_loss: 2.4991\n",
      "Epoch 79/100\n",
      "780/780 - 1s - loss: 3.7119 - val_loss: 9.2021\n",
      "Epoch 80/100\n",
      "780/780 - 1s - loss: 3.7915 - val_loss: 7.3422\n",
      "Epoch 81/100\n",
      "780/780 - 1s - loss: 3.7400 - val_loss: 3.4621\n",
      "Epoch 82/100\n",
      "780/780 - 1s - loss: 3.3139 - val_loss: 3.0398\n",
      "Epoch 83/100\n",
      "780/780 - 1s - loss: 3.6562 - val_loss: 6.8356\n",
      "Epoch 84/100\n",
      "780/780 - 1s - loss: 3.7359 - val_loss: 3.8608\n",
      "Epoch 85/100\n",
      "780/780 - 1s - loss: 3.3759 - val_loss: 3.8685\n",
      "Epoch 86/100\n",
      "780/780 - 1s - loss: 3.4463 - val_loss: 10.2656\n",
      "Epoch 87/100\n",
      "780/780 - 1s - loss: 3.9555 - val_loss: 3.0060\n",
      "Epoch 88/100\n",
      "780/780 - 1s - loss: 3.3265 - val_loss: 2.5245\n",
      "Epoch 89/100\n",
      "780/780 - 1s - loss: 3.4394 - val_loss: 3.9332\n",
      "Epoch 90/100\n",
      "780/780 - 1s - loss: 3.4717 - val_loss: 8.3585\n",
      "Epoch 91/100\n",
      "780/780 - 1s - loss: 3.8508 - val_loss: 7.0061\n",
      "Epoch 92/100\n",
      "780/780 - 1s - loss: 3.2065 - val_loss: 2.3490\n",
      "Epoch 93/100\n",
      "780/780 - 1s - loss: 3.5046 - val_loss: 2.3289\n",
      "Epoch 94/100\n",
      "780/780 - 1s - loss: 3.2699 - val_loss: 2.5873\n",
      "Epoch 95/100\n",
      "780/780 - 1s - loss: 3.3176 - val_loss: 2.7543\n",
      "Epoch 96/100\n",
      "780/780 - 1s - loss: 3.4954 - val_loss: 7.4778\n",
      "Epoch 97/100\n",
      "780/780 - 1s - loss: 3.7178 - val_loss: 2.4120\n",
      "Epoch 98/100\n",
      "780/780 - 1s - loss: 3.3843 - val_loss: 2.4234\n",
      "Epoch 99/100\n",
      "780/780 - 1s - loss: 3.2134 - val_loss: 2.2752\n",
      "Epoch 100/100\n",
      "780/780 - 1s - loss: 3.3957 - val_loss: 2.3699\n"
     ]
    },
    {
     "data": {
      "text/plain": [
       "<tensorflow.python.keras.callbacks.History at 0x7fb71eb796d0>"
      ]
     },
     "execution_count": 69,
     "metadata": {},
     "output_type": "execute_result"
    }
   ],
   "source": [
    "# fit model\n",
    "# Linear_model.fit(train_X, train_y, epochs=100, verbose=0)\n",
    "Linear_model.fit(train_X, train_y, epochs=100, validation_split=0.2, verbose=2)"
   ]
  },
  {
   "cell_type": "code",
   "execution_count": 70,
   "metadata": {},
   "outputs": [
    {
     "data": {
      "text/plain": [
       "(13366,)"
      ]
     },
     "execution_count": 70,
     "metadata": {},
     "output_type": "execute_result"
    }
   ],
   "source": [
    "y_true = val_y\n",
    "y_true.shape"
   ]
  },
  {
   "cell_type": "code",
   "execution_count": 71,
   "metadata": {},
   "outputs": [
    {
     "data": {
      "text/plain": [
       "(13366, 1)"
      ]
     },
     "execution_count": 71,
     "metadata": {},
     "output_type": "execute_result"
    }
   ],
   "source": [
    "y_pred = Linear_model.predict(val_X)\n",
    "y_pred.shape"
   ]
  },
  {
   "cell_type": "code",
   "execution_count": 75,
   "metadata": {},
   "outputs": [
    {
     "name": "stdout",
     "output_type": "stream",
     "text": [
      "Mean Squared Error is: 1.73\n"
     ]
    }
   ],
   "source": [
    "# Evaluation\n",
    "valScore = mean_squared_error(y_true, y_pred)\n",
    "print('Mean Squared Error is: %.2f' % (valScore))"
   ]
  },
  {
   "cell_type": "markdown",
   "metadata": {},
   "source": [
    "## RNN(LSTM)"
   ]
  },
  {
   "cell_type": "code",
   "execution_count": 76,
   "metadata": {},
   "outputs": [],
   "source": [
    "n_features = 1\n",
    "\n",
    "# reshape from [samples, timesteps] into [samples, timesteps, features]\n",
    "X = X.reshape((X.shape[0], X.shape[1], n_features))"
   ]
  },
  {
   "cell_type": "code",
   "execution_count": 77,
   "metadata": {},
   "outputs": [
    {
     "data": {
      "text/plain": [
       "(44551, 120, 1)"
      ]
     },
     "execution_count": 77,
     "metadata": {},
     "output_type": "execute_result"
    }
   ],
   "source": [
    "X.shape"
   ]
  },
  {
   "cell_type": "code",
   "execution_count": 78,
   "metadata": {},
   "outputs": [
    {
     "data": {
      "text/plain": [
       "(44551,)"
      ]
     },
     "execution_count": 78,
     "metadata": {},
     "output_type": "execute_result"
    }
   ],
   "source": [
    "y.shape"
   ]
  },
  {
   "cell_type": "code",
   "execution_count": 79,
   "metadata": {},
   "outputs": [
    {
     "name": "stdout",
     "output_type": "stream",
     "text": [
      "Shape of training X: (31185, 120, 1)\n",
      "Shape of validation X: (13366, 120, 1)\n",
      "Shape of training y: (31185,)\n",
      "Shape of validation y: (13366,)\n"
     ]
    }
   ],
   "source": [
    "# Split training and validation set\n",
    "n = len(X)\n",
    "train_X = X[0:int(n*0.7),:]\n",
    "val_X = X[int(n*0.7):,:]\n",
    "\n",
    "train_y = y[0:int(n*0.7)]\n",
    "val_y = y[int(n*0.7):]\n",
    "\n",
    "print(\"Shape of training X: {}\".format(train_X.shape))\n",
    "print(\"Shape of validation X: {}\".format(val_X.shape))\n",
    "\n",
    "print(\"Shape of training y: {}\".format(train_y.shape))\n",
    "print(\"Shape of validation y: {}\".format(val_y.shape))"
   ]
  },
  {
   "cell_type": "code",
   "execution_count": 94,
   "metadata": {},
   "outputs": [],
   "source": [
    "# Normalization\n",
    "train_X_mean = train_X.mean()\n",
    "train_X_std = train_X.std()\n",
    "\n",
    "train_y_mean = train_y.mean()\n",
    "train_y_std = train_y.std()"
   ]
  },
  {
   "cell_type": "code",
   "execution_count": 96,
   "metadata": {},
   "outputs": [],
   "source": [
    "normalized_train_X = (train_X - train_X_mean)/train_X_std\n",
    "normalized_val_X = (val_X - train_X_mean)/train_X_std\n",
    "\n",
    "normalized_train_y = (train_y - train_y_mean)/train_y_std\n",
    "normalized_val_y = (val_y - train_y_mean)/train_y_std"
   ]
  },
  {
   "cell_type": "code",
   "execution_count": 80,
   "metadata": {},
   "outputs": [
    {
     "name": "stdout",
     "output_type": "stream",
     "text": [
      "Model: \"sequential_16\"\n",
      "_________________________________________________________________\n",
      "Layer (type)                 Output Shape              Param #   \n",
      "=================================================================\n",
      "lstm_4 (LSTM)                (None, 10)                480       \n",
      "_________________________________________________________________\n",
      "dense_22 (Dense)             (None, 1)                 11        \n",
      "=================================================================\n",
      "Total params: 491\n",
      "Trainable params: 491\n",
      "Non-trainable params: 0\n",
      "_________________________________________________________________\n",
      "None\n"
     ]
    }
   ],
   "source": [
    "# define model\n",
    "RNN_model = Sequential()\n",
    "RNN_model.add(LSTM(10, activation='relu', input_shape=(n_steps, n_features)))\n",
    "RNN_model.add(Dense(1))\n",
    "RNN_model.compile(optimizer='adam', loss='mse')\n",
    "print(RNN_model.summary())"
   ]
  },
  {
   "cell_type": "code",
   "execution_count": 97,
   "metadata": {},
   "outputs": [
    {
     "name": "stdout",
     "output_type": "stream",
     "text": [
      "Epoch 1/100\n",
      "780/780 - 34s - loss: 1206.0881 - val_loss: 175.5948\n",
      "Epoch 2/100\n",
      "780/780 - 32s - loss: 169.0961 - val_loss: 166.3976\n",
      "Epoch 3/100\n",
      "780/780 - 32s - loss: 159.7646 - val_loss: 157.4647\n",
      "Epoch 4/100\n",
      "780/780 - 35s - loss: 150.5395 - val_loss: 148.1268\n",
      "Epoch 5/100\n",
      "780/780 - 37s - loss: 140.9213 - val_loss: 138.0311\n",
      "Epoch 6/100\n",
      "780/780 - 36s - loss: 130.6278 - val_loss: 126.9684\n",
      "Epoch 7/100\n",
      "780/780 - 33s - loss: 119.5028 - val_loss: 114.8538\n",
      "Epoch 8/100\n",
      "780/780 - 35s - loss: 107.6095 - val_loss: 101.9117\n",
      "Epoch 9/100\n",
      "780/780 - 32s - loss: 95.2959 - val_loss: 88.6389\n",
      "Epoch 10/100\n",
      "780/780 - 36s - loss: 83.1238 - val_loss: 75.7276\n",
      "Epoch 11/100\n",
      "780/780 - 35s - loss: 71.6401 - val_loss: 63.7342\n",
      "Epoch 12/100\n",
      "780/780 - 36s - loss: 61.2115 - val_loss: 53.0259\n",
      "Epoch 13/100\n",
      "780/780 - 41s - loss: 51.9618 - val_loss: 43.6928\n",
      "Epoch 14/100\n",
      "780/780 - 37s - loss: 43.8313 - val_loss: 35.6734\n",
      "Epoch 15/100\n",
      "780/780 - 39s - loss: 36.7138 - val_loss: 28.8466\n",
      "Epoch 16/100\n",
      "780/780 - 36s - loss: 30.5216 - val_loss: 23.1285\n",
      "Epoch 17/100\n",
      "780/780 - 32s - loss: 25.1627 - val_loss: 18.3750\n",
      "Epoch 18/100\n",
      "780/780 - 35s - loss: 20.5572 - val_loss: 14.5036\n",
      "Epoch 19/100\n",
      "780/780 - 38s - loss: 16.6516 - val_loss: 11.4328\n",
      "Epoch 20/100\n",
      "780/780 - 36s - loss: 13.3815 - val_loss: 9.0523\n",
      "Epoch 21/100\n",
      "780/780 - 33s - loss: 10.6923 - val_loss: 7.2820\n",
      "Epoch 22/100\n",
      "780/780 - 32s - loss: 8.5344 - val_loss: 5.9837\n",
      "Epoch 23/100\n",
      "780/780 - 33s - loss: 6.8330 - val_loss: 5.0206\n",
      "Epoch 24/100\n",
      "780/780 - 32s - loss: 5.4929 - val_loss: 4.2801\n",
      "Epoch 25/100\n",
      "780/780 - 32s - loss: 4.4254 - val_loss: 3.6574\n",
      "Epoch 26/100\n",
      "780/780 - 33s - loss: 3.5710 - val_loss: 3.0959\n",
      "Epoch 27/100\n",
      "780/780 - 33s - loss: 2.7025 - val_loss: 1.4151\n",
      "Epoch 28/100\n",
      "780/780 - 35s - loss: 0.4691 - val_loss: 0.1007\n",
      "Epoch 29/100\n",
      "780/780 - 32s - loss: 0.1379 - val_loss: 0.0848\n",
      "Epoch 30/100\n",
      "780/780 - 32s - loss: 0.1087 - val_loss: 0.0776\n",
      "Epoch 31/100\n",
      "780/780 - 36s - loss: 0.0945 - val_loss: 0.0716\n",
      "Epoch 32/100\n",
      "780/780 - 32s - loss: 0.0850 - val_loss: 0.0694\n",
      "Epoch 33/100\n",
      "780/780 - 31s - loss: 0.0773 - val_loss: 0.0657\n",
      "Epoch 34/100\n",
      "780/780 - 31s - loss: 0.0712 - val_loss: 0.0637\n",
      "Epoch 35/100\n",
      "780/780 - 32s - loss: 0.0662 - val_loss: 0.0609\n",
      "Epoch 36/100\n",
      "780/780 - 32s - loss: 0.0626 - val_loss: 0.0593\n",
      "Epoch 37/100\n",
      "780/780 - 31s - loss: 0.0596 - val_loss: 0.0594\n",
      "Epoch 38/100\n",
      "780/780 - 34s - loss: 0.0571 - val_loss: 0.0571\n",
      "Epoch 39/100\n",
      "780/780 - 31s - loss: 0.0552 - val_loss: 0.0576\n",
      "Epoch 40/100\n",
      "780/780 - 31s - loss: 0.0533 - val_loss: 0.0563\n",
      "Epoch 41/100\n",
      "780/780 - 31s - loss: 0.0520 - val_loss: 0.0555\n",
      "Epoch 42/100\n",
      "780/780 - 31s - loss: 0.0507 - val_loss: 0.0546\n",
      "Epoch 43/100\n",
      "780/780 - 31s - loss: 0.0495 - val_loss: 0.0551\n",
      "Epoch 44/100\n",
      "780/780 - 31s - loss: 0.0483 - val_loss: 0.0552\n",
      "Epoch 45/100\n",
      "780/780 - 33s - loss: 0.0477 - val_loss: 0.0548\n",
      "Epoch 46/100\n",
      "780/780 - 34s - loss: 0.0469 - val_loss: 0.0528\n",
      "Epoch 47/100\n",
      "780/780 - 32s - loss: 0.0462 - val_loss: 0.0548\n",
      "Epoch 48/100\n",
      "780/780 - 31s - loss: 0.0454 - val_loss: 0.0561\n",
      "Epoch 49/100\n",
      "780/780 - 34s - loss: 0.0454 - val_loss: 0.0530\n",
      "Epoch 50/100\n",
      "780/780 - 34s - loss: 0.0448 - val_loss: 0.0533\n",
      "Epoch 51/100\n",
      "780/780 - 31s - loss: 0.0441 - val_loss: 0.0510\n",
      "Epoch 52/100\n",
      "780/780 - 31s - loss: 0.0436 - val_loss: 0.0505\n",
      "Epoch 53/100\n",
      "780/780 - 32s - loss: 0.0436 - val_loss: 0.0511\n",
      "Epoch 54/100\n",
      "780/780 - 33s - loss: 0.0427 - val_loss: 0.0488\n",
      "Epoch 55/100\n",
      "780/780 - 32s - loss: 0.0424 - val_loss: 0.0482\n",
      "Epoch 56/100\n",
      "780/780 - 32s - loss: 0.0421 - val_loss: 0.0513\n",
      "Epoch 57/100\n",
      "780/780 - 32s - loss: 0.0416 - val_loss: 0.0479\n",
      "Epoch 58/100\n",
      "780/780 - 32s - loss: 0.0417 - val_loss: 0.0499\n",
      "Epoch 59/100\n",
      "780/780 - 32s - loss: 0.0407 - val_loss: 0.0474\n",
      "Epoch 60/100\n",
      "780/780 - 31s - loss: 0.0405 - val_loss: 0.0469\n",
      "Epoch 61/100\n",
      "780/780 - 31s - loss: 0.0403 - val_loss: 0.0465\n",
      "Epoch 62/100\n",
      "780/780 - 32s - loss: 0.0400 - val_loss: 0.0451\n",
      "Epoch 63/100\n",
      "780/780 - 32s - loss: 0.0399 - val_loss: 0.0449\n",
      "Epoch 64/100\n",
      "780/780 - 31s - loss: 0.0399 - val_loss: 0.0455\n",
      "Epoch 65/100\n",
      "780/780 - 32s - loss: 0.0393 - val_loss: 0.0456\n",
      "Epoch 66/100\n",
      "780/780 - 32s - loss: 0.0394 - val_loss: 0.0455\n",
      "Epoch 67/100\n",
      "780/780 - 31s - loss: 0.0390 - val_loss: 0.0478\n",
      "Epoch 68/100\n",
      "780/780 - 31s - loss: 0.0391 - val_loss: 0.0452\n",
      "Epoch 69/100\n",
      "780/780 - 31s - loss: 0.0387 - val_loss: 0.0470\n",
      "Epoch 70/100\n",
      "780/780 - 31s - loss: 0.0386 - val_loss: 0.0462\n",
      "Epoch 71/100\n",
      "780/780 - 32s - loss: 0.0381 - val_loss: 0.0459\n",
      "Epoch 72/100\n",
      "780/780 - 32s - loss: 0.0381 - val_loss: 0.0457\n",
      "Epoch 73/100\n",
      "780/780 - 31s - loss: 0.0381 - val_loss: 0.0463\n",
      "Epoch 74/100\n",
      "780/780 - 32s - loss: 0.0380 - val_loss: 0.0462\n",
      "Epoch 75/100\n",
      "780/780 - 31s - loss: 0.0378 - val_loss: 0.0455\n",
      "Epoch 76/100\n",
      "780/780 - 32s - loss: 0.0378 - val_loss: 0.0444\n",
      "Epoch 77/100\n",
      "780/780 - 31s - loss: 0.0376 - val_loss: 0.0441\n",
      "Epoch 78/100\n",
      "780/780 - 31s - loss: 0.0375 - val_loss: 0.0451\n",
      "Epoch 79/100\n",
      "780/780 - 31s - loss: 0.0374 - val_loss: 0.0441\n",
      "Epoch 80/100\n",
      "780/780 - 32s - loss: 0.0374 - val_loss: 0.0441\n",
      "Epoch 81/100\n",
      "780/780 - 31s - loss: 0.0373 - val_loss: 0.0459\n",
      "Epoch 82/100\n",
      "780/780 - 31s - loss: 0.0372 - val_loss: 0.0441\n",
      "Epoch 83/100\n",
      "780/780 - 31s - loss: 0.0371 - val_loss: 0.0433\n",
      "Epoch 84/100\n",
      "780/780 - 32s - loss: 0.0365 - val_loss: 0.0439\n",
      "Epoch 85/100\n",
      "780/780 - 31s - loss: 0.0366 - val_loss: 0.0431\n",
      "Epoch 86/100\n",
      "780/780 - 32s - loss: 0.0369 - val_loss: 0.0431\n",
      "Epoch 87/100\n",
      "780/780 - 32s - loss: 0.0367 - val_loss: 0.0434\n",
      "Epoch 88/100\n",
      "780/780 - 31s - loss: 0.0363 - val_loss: 0.0437\n",
      "Epoch 89/100\n",
      "780/780 - 31s - loss: 0.0365 - val_loss: 0.0434\n",
      "Epoch 90/100\n",
      "780/780 - 33s - loss: 0.0364 - val_loss: 0.0439\n",
      "Epoch 91/100\n",
      "780/780 - 32s - loss: 0.0363 - val_loss: 0.0453\n",
      "Epoch 92/100\n",
      "780/780 - 32s - loss: 0.0362 - val_loss: 0.0450\n",
      "Epoch 93/100\n",
      "780/780 - 32s - loss: 0.0360 - val_loss: 0.0427\n",
      "Epoch 94/100\n",
      "780/780 - 32s - loss: 0.0359 - val_loss: 0.0435\n",
      "Epoch 95/100\n",
      "780/780 - 32s - loss: 0.0356 - val_loss: 0.0456\n",
      "Epoch 96/100\n",
      "780/780 - 32s - loss: 0.0356 - val_loss: 0.0455\n",
      "Epoch 97/100\n",
      "780/780 - 32s - loss: 0.0354 - val_loss: 0.0459\n",
      "Epoch 98/100\n",
      "780/780 - 32s - loss: 0.0353 - val_loss: 0.0489\n",
      "Epoch 99/100\n",
      "780/780 - 32s - loss: 0.0350 - val_loss: 0.0427\n",
      "Epoch 100/100\n",
      "780/780 - 32s - loss: 0.0350 - val_loss: 0.0432\n"
     ]
    },
    {
     "data": {
      "text/plain": [
       "<tensorflow.python.keras.callbacks.History at 0x7fb718c615e0>"
      ]
     },
     "execution_count": 97,
     "metadata": {},
     "output_type": "execute_result"
    }
   ],
   "source": [
    "# fit model\n",
    "RNN_model.fit(normalized_train_X, normalized_train_y, epochs=100, validation_split=0.2, verbose=2)"
   ]
  },
  {
   "cell_type": "code",
   "execution_count": 98,
   "metadata": {},
   "outputs": [
    {
     "data": {
      "text/plain": [
       "(13366,)"
      ]
     },
     "execution_count": 98,
     "metadata": {},
     "output_type": "execute_result"
    }
   ],
   "source": [
    "y_true = val_y\n",
    "y_true.shape"
   ]
  },
  {
   "cell_type": "code",
   "execution_count": 99,
   "metadata": {},
   "outputs": [
    {
     "data": {
      "text/plain": [
       "(13366, 1)"
      ]
     },
     "execution_count": 99,
     "metadata": {},
     "output_type": "execute_result"
    }
   ],
   "source": [
    "normalized_y_pred = RNN_model.predict(normalized_val_X)\n",
    "y_pred = normalized_y_pred * train_y.std() + train_y.mean()\n",
    "y_pred.shape"
   ]
  },
  {
   "cell_type": "code",
   "execution_count": 100,
   "metadata": {},
   "outputs": [
    {
     "name": "stdout",
     "output_type": "stream",
     "text": [
      "Mean Squared Error is: 1.03\n"
     ]
    }
   ],
   "source": [
    "# Evaluation\n",
    "valScore = mean_squared_error(y_true, y_pred)\n",
    "print('Mean Squared Error is: %.2f' % (valScore))"
   ]
  },
  {
   "cell_type": "code",
   "execution_count": null,
   "metadata": {},
   "outputs": [],
   "source": []
  },
  {
   "cell_type": "code",
   "execution_count": null,
   "metadata": {},
   "outputs": [],
   "source": []
  },
  {
   "cell_type": "code",
   "execution_count": null,
   "metadata": {},
   "outputs": [],
   "source": []
  },
  {
   "cell_type": "code",
   "execution_count": null,
   "metadata": {},
   "outputs": [],
   "source": []
  },
  {
   "cell_type": "code",
   "execution_count": null,
   "metadata": {},
   "outputs": [],
   "source": []
  },
  {
   "cell_type": "code",
   "execution_count": null,
   "metadata": {},
   "outputs": [],
   "source": []
  },
  {
   "cell_type": "code",
   "execution_count": null,
   "metadata": {},
   "outputs": [],
   "source": []
  },
  {
   "cell_type": "code",
   "execution_count": null,
   "metadata": {},
   "outputs": [],
   "source": []
  },
  {
   "cell_type": "code",
   "execution_count": null,
   "metadata": {},
   "outputs": [],
   "source": []
  },
  {
   "cell_type": "code",
   "execution_count": null,
   "metadata": {},
   "outputs": [],
   "source": []
  }
 ],
 "metadata": {
  "kernelspec": {
   "display_name": "Python 3",
   "language": "python",
   "name": "python3"
  },
  "language_info": {
   "codemirror_mode": {
    "name": "ipython",
    "version": 3
   },
   "file_extension": ".py",
   "mimetype": "text/x-python",
   "name": "python",
   "nbconvert_exporter": "python",
   "pygments_lexer": "ipython3",
   "version": "3.8.5"
  }
 },
 "nbformat": 4,
 "nbformat_minor": 4
}
