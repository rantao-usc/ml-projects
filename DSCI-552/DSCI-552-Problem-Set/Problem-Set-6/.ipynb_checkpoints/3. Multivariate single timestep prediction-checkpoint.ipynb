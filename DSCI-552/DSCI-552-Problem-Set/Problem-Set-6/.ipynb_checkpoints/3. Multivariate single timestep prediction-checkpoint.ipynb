{
 "cells": [
  {
   "cell_type": "code",
   "execution_count": 1,
   "metadata": {
    "id": "7JcNRAKfjnAz"
   },
   "outputs": [],
   "source": [
    "import pandas as pd\n",
    "import numpy as np\n",
    "import matplotlib.pyplot as plt\n",
    "from keras.models import Sequential\n",
    "from keras.layers import Dense\n",
    "from sklearn.preprocessing import MinMaxScaler\n",
    "from sklearn.metrics import mean_squared_error\n",
    "from keras.layers import LSTM, Flatten\n",
    "from numpy import array"
   ]
  },
  {
   "cell_type": "code",
   "execution_count": null,
   "metadata": {
    "id": "lxr076sniUxG"
   },
   "outputs": [],
   "source": [
    "url = 'https://raw.githubusercontent.com/rantao-usc/problemset6/main/ps6_trainvalid.csv'\n",
    "df = pd.read_csv(url)"
   ]
  },
  {
   "cell_type": "markdown",
   "metadata": {
    "id": "kc00Vo8mn4lb"
   },
   "source": [
    "# Using Multiple features"
   ]
  },
  {
   "cell_type": "code",
   "execution_count": 2,
   "metadata": {
    "id": "cbRaGka-jIt3"
   },
   "outputs": [],
   "source": [
    "# split a multivariate sequence into samples\n",
    "def split_sequences(sequences, n_steps):\n",
    "  X, y = list(), list()\n",
    "  for i in range(len(sequences)):\n",
    "    # find the end of this pattern\n",
    "    end_ix = i + n_steps\n",
    "    # check if we are beyond the dataset\n",
    "    if end_ix > len(sequences)-1:\n",
    "      break\n",
    "    # gather input and output parts of the pattern\n",
    "    seq_x, seq_y = sequences[i:end_ix, :], sequences[end_ix, :]\n",
    "    X.append(seq_x)\n",
    "    y.append(seq_y[0])\n",
    "  return array(X), array(y)"
   ]
  },
  {
   "cell_type": "code",
   "execution_count": 5,
   "metadata": {
    "colab": {
     "base_uri": "https://localhost:8080/"
    },
    "id": "W5BneymI6BzU",
    "outputId": "bb377623-ec41-427c-eead-dc19b30c4a63"
   },
   "outputs": [
    {
     "name": "stdout",
     "output_type": "stream",
     "text": [
      "[[ 10  15  25]\n",
      " [ 20  25  45]\n",
      " [ 30  35  65]\n",
      " [ 40  45  85]\n",
      " [ 50  55 105]\n",
      " [ 60  65 125]\n",
      " [ 70  75 145]\n",
      " [ 80  85 165]\n",
      " [ 90  95 185]]\n",
      "(6, 3, 3) (6,)\n",
      "[[10 15 25]\n",
      " [20 25 45]\n",
      " [30 35 65]] 40\n",
      "[[20 25 45]\n",
      " [30 35 65]\n",
      " [40 45 85]] 50\n",
      "[[ 30  35  65]\n",
      " [ 40  45  85]\n",
      " [ 50  55 105]] 60\n",
      "[[ 40  45  85]\n",
      " [ 50  55 105]\n",
      " [ 60  65 125]] 70\n",
      "[[ 50  55 105]\n",
      " [ 60  65 125]\n",
      " [ 70  75 145]] 80\n",
      "[[ 60  65 125]\n",
      " [ 70  75 145]\n",
      " [ 80  85 165]] 90\n"
     ]
    }
   ],
   "source": [
    "from numpy import hstack\n",
    "# define input sequence\n",
    "in_seq1 = array([10, 20, 30, 40, 50, 60, 70, 80, 90])\n",
    "in_seq2 = array([15, 25, 35, 45, 55, 65, 75, 85, 95])\n",
    "out_seq = array([in_seq1[i]+in_seq2[i] for i in range(len(in_seq1))])\n",
    "# convert to [rows, columns] structure\n",
    "in_seq1 = in_seq1.reshape((len(in_seq1), 1))\n",
    "in_seq2 = in_seq2.reshape((len(in_seq2), 1))\n",
    "out_seq = out_seq.reshape((len(out_seq), 1))\n",
    "# horizontally stack columns\n",
    "dataset = hstack((in_seq1, in_seq2, out_seq))\n",
    "print(dataset)\n",
    "# choose a number of time steps\n",
    "n_steps = 3\n",
    "# convert into input/output\n",
    "X, y = split_sequences(dataset, n_steps)\n",
    "print(X.shape, y.shape)\n",
    "# summarize the data\n",
    "for i in range(len(X)):\n",
    "\tprint(X[i], y[i])"
   ]
  },
  {
   "cell_type": "code",
   "execution_count": null,
   "metadata": {
    "colab": {
     "base_uri": "https://localhost:8080/"
    },
    "id": "KOEG_tbukdVs",
    "outputId": "1498e879-1242-4e1b-f9bd-03bf734cc18a"
   },
   "outputs": [
    {
     "data": {
      "text/plain": [
       "['humidity', 'pressure']"
      ]
     },
     "execution_count": 61,
     "metadata": {
      "tags": []
     },
     "output_type": "execute_result"
    }
   ],
   "source": [
    "cols = list(df)[1:4]\n",
    "cols"
   ]
  },
  {
   "cell_type": "code",
   "execution_count": null,
   "metadata": {
    "id": "MpKzpld7ud5E"
   },
   "outputs": [],
   "source": [
    "df = df[cols]"
   ]
  },
  {
   "cell_type": "code",
   "execution_count": null,
   "metadata": {
    "colab": {
     "base_uri": "https://localhost:8080/"
    },
    "id": "Nh0K3GQVuiAZ",
    "outputId": "3310b0b8-d9f5-463b-b531-05f9b7830784"
   },
   "outputs": [
    {
     "data": {
      "text/plain": [
       "(45013, 3)"
      ]
     },
     "execution_count": 60,
     "metadata": {
      "tags": []
     },
     "output_type": "execute_result"
    }
   ],
   "source": [
    "df.shape"
   ]
  },
  {
   "cell_type": "code",
   "execution_count": null,
   "metadata": {
    "id": "RNkYc2pqul2m"
   },
   "outputs": [],
   "source": [
    "df = df.dropna()"
   ]
  },
  {
   "cell_type": "code",
   "execution_count": null,
   "metadata": {
    "colab": {
     "base_uri": "https://localhost:8080/"
    },
    "id": "mIxm6PLokXgI",
    "outputId": "19d11141-8988-4c92-f202-16c653bdc19a"
   },
   "outputs": [
    {
     "data": {
      "text/plain": [
       "(44671, 3)"
      ]
     },
     "execution_count": 63,
     "metadata": {
      "tags": []
     },
     "output_type": "execute_result"
    }
   ],
   "source": [
    "df.shape"
   ]
  },
  {
   "cell_type": "code",
   "execution_count": null,
   "metadata": {
    "id": "cn1WMSe4khuD"
   },
   "outputs": [],
   "source": [
    "n_steps = 24 * 5"
   ]
  },
  {
   "cell_type": "code",
   "execution_count": null,
   "metadata": {
    "id": "xsHolGhWkjKr"
   },
   "outputs": [],
   "source": [
    "cols_1 = ['temperature', 'humidity']\n",
    "cols_2 = ['temperature', 'pressure']"
   ]
  },
  {
   "cell_type": "code",
   "execution_count": null,
   "metadata": {
    "id": "sf9uFftNkka2"
   },
   "outputs": [],
   "source": [
    "df_1 = df[cols_1].values\n",
    "df_2 = df[cols_2].values"
   ]
  },
  {
   "cell_type": "markdown",
   "metadata": {
    "id": "taZkU2WbkmNf"
   },
   "source": [
    "## Using temperature and humidity"
   ]
  },
  {
   "cell_type": "code",
   "execution_count": null,
   "metadata": {
    "colab": {
     "base_uri": "https://localhost:8080/"
    },
    "id": "_lCxMDDtkvQ4",
    "outputId": "d92a020f-3b66-4808-8940-860787ecd37f"
   },
   "outputs": [
    {
     "name": "stdout",
     "output_type": "stream",
     "text": [
      "(44551, 120, 2) (44551,)\n"
     ]
    }
   ],
   "source": [
    "X, y = split_sequences(df_1, n_steps)\n",
    "print(X.shape, y.shape)"
   ]
  },
  {
   "cell_type": "code",
   "execution_count": null,
   "metadata": {
    "colab": {
     "base_uri": "https://localhost:8080/"
    },
    "id": "S9eFZLoJk0RD",
    "outputId": "da50649e-a20e-48a2-9b04-9da59d13d427"
   },
   "outputs": [
    {
     "data": {
      "text/plain": [
       "2"
      ]
     },
     "execution_count": 68,
     "metadata": {
      "tags": []
     },
     "output_type": "execute_result"
    }
   ],
   "source": [
    "n_features = X.shape[2]\n",
    "n_features"
   ]
  },
  {
   "cell_type": "code",
   "execution_count": null,
   "metadata": {
    "colab": {
     "base_uri": "https://localhost:8080/"
    },
    "id": "aOYdo-0xlB8r",
    "outputId": "a549d867-e39c-4d15-cdf4-e13db20fbad2"
   },
   "outputs": [
    {
     "name": "stdout",
     "output_type": "stream",
     "text": [
      "Shape of training X: (31185, 120, 2)\n",
      "Shape of validation X: (13366, 120, 2)\n",
      "Shape of training y: (31185,)\n",
      "Shape of validation y: (13366,)\n"
     ]
    }
   ],
   "source": [
    "# Split training and validation set\n",
    "n = len(X)\n",
    "train_X = X[0:int(n*0.7),:]\n",
    "val_X = X[int(n*0.7):,:]\n",
    "\n",
    "train_y = y[0:int(n*0.7)]\n",
    "val_y = y[int(n*0.7):]\n",
    "\n",
    "print(\"Shape of training X: {}\".format(train_X.shape))\n",
    "print(\"Shape of validation X: {}\".format(val_X.shape))\n",
    "\n",
    "print(\"Shape of training y: {}\".format(train_y.shape))\n",
    "print(\"Shape of validation y: {}\".format(val_y.shape))"
   ]
  },
  {
   "cell_type": "code",
   "execution_count": null,
   "metadata": {
    "id": "WRg8O2tqlDny"
   },
   "outputs": [],
   "source": [
    "# Normalization\n",
    "train_X_mean = np.mean(np.mean(train_X, axis=0), axis=0)\n",
    "train_X_std = np.std(np.std(train_X, axis=0), axis=0)\n",
    "\n",
    "train_y_mean = train_y.mean()\n",
    "train_y_std = train_y.std()\n",
    "\n",
    "normalized_train_X = (train_X - train_X_mean)/train_X_std\n",
    "normalized_val_X = (val_X - train_X_mean)/train_X_std\n",
    "\n",
    "normalized_train_y = (train_y - train_y_mean)/train_y_std\n",
    "normalized_val_y = (val_y - train_y_mean)/train_y_std"
   ]
  },
  {
   "cell_type": "code",
   "execution_count": null,
   "metadata": {
    "colab": {
     "base_uri": "https://localhost:8080/"
    },
    "id": "vRlA_tRslFen",
    "outputId": "cab28d5f-c6b5-4a27-e147-e505a879eda9"
   },
   "outputs": [
    {
     "name": "stdout",
     "output_type": "stream",
     "text": [
      "Model: \"sequential_2\"\n",
      "_________________________________________________________________\n",
      "Layer (type)                 Output Shape              Param #   \n",
      "=================================================================\n",
      "lstm_2 (LSTM)                (None, 10)                520       \n",
      "_________________________________________________________________\n",
      "dense_2 (Dense)              (None, 1)                 11        \n",
      "=================================================================\n",
      "Total params: 531\n",
      "Trainable params: 531\n",
      "Non-trainable params: 0\n",
      "_________________________________________________________________\n",
      "None\n"
     ]
    }
   ],
   "source": [
    "# define model\n",
    "RNN_model_2 = Sequential()\n",
    "RNN_model_2.add(LSTM(10, activation='relu', input_shape=(n_steps, n_features)))\n",
    "RNN_model_2.add(Dense(1))\n",
    "optimizer = optimizers.Adam(clipvalue=0.5)\n",
    "RNN_model_2.compile(optimizer=optimizer, loss='mse')\n",
    "print(RNN_model_2.summary())"
   ]
  },
  {
   "cell_type": "code",
   "execution_count": null,
   "metadata": {
    "colab": {
     "base_uri": "https://localhost:8080/"
    },
    "id": "9kSPzLGilHNe",
    "outputId": "d71489dc-2134-40d4-8b81-0ecea02bf6f2"
   },
   "outputs": [
    {
     "name": "stdout",
     "output_type": "stream",
     "text": [
      "Epoch 1/100\n",
      "683/683 - 25s - loss: 3901247.0000 - val_loss: 2291.1516\n",
      "Epoch 2/100\n",
      "683/683 - 26s - loss: 531.4390 - val_loss: 19.0430\n",
      "Epoch 3/100\n",
      "683/683 - 26s - loss: 3.4406 - val_loss: 0.3437\n",
      "Epoch 4/100\n",
      "683/683 - 26s - loss: 0.2204 - val_loss: 0.1866\n",
      "Epoch 5/100\n",
      "683/683 - 26s - loss: 0.1903 - val_loss: 0.1354\n",
      "Epoch 6/100\n",
      "683/683 - 26s - loss: 0.1633 - val_loss: 0.3714\n",
      "Epoch 7/100\n",
      "683/683 - 26s - loss: 0.2896 - val_loss: 0.1366\n",
      "Epoch 8/100\n",
      "683/683 - 27s - loss: 0.1444 - val_loss: 0.0961\n",
      "Epoch 9/100\n",
      "683/683 - 26s - loss: 0.1283 - val_loss: 0.1036\n",
      "Epoch 10/100\n",
      "683/683 - 26s - loss: 0.1282 - val_loss: 0.0999\n",
      "Epoch 11/100\n",
      "683/683 - 26s - loss: 0.1257 - val_loss: 0.1105\n",
      "Epoch 12/100\n",
      "683/683 - 26s - loss: 0.1224 - val_loss: 0.1083\n",
      "Epoch 13/100\n",
      "683/683 - 25s - loss: 0.1171 - val_loss: 0.0919\n",
      "Epoch 14/100\n",
      "683/683 - 25s - loss: 0.1225 - val_loss: 0.0986\n",
      "Epoch 15/100\n",
      "683/683 - 25s - loss: 0.1223 - val_loss: 0.1050\n",
      "Epoch 16/100\n",
      "683/683 - 25s - loss: 0.1173 - val_loss: 0.1179\n",
      "Epoch 17/100\n",
      "683/683 - 26s - loss: 0.1180 - val_loss: 0.0950\n",
      "Epoch 18/100\n",
      "683/683 - 25s - loss: 0.1102 - val_loss: 0.0822\n",
      "Epoch 19/100\n",
      "683/683 - 25s - loss: 0.1023 - val_loss: 0.0915\n",
      "Epoch 20/100\n",
      "683/683 - 26s - loss: 0.1036 - val_loss: 0.0830\n",
      "Epoch 21/100\n",
      "683/683 - 26s - loss: 0.1019 - val_loss: 0.0877\n",
      "Epoch 22/100\n",
      "683/683 - 26s - loss: 0.0994 - val_loss: 0.0759\n",
      "Epoch 23/100\n",
      "683/683 - 26s - loss: 0.0994 - val_loss: 0.0739\n",
      "Epoch 24/100\n",
      "683/683 - 25s - loss: 0.0991 - val_loss: 0.0763\n",
      "Epoch 25/100\n",
      "683/683 - 25s - loss: 0.0972 - val_loss: 0.0755\n",
      "Epoch 26/100\n",
      "683/683 - 25s - loss: 0.0950 - val_loss: 0.0746\n",
      "Epoch 27/100\n",
      "683/683 - 25s - loss: 0.0959 - val_loss: 0.0761\n",
      "Epoch 28/100\n",
      "683/683 - 25s - loss: 0.0995 - val_loss: 0.0879\n",
      "Epoch 29/100\n",
      "683/683 - 25s - loss: 0.0992 - val_loss: 0.0743\n",
      "Epoch 30/100\n",
      "683/683 - 25s - loss: 0.0970 - val_loss: 0.0894\n",
      "Epoch 31/100\n",
      "683/683 - 26s - loss: 0.0972 - val_loss: 0.0741\n",
      "Epoch 32/100\n",
      "683/683 - 26s - loss: 0.0980 - val_loss: 0.0796\n",
      "Epoch 33/100\n",
      "683/683 - 26s - loss: 0.0987 - val_loss: 0.0855\n",
      "Epoch 34/100\n",
      "683/683 - 26s - loss: 0.0978 - val_loss: 0.0733\n",
      "Epoch 35/100\n",
      "683/683 - 25s - loss: 0.0972 - val_loss: 0.0767\n",
      "Epoch 36/100\n",
      "683/683 - 26s - loss: 0.0950 - val_loss: 0.0769\n",
      "Epoch 37/100\n",
      "683/683 - 25s - loss: 0.0981 - val_loss: 0.0721\n",
      "Epoch 38/100\n",
      "683/683 - 26s - loss: 0.0982 - val_loss: 0.0808\n",
      "Epoch 39/100\n",
      "683/683 - 25s - loss: 0.0966 - val_loss: 0.0676\n",
      "Epoch 40/100\n",
      "683/683 - 25s - loss: 0.0933 - val_loss: 0.0791\n",
      "Epoch 41/100\n",
      "683/683 - 25s - loss: 0.0956 - val_loss: 0.0819\n",
      "Epoch 42/100\n",
      "683/683 - 25s - loss: 0.0992 - val_loss: 0.0989\n",
      "Epoch 43/100\n",
      "683/683 - 25s - loss: 0.0966 - val_loss: 0.0646\n",
      "Epoch 44/100\n",
      "683/683 - 25s - loss: 0.0983 - val_loss: 0.0982\n",
      "Epoch 45/100\n",
      "683/683 - 26s - loss: 0.1003 - val_loss: 0.1047\n",
      "Epoch 46/100\n",
      "683/683 - 25s - loss: 0.0942 - val_loss: 0.0794\n",
      "Epoch 47/100\n",
      "683/683 - 25s - loss: 0.0977 - val_loss: 0.0943\n",
      "Epoch 48/100\n",
      "683/683 - 25s - loss: 0.1091 - val_loss: 0.1106\n",
      "Epoch 49/100\n",
      "683/683 - 25s - loss: 0.0938 - val_loss: 0.0795\n",
      "Epoch 50/100\n",
      "683/683 - 25s - loss: 0.0809 - val_loss: 0.0633\n",
      "Epoch 51/100\n",
      "683/683 - 25s - loss: 0.0765 - val_loss: 0.0665\n",
      "Epoch 52/100\n",
      "683/683 - 25s - loss: 0.0745 - val_loss: 0.0604\n",
      "Epoch 53/100\n",
      "683/683 - 25s - loss: 0.0748 - val_loss: 0.0620\n",
      "Epoch 54/100\n",
      "683/683 - 25s - loss: 0.0741 - val_loss: 0.0650\n",
      "Epoch 55/100\n",
      "683/683 - 25s - loss: 0.0734 - val_loss: 0.0636\n",
      "Epoch 56/100\n",
      "683/683 - 26s - loss: 0.0733 - val_loss: 0.0613\n",
      "Epoch 57/100\n",
      "683/683 - 26s - loss: 0.0738 - val_loss: 0.0596\n",
      "Epoch 58/100\n",
      "683/683 - 26s - loss: 0.0738 - val_loss: 0.0642\n",
      "Epoch 59/100\n",
      "683/683 - 26s - loss: 0.0734 - val_loss: 0.0637\n",
      "Epoch 60/100\n",
      "683/683 - 25s - loss: 0.0741 - val_loss: 0.0725\n",
      "Epoch 61/100\n",
      "683/683 - 25s - loss: 0.0736 - val_loss: 0.0598\n",
      "Epoch 62/100\n",
      "683/683 - 26s - loss: 0.0743 - val_loss: 0.0661\n",
      "Epoch 63/100\n",
      "683/683 - 26s - loss: 0.0748 - val_loss: 0.0596\n",
      "Epoch 64/100\n",
      "683/683 - 26s - loss: 0.0747 - val_loss: 0.0611\n",
      "Epoch 65/100\n",
      "683/683 - 26s - loss: 0.0744 - val_loss: 0.0663\n",
      "Epoch 66/100\n",
      "683/683 - 26s - loss: 0.0756 - val_loss: 0.0731\n",
      "Epoch 67/100\n",
      "683/683 - 27s - loss: 0.0739 - val_loss: 0.0616\n",
      "Epoch 68/100\n",
      "683/683 - 27s - loss: 0.0752 - val_loss: 0.0618\n",
      "Epoch 69/100\n",
      "683/683 - 26s - loss: 0.0746 - val_loss: 0.0609\n",
      "Epoch 70/100\n",
      "683/683 - 27s - loss: 0.0736 - val_loss: 0.0614\n",
      "Epoch 71/100\n",
      "683/683 - 26s - loss: 0.0745 - val_loss: 0.0616\n",
      "Epoch 72/100\n",
      "683/683 - 26s - loss: 0.0741 - val_loss: 0.0619\n",
      "Epoch 73/100\n",
      "683/683 - 26s - loss: 0.0736 - val_loss: 0.0717\n",
      "Epoch 74/100\n",
      "683/683 - 26s - loss: 0.0748 - val_loss: 0.0684\n",
      "Epoch 75/100\n",
      "683/683 - 25s - loss: 0.0752 - val_loss: 0.0593\n",
      "Epoch 76/100\n",
      "683/683 - 25s - loss: 0.0740 - val_loss: 0.0592\n",
      "Epoch 77/100\n",
      "683/683 - 25s - loss: 0.0749 - val_loss: 0.0627\n",
      "Epoch 78/100\n",
      "683/683 - 25s - loss: 0.0738 - val_loss: 0.0683\n",
      "Epoch 79/100\n",
      "683/683 - 25s - loss: 0.0748 - val_loss: 0.0696\n",
      "Epoch 80/100\n",
      "683/683 - 25s - loss: 0.0745 - val_loss: 0.0602\n",
      "Epoch 81/100\n",
      "683/683 - 25s - loss: 0.0739 - val_loss: 0.0692\n",
      "Epoch 82/100\n",
      "683/683 - 26s - loss: 0.0744 - val_loss: 0.0717\n",
      "Epoch 83/100\n",
      "683/683 - 25s - loss: 0.0759 - val_loss: 0.0607\n",
      "Epoch 84/100\n",
      "683/683 - 25s - loss: 0.0758 - val_loss: 0.0591\n",
      "Epoch 85/100\n",
      "683/683 - 25s - loss: 0.0759 - val_loss: 0.0691\n",
      "Epoch 86/100\n",
      "683/683 - 26s - loss: 0.0770 - val_loss: 0.0602\n",
      "Epoch 87/100\n",
      "683/683 - 26s - loss: 0.0746 - val_loss: 0.0659\n",
      "Epoch 88/100\n",
      "683/683 - 26s - loss: 0.0765 - val_loss: 0.0693\n",
      "Epoch 89/100\n",
      "683/683 - 26s - loss: 0.0738 - val_loss: 0.0786\n",
      "Epoch 90/100\n",
      "683/683 - 26s - loss: 0.0754 - val_loss: 0.0608\n",
      "Epoch 91/100\n",
      "683/683 - 26s - loss: 0.0753 - val_loss: 0.0634\n",
      "Epoch 92/100\n",
      "683/683 - 26s - loss: 0.0762 - val_loss: 0.0656\n",
      "Epoch 93/100\n",
      "683/683 - 26s - loss: 0.0745 - val_loss: 0.0675\n",
      "Epoch 94/100\n",
      "683/683 - 27s - loss: 0.0752 - val_loss: 0.0689\n",
      "Epoch 95/100\n",
      "683/683 - 27s - loss: 0.0746 - val_loss: 0.0653\n",
      "Epoch 96/100\n",
      "683/683 - 26s - loss: 0.1033 - val_loss: 0.0597\n",
      "Epoch 97/100\n",
      "683/683 - 26s - loss: 0.0754 - val_loss: 0.0754\n",
      "Epoch 98/100\n",
      "683/683 - 26s - loss: 0.0747 - val_loss: 0.0635\n",
      "Epoch 99/100\n",
      "683/683 - 26s - loss: 0.0742 - val_loss: 0.0655\n",
      "Epoch 100/100\n",
      "683/683 - 26s - loss: 0.0761 - val_loss: 0.0642\n"
     ]
    },
    {
     "data": {
      "text/plain": [
       "<tensorflow.python.keras.callbacks.History at 0x7f8a53021e50>"
      ]
     },
     "execution_count": 72,
     "metadata": {
      "tags": []
     },
     "output_type": "execute_result"
    }
   ],
   "source": [
    "# fit model\n",
    "RNN_model_2.fit(normalized_train_X, normalized_train_y, epochs=100, validation_split=0.3, verbose=2)"
   ]
  },
  {
   "cell_type": "code",
   "execution_count": null,
   "metadata": {
    "colab": {
     "base_uri": "https://localhost:8080/"
    },
    "id": "CG0GbZvBlKFe",
    "outputId": "9fed1a27-64b1-4479-92ea-b1b73669044b"
   },
   "outputs": [
    {
     "data": {
      "text/plain": [
       "(13366,)"
      ]
     },
     "execution_count": 73,
     "metadata": {
      "tags": []
     },
     "output_type": "execute_result"
    }
   ],
   "source": [
    "y_true = val_y\n",
    "y_true.shape"
   ]
  },
  {
   "cell_type": "code",
   "execution_count": null,
   "metadata": {
    "colab": {
     "base_uri": "https://localhost:8080/"
    },
    "id": "jeWP2sB7nq8M",
    "outputId": "51ed5bda-1bd2-4f44-f7eb-309c79b85d0e"
   },
   "outputs": [
    {
     "data": {
      "text/plain": [
       "(13366, 1)"
      ]
     },
     "execution_count": 74,
     "metadata": {
      "tags": []
     },
     "output_type": "execute_result"
    }
   ],
   "source": [
    "normalized_y_pred = RNN_model_2.predict(normalized_val_X)\n",
    "y_pred = normalized_y_pred * train_y_std + train_y_mean\n",
    "y_pred.shape"
   ]
  },
  {
   "cell_type": "code",
   "execution_count": null,
   "metadata": {
    "colab": {
     "base_uri": "https://localhost:8080/"
    },
    "id": "0KRkUoqsns8Y",
    "outputId": "3ca4af04-39ab-449e-b877-d282194760c1"
   },
   "outputs": [
    {
     "name": "stdout",
     "output_type": "stream",
     "text": [
      "Mean Squared Error is: 1.85\n"
     ]
    }
   ],
   "source": [
    "# Evaluation\n",
    "valScore = mean_squared_error(y_true, y_pred)\n",
    "print('Mean Squared Error is: %.2f' % (valScore))"
   ]
  },
  {
   "cell_type": "markdown",
   "metadata": {
    "id": "kiJwKwSPoSM3"
   },
   "source": [
    "## Using temperature and pressure"
   ]
  },
  {
   "cell_type": "code",
   "execution_count": null,
   "metadata": {
    "colab": {
     "base_uri": "https://localhost:8080/"
    },
    "id": "IgWG0eYboYLL",
    "outputId": "0a842141-ae00-4121-afd4-b9716f48da14"
   },
   "outputs": [
    {
     "name": "stdout",
     "output_type": "stream",
     "text": [
      "(44551, 120, 2) (44551,)\n"
     ]
    }
   ],
   "source": [
    "X, y = split_sequences(df_2, n_steps)\n",
    "print(X.shape, y.shape)"
   ]
  },
  {
   "cell_type": "code",
   "execution_count": null,
   "metadata": {
    "colab": {
     "base_uri": "https://localhost:8080/"
    },
    "id": "PMohDqyKoeFG",
    "outputId": "06bd05e2-e1ea-4b02-f9be-3df291e052f1"
   },
   "outputs": [
    {
     "data": {
      "text/plain": [
       "2"
      ]
     },
     "execution_count": 46,
     "metadata": {
      "tags": []
     },
     "output_type": "execute_result"
    }
   ],
   "source": [
    "n_features = X.shape[2]\n",
    "n_features"
   ]
  },
  {
   "cell_type": "code",
   "execution_count": null,
   "metadata": {
    "colab": {
     "base_uri": "https://localhost:8080/"
    },
    "id": "NDXb0RDeoezy",
    "outputId": "0e0c81c1-debd-48a4-8e7d-898bc6d4b46f"
   },
   "outputs": [
    {
     "name": "stdout",
     "output_type": "stream",
     "text": [
      "Shape of training X: (31185, 120, 2)\n",
      "Shape of validation X: (13366, 120, 2)\n",
      "Shape of training y: (31185,)\n",
      "Shape of validation y: (13366,)\n"
     ]
    }
   ],
   "source": [
    "# Split training and validation set\n",
    "n = len(X)\n",
    "train_X = X[0:int(n*0.7),:]\n",
    "val_X = X[int(n*0.7):,:]\n",
    "\n",
    "train_y = y[0:int(n*0.7)]\n",
    "val_y = y[int(n*0.7):]\n",
    "\n",
    "print(\"Shape of training X: {}\".format(train_X.shape))\n",
    "print(\"Shape of validation X: {}\".format(val_X.shape))\n",
    "\n",
    "print(\"Shape of training y: {}\".format(train_y.shape))\n",
    "print(\"Shape of validation y: {}\".format(val_y.shape))"
   ]
  },
  {
   "cell_type": "code",
   "execution_count": null,
   "metadata": {
    "id": "7iJMlqrsohoo"
   },
   "outputs": [],
   "source": [
    "# Normalization\n",
    "train_X_mean = np.mean(np.mean(train_X, axis=0), axis=0)\n",
    "train_X_std = np.std(np.std(train_X, axis=0), axis=0)\n",
    "\n",
    "train_y_mean = train_y.mean()\n",
    "train_y_std = train_y.std()\n",
    "\n",
    "normalized_train_X = (train_X - train_X_mean)/train_X_std\n",
    "normalized_val_X = (val_X - train_X_mean)/train_X_std\n",
    "\n",
    "normalized_train_y = (train_y - train_y_mean)/train_y_std\n",
    "normalized_val_y = (val_y - train_y_mean)/train_y_std"
   ]
  },
  {
   "cell_type": "code",
   "execution_count": null,
   "metadata": {
    "colab": {
     "base_uri": "https://localhost:8080/"
    },
    "id": "AUMmvZ2eonsM",
    "outputId": "ed9c117d-57dd-4a9c-b0eb-8ad08156f62e"
   },
   "outputs": [
    {
     "name": "stdout",
     "output_type": "stream",
     "text": [
      "Model: \"sequential_1\"\n",
      "_________________________________________________________________\n",
      "Layer (type)                 Output Shape              Param #   \n",
      "=================================================================\n",
      "lstm_1 (LSTM)                (None, 10)                520       \n",
      "_________________________________________________________________\n",
      "dense_1 (Dense)              (None, 1)                 11        \n",
      "=================================================================\n",
      "Total params: 531\n",
      "Trainable params: 531\n",
      "Non-trainable params: 0\n",
      "_________________________________________________________________\n",
      "None\n"
     ]
    }
   ],
   "source": [
    "# define model\n",
    "from keras import optimizers\n",
    "\n",
    "RNN_model_3 = Sequential()\n",
    "RNN_model_3.add(LSTM(10, activation='relu', input_shape=(n_steps, n_features)))\n",
    "RNN_model_3.add(Dense(1))\n",
    "# To deal with exploding gradients \n",
    "optimizer = optimizers.Adam(clipvalue=0.5)\n",
    "RNN_model_3.compile(optimizer=optimizer, loss='mse')\n",
    "print(RNN_model_3.summary())"
   ]
  },
  {
   "cell_type": "code",
   "execution_count": null,
   "metadata": {
    "colab": {
     "base_uri": "https://localhost:8080/"
    },
    "id": "_s-Kdi5BovCZ",
    "outputId": "4c98ac5b-7098-4a04-d1cb-e5dd84e7888d"
   },
   "outputs": [
    {
     "name": "stdout",
     "output_type": "stream",
     "text": [
      "Epoch 1/100\n",
      "683/683 - 27s - loss: 6710080.5000 - val_loss: 70.4580\n",
      "Epoch 2/100\n",
      "683/683 - 26s - loss: 120.6870 - val_loss: 0.7246\n",
      "Epoch 3/100\n",
      "683/683 - 26s - loss: 1.1369 - val_loss: 0.7658\n",
      "Epoch 4/100\n",
      "683/683 - 25s - loss: 0.5751 - val_loss: 0.6275\n",
      "Epoch 5/100\n",
      "683/683 - 25s - loss: 0.4856 - val_loss: 0.3804\n",
      "Epoch 6/100\n",
      "683/683 - 25s - loss: 0.7754 - val_loss: 0.4584\n",
      "Epoch 7/100\n",
      "683/683 - 25s - loss: 0.4769 - val_loss: 0.3711\n",
      "Epoch 8/100\n",
      "683/683 - 25s - loss: 0.4673 - val_loss: 0.4875\n",
      "Epoch 9/100\n",
      "683/683 - 25s - loss: 0.6982 - val_loss: 0.3305\n",
      "Epoch 10/100\n",
      "683/683 - 25s - loss: 0.7309 - val_loss: 0.3809\n",
      "Epoch 11/100\n",
      "683/683 - 25s - loss: 1.1047 - val_loss: 5.7696\n",
      "Epoch 12/100\n",
      "683/683 - 25s - loss: 0.5251 - val_loss: 0.3425\n",
      "Epoch 13/100\n",
      "683/683 - 26s - loss: 0.4135 - val_loss: 0.4063\n",
      "Epoch 14/100\n",
      "683/683 - 26s - loss: 0.4131 - val_loss: 0.3557\n",
      "Epoch 15/100\n",
      "683/683 - 26s - loss: 0.3895 - val_loss: 0.3123\n",
      "Epoch 16/100\n",
      "683/683 - 25s - loss: 0.3893 - val_loss: 0.3366\n",
      "Epoch 17/100\n",
      "683/683 - 26s - loss: 0.3861 - val_loss: 0.2909\n",
      "Epoch 18/100\n",
      "683/683 - 25s - loss: 0.4057 - val_loss: 0.3314\n",
      "Epoch 19/100\n",
      "683/683 - 25s - loss: 0.2531 - val_loss: 0.1836\n",
      "Epoch 20/100\n",
      "683/683 - 26s - loss: 0.1680 - val_loss: 0.1217\n",
      "Epoch 21/100\n",
      "683/683 - 25s - loss: 0.1287 - val_loss: 0.1072\n",
      "Epoch 22/100\n",
      "683/683 - 25s - loss: 4.2437 - val_loss: 0.0787\n",
      "Epoch 23/100\n",
      "683/683 - 25s - loss: 0.0962 - val_loss: 0.0760\n",
      "Epoch 24/100\n",
      "683/683 - 25s - loss: 0.0979 - val_loss: 0.1077\n",
      "Epoch 25/100\n",
      "683/683 - 25s - loss: 0.0954 - val_loss: 0.4645\n",
      "Epoch 26/100\n",
      "683/683 - 26s - loss: 0.1672 - val_loss: 0.0803\n",
      "Epoch 27/100\n",
      "683/683 - 26s - loss: 0.0945 - val_loss: 0.0930\n",
      "Epoch 28/100\n",
      "683/683 - 25s - loss: 0.0992 - val_loss: 0.0775\n",
      "Epoch 29/100\n",
      "683/683 - 25s - loss: 0.0931 - val_loss: 0.0885\n",
      "Epoch 30/100\n",
      "683/683 - 25s - loss: 0.0938 - val_loss: 0.0874\n",
      "Epoch 31/100\n",
      "683/683 - 25s - loss: 0.1502 - val_loss: 0.0866\n",
      "Epoch 32/100\n",
      "683/683 - 25s - loss: 0.0911 - val_loss: 0.0869\n",
      "Epoch 33/100\n",
      "683/683 - 25s - loss: 0.0874 - val_loss: 0.0904\n",
      "Epoch 34/100\n",
      "683/683 - 26s - loss: 0.0922 - val_loss: 0.0981\n",
      "Epoch 35/100\n",
      "683/683 - 25s - loss: 0.0918 - val_loss: 0.0784\n",
      "Epoch 36/100\n",
      "683/683 - 25s - loss: 0.0863 - val_loss: 0.0756\n",
      "Epoch 37/100\n",
      "683/683 - 25s - loss: 0.0939 - val_loss: 0.0782\n",
      "Epoch 38/100\n",
      "683/683 - 25s - loss: 0.0885 - val_loss: 0.0756\n",
      "Epoch 39/100\n",
      "683/683 - 25s - loss: 0.6244 - val_loss: 0.0750\n",
      "Epoch 40/100\n",
      "683/683 - 25s - loss: 0.0915 - val_loss: 0.0759\n",
      "Epoch 41/100\n",
      "683/683 - 25s - loss: 0.0894 - val_loss: 0.0812\n",
      "Epoch 42/100\n",
      "683/683 - 26s - loss: 0.0874 - val_loss: 0.0729\n",
      "Epoch 43/100\n",
      "683/683 - 25s - loss: 0.1601 - val_loss: 0.0699\n",
      "Epoch 44/100\n",
      "683/683 - 25s - loss: 0.0902 - val_loss: 0.0798\n",
      "Epoch 45/100\n",
      "683/683 - 25s - loss: 0.0856 - val_loss: 0.0717\n",
      "Epoch 46/100\n",
      "683/683 - 25s - loss: 0.0871 - val_loss: 0.0745\n",
      "Epoch 47/100\n",
      "683/683 - 25s - loss: 0.0897 - val_loss: 0.0819\n",
      "Epoch 48/100\n",
      "683/683 - 25s - loss: 0.0909 - val_loss: 0.0700\n",
      "Epoch 49/100\n",
      "683/683 - 26s - loss: 0.0890 - val_loss: 0.0778\n",
      "Epoch 50/100\n",
      "683/683 - 26s - loss: 0.0918 - val_loss: 0.0799\n",
      "Epoch 51/100\n",
      "683/683 - 26s - loss: 0.0888 - val_loss: 0.0717\n",
      "Epoch 52/100\n",
      "683/683 - 26s - loss: 0.0889 - val_loss: 0.0745\n",
      "Epoch 53/100\n",
      "683/683 - 26s - loss: 0.0891 - val_loss: 0.0860\n",
      "Epoch 54/100\n",
      "683/683 - 26s - loss: 0.0874 - val_loss: 0.0794\n",
      "Epoch 55/100\n",
      "683/683 - 26s - loss: 0.0925 - val_loss: 0.0844\n",
      "Epoch 56/100\n",
      "683/683 - 26s - loss: 0.0896 - val_loss: 0.1020\n",
      "Epoch 57/100\n",
      "683/683 - 26s - loss: 0.0904 - val_loss: 0.0811\n",
      "Epoch 58/100\n",
      "683/683 - 26s - loss: 0.0910 - val_loss: 0.0739\n",
      "Epoch 59/100\n",
      "683/683 - 26s - loss: 0.0862 - val_loss: 0.0706\n",
      "Epoch 60/100\n",
      "683/683 - 26s - loss: 0.0882 - val_loss: 0.0785\n",
      "Epoch 61/100\n",
      "683/683 - 26s - loss: 0.0892 - val_loss: 0.0785\n",
      "Epoch 62/100\n",
      "683/683 - 26s - loss: 0.0912 - val_loss: 0.0759\n",
      "Epoch 63/100\n",
      "683/683 - 26s - loss: 0.0907 - val_loss: 0.0803\n",
      "Epoch 64/100\n",
      "683/683 - 26s - loss: 0.0925 - val_loss: 0.0818\n",
      "Epoch 65/100\n",
      "683/683 - 26s - loss: 0.0957 - val_loss: 0.0731\n",
      "Epoch 66/100\n",
      "683/683 - 26s - loss: 0.0899 - val_loss: 0.0738\n",
      "Epoch 67/100\n",
      "683/683 - 27s - loss: 0.1024 - val_loss: 0.0867\n",
      "Epoch 68/100\n",
      "683/683 - 26s - loss: 0.0956 - val_loss: 0.0863\n",
      "Epoch 69/100\n",
      "683/683 - 26s - loss: 0.0926 - val_loss: 0.0735\n",
      "Epoch 70/100\n",
      "683/683 - 26s - loss: 0.0965 - val_loss: 0.0752\n",
      "Epoch 71/100\n",
      "683/683 - 26s - loss: 0.0915 - val_loss: 0.0814\n",
      "Epoch 72/100\n",
      "683/683 - 26s - loss: 0.0946 - val_loss: 0.0778\n",
      "Epoch 73/100\n",
      "683/683 - 26s - loss: 0.0966 - val_loss: 0.0774\n",
      "Epoch 74/100\n",
      "683/683 - 26s - loss: 0.0985 - val_loss: 0.0762\n",
      "Epoch 75/100\n",
      "683/683 - 26s - loss: 0.0929 - val_loss: 0.0787\n",
      "Epoch 76/100\n",
      "683/683 - 26s - loss: 0.0926 - val_loss: 0.0792\n",
      "Epoch 77/100\n",
      "683/683 - 25s - loss: 0.1008 - val_loss: 0.0773\n",
      "Epoch 78/100\n",
      "683/683 - 26s - loss: 0.0924 - val_loss: 0.0838\n",
      "Epoch 79/100\n",
      "683/683 - 26s - loss: 0.0896 - val_loss: 0.0786\n",
      "Epoch 80/100\n",
      "683/683 - 26s - loss: 0.0901 - val_loss: 0.0746\n",
      "Epoch 81/100\n",
      "683/683 - 26s - loss: 0.0875 - val_loss: 0.0797\n",
      "Epoch 82/100\n",
      "683/683 - 26s - loss: 0.0904 - val_loss: 0.0775\n",
      "Epoch 83/100\n",
      "683/683 - 26s - loss: 0.0926 - val_loss: 0.0776\n",
      "Epoch 84/100\n",
      "683/683 - 25s - loss: 0.0915 - val_loss: 0.0961\n",
      "Epoch 85/100\n",
      "683/683 - 26s - loss: 0.0927 - val_loss: 0.0873\n",
      "Epoch 86/100\n",
      "683/683 - 25s - loss: 0.0892 - val_loss: 0.0888\n",
      "Epoch 87/100\n",
      "683/683 - 26s - loss: 0.0907 - val_loss: 0.0885\n",
      "Epoch 88/100\n",
      "683/683 - 25s - loss: 0.0908 - val_loss: 0.0722\n",
      "Epoch 89/100\n",
      "683/683 - 25s - loss: 0.0987 - val_loss: 0.0859\n",
      "Epoch 90/100\n",
      "683/683 - 26s - loss: 0.0885 - val_loss: 0.0709\n",
      "Epoch 91/100\n",
      "683/683 - 26s - loss: 0.0879 - val_loss: 0.0720\n",
      "Epoch 92/100\n",
      "683/683 - 26s - loss: 0.0887 - val_loss: 0.0841\n",
      "Epoch 93/100\n",
      "683/683 - 26s - loss: 0.0899 - val_loss: 0.0773\n",
      "Epoch 94/100\n",
      "683/683 - 26s - loss: 0.0874 - val_loss: 0.0769\n",
      "Epoch 95/100\n",
      "683/683 - 26s - loss: 0.0912 - val_loss: 0.0742\n",
      "Epoch 96/100\n",
      "683/683 - 25s - loss: 0.0888 - val_loss: 0.0809\n",
      "Epoch 97/100\n",
      "683/683 - 26s - loss: 0.0900 - val_loss: 0.0779\n",
      "Epoch 98/100\n",
      "683/683 - 26s - loss: 0.1114 - val_loss: 0.0728\n",
      "Epoch 99/100\n",
      "683/683 - 26s - loss: 0.0881 - val_loss: 0.0803\n",
      "Epoch 100/100\n",
      "683/683 - 26s - loss: 0.0938 - val_loss: 0.0839\n"
     ]
    },
    {
     "data": {
      "text/plain": [
       "<tensorflow.python.keras.callbacks.History at 0x7f8a550e8910>"
      ]
     },
     "execution_count": 53,
     "metadata": {
      "tags": []
     },
     "output_type": "execute_result"
    }
   ],
   "source": [
    "# fit model\n",
    "RNN_model_3.fit(normalized_train_X, normalized_train_y, epochs=100, validation_split=0.3, verbose=2)"
   ]
  },
  {
   "cell_type": "code",
   "execution_count": null,
   "metadata": {
    "colab": {
     "base_uri": "https://localhost:8080/"
    },
    "id": "fsB97SjLo0ef",
    "outputId": "056cbc3d-be6c-4b8b-ec94-a27a0d5bf3cb"
   },
   "outputs": [
    {
     "data": {
      "text/plain": [
       "(13366,)"
      ]
     },
     "execution_count": 54,
     "metadata": {
      "tags": []
     },
     "output_type": "execute_result"
    }
   ],
   "source": [
    "y_true = val_y\n",
    "y_true.shape"
   ]
  },
  {
   "cell_type": "code",
   "execution_count": null,
   "metadata": {
    "colab": {
     "base_uri": "https://localhost:8080/"
    },
    "id": "nwSceYa-o1Rn",
    "outputId": "a02b3fc2-1f7d-49e7-ea33-0ffb7b047d5a"
   },
   "outputs": [
    {
     "data": {
      "text/plain": [
       "(13366, 1)"
      ]
     },
     "execution_count": 55,
     "metadata": {
      "tags": []
     },
     "output_type": "execute_result"
    }
   ],
   "source": [
    "normalized_y_pred = RNN_model_3.predict(normalized_val_X)\n",
    "y_pred = normalized_y_pred * train_y.std() + train_y.mean()\n",
    "y_pred.shape"
   ]
  },
  {
   "cell_type": "code",
   "execution_count": null,
   "metadata": {
    "colab": {
     "base_uri": "https://localhost:8080/"
    },
    "id": "CoLg7TgCo4_L",
    "outputId": "99256c76-516a-43a8-b090-bc17067cd9c4"
   },
   "outputs": [
    {
     "name": "stdout",
     "output_type": "stream",
     "text": [
      "Mean Squared Error is: 2.45\n"
     ]
    }
   ],
   "source": [
    "# Evaluation\n",
    "valScore = mean_squared_error(y_true, y_pred)\n",
    "print('Mean Squared Error is: %.2f' % (valScore))"
   ]
  }
 ],
 "metadata": {
  "colab": {
   "collapsed_sections": [],
   "name": "Untitled2.ipynb",
   "provenance": [],
   "toc_visible": true
  },
  "kernelspec": {
   "display_name": "Python 3 (ipykernel)",
   "language": "python",
   "name": "python3"
  },
  "language_info": {
   "codemirror_mode": {
    "name": "ipython",
    "version": 3
   },
   "file_extension": ".py",
   "mimetype": "text/x-python",
   "name": "python",
   "nbconvert_exporter": "python",
   "pygments_lexer": "ipython3",
   "version": "3.9.6"
  }
 },
 "nbformat": 4,
 "nbformat_minor": 1
}
