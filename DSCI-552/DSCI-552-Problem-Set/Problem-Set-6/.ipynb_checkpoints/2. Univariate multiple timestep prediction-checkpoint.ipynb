{
 "cells": [
  {
   "cell_type": "markdown",
   "metadata": {},
   "source": [
    "# Load dataset"
   ]
  },
  {
   "cell_type": "code",
   "execution_count": 1,
   "metadata": {},
   "outputs": [],
   "source": [
    "import pandas as pd\n",
    "import numpy as np\n",
    "import matplotlib.pyplot as plt"
   ]
  },
  {
   "cell_type": "code",
   "execution_count": 2,
   "metadata": {},
   "outputs": [],
   "source": [
    "import math"
   ]
  },
  {
   "cell_type": "code",
   "execution_count": 4,
   "metadata": {},
   "outputs": [],
   "source": [
    "from keras.models import Sequential\n",
    "from keras.layers import Dense\n",
    "from sklearn.metrics import mean_squared_error"
   ]
  },
  {
   "cell_type": "code",
   "execution_count": 5,
   "metadata": {},
   "outputs": [],
   "source": [
    "from keras.layers import LSTM, Flatten"
   ]
  },
  {
   "cell_type": "code",
   "execution_count": 6,
   "metadata": {},
   "outputs": [],
   "source": [
    "# Load dataset\n",
    "df = pd.read_csv(\"datasets/ps6_trainvalid.csv\")"
   ]
  },
  {
   "cell_type": "code",
   "execution_count": 7,
   "metadata": {},
   "outputs": [
    {
     "data": {
      "text/html": [
       "<div>\n",
       "<style scoped>\n",
       "    .dataframe tbody tr th:only-of-type {\n",
       "        vertical-align: middle;\n",
       "    }\n",
       "\n",
       "    .dataframe tbody tr th {\n",
       "        vertical-align: top;\n",
       "    }\n",
       "\n",
       "    .dataframe thead th {\n",
       "        text-align: right;\n",
       "    }\n",
       "</style>\n",
       "<table border=\"1\" class=\"dataframe\">\n",
       "  <thead>\n",
       "    <tr style=\"text-align: right;\">\n",
       "      <th></th>\n",
       "      <th>datetime</th>\n",
       "      <th>temperature</th>\n",
       "      <th>humidity</th>\n",
       "      <th>pressure</th>\n",
       "      <th>weather</th>\n",
       "      <th>wind_direction</th>\n",
       "      <th>wind_speed</th>\n",
       "    </tr>\n",
       "  </thead>\n",
       "  <tbody>\n",
       "    <tr>\n",
       "      <th>0</th>\n",
       "      <td>2012-10-01 12:00:00</td>\n",
       "      <td>NaN</td>\n",
       "      <td>NaN</td>\n",
       "      <td>NaN</td>\n",
       "      <td>NaN</td>\n",
       "      <td>NaN</td>\n",
       "      <td>NaN</td>\n",
       "    </tr>\n",
       "    <tr>\n",
       "      <th>1</th>\n",
       "      <td>2012-10-01 13:00:00</td>\n",
       "      <td>291.870000</td>\n",
       "      <td>88.0</td>\n",
       "      <td>1013.0</td>\n",
       "      <td>mist</td>\n",
       "      <td>0.0</td>\n",
       "      <td>0.0</td>\n",
       "    </tr>\n",
       "    <tr>\n",
       "      <th>2</th>\n",
       "      <td>2012-10-01 14:00:00</td>\n",
       "      <td>291.868186</td>\n",
       "      <td>88.0</td>\n",
       "      <td>1013.0</td>\n",
       "      <td>sky is clear</td>\n",
       "      <td>0.0</td>\n",
       "      <td>0.0</td>\n",
       "    </tr>\n",
       "    <tr>\n",
       "      <th>3</th>\n",
       "      <td>2012-10-01 15:00:00</td>\n",
       "      <td>291.862844</td>\n",
       "      <td>88.0</td>\n",
       "      <td>1013.0</td>\n",
       "      <td>sky is clear</td>\n",
       "      <td>0.0</td>\n",
       "      <td>0.0</td>\n",
       "    </tr>\n",
       "    <tr>\n",
       "      <th>4</th>\n",
       "      <td>2012-10-01 16:00:00</td>\n",
       "      <td>291.857503</td>\n",
       "      <td>88.0</td>\n",
       "      <td>1013.0</td>\n",
       "      <td>sky is clear</td>\n",
       "      <td>0.0</td>\n",
       "      <td>0.0</td>\n",
       "    </tr>\n",
       "  </tbody>\n",
       "</table>\n",
       "</div>"
      ],
      "text/plain": [
       "              datetime  temperature  humidity  pressure       weather  \\\n",
       "0  2012-10-01 12:00:00          NaN       NaN       NaN           NaN   \n",
       "1  2012-10-01 13:00:00   291.870000      88.0    1013.0          mist   \n",
       "2  2012-10-01 14:00:00   291.868186      88.0    1013.0  sky is clear   \n",
       "3  2012-10-01 15:00:00   291.862844      88.0    1013.0  sky is clear   \n",
       "4  2012-10-01 16:00:00   291.857503      88.0    1013.0  sky is clear   \n",
       "\n",
       "   wind_direction  wind_speed  \n",
       "0             NaN         NaN  \n",
       "1             0.0         0.0  \n",
       "2             0.0         0.0  \n",
       "3             0.0         0.0  \n",
       "4             0.0         0.0  "
      ]
     },
     "execution_count": 7,
     "metadata": {},
     "output_type": "execute_result"
    }
   ],
   "source": [
    "df.head()"
   ]
  },
  {
   "cell_type": "markdown",
   "metadata": {},
   "source": [
    "### Preprocessing"
   ]
  },
  {
   "cell_type": "code",
   "execution_count": 8,
   "metadata": {},
   "outputs": [
    {
     "data": {
      "text/plain": [
       "(3, 7)"
      ]
     },
     "execution_count": 8,
     "metadata": {},
     "output_type": "execute_result"
    }
   ],
   "source": [
    "# Dealing with missing data\n",
    "missing_data = df[pd.isnull(df[\"temperature\"])]\n",
    "missing_data.shape"
   ]
  },
  {
   "cell_type": "code",
   "execution_count": 9,
   "metadata": {},
   "outputs": [],
   "source": [
    "# drop those data\n",
    "df = df.dropna()"
   ]
  },
  {
   "cell_type": "code",
   "execution_count": 10,
   "metadata": {},
   "outputs": [],
   "source": [
    "time = df['datetime']\n",
    "temp_values = df['temperature'].values "
   ]
  },
  {
   "cell_type": "code",
   "execution_count": 11,
   "metadata": {},
   "outputs": [
    {
     "data": {
      "text/plain": [
       "(44671,)"
      ]
     },
     "execution_count": 11,
     "metadata": {},
     "output_type": "execute_result"
    }
   ],
   "source": [
    "time.shape"
   ]
  },
  {
   "cell_type": "code",
   "execution_count": 12,
   "metadata": {},
   "outputs": [
    {
     "data": {
      "text/plain": [
       "(44671,)"
      ]
     },
     "execution_count": 12,
     "metadata": {},
     "output_type": "execute_result"
    }
   ],
   "source": [
    "temp_values.shape"
   ]
  },
  {
   "cell_type": "code",
   "execution_count": 13,
   "metadata": {},
   "outputs": [
    {
     "data": {
      "text/plain": [
       "array([291.87      , 291.86818552, 291.86284446, ..., 296.51      ,\n",
       "       297.09      , 296.69      ])"
      ]
     },
     "execution_count": 13,
     "metadata": {},
     "output_type": "execute_result"
    }
   ],
   "source": [
    "temp_values"
   ]
  },
  {
   "cell_type": "markdown",
   "metadata": {},
   "source": [
    "# The model which can forecast the 'future' 24 hours, 72 hours, ......."
   ]
  },
  {
   "cell_type": "markdown",
   "metadata": {},
   "source": [
    "## Predicting future 24 hours"
   ]
  },
  {
   "cell_type": "code",
   "execution_count": 14,
   "metadata": {},
   "outputs": [
    {
     "name": "stdout",
     "output_type": "stream",
     "text": [
      "[10 20 30] [40 50]\n",
      "[30 40 50] [60 70]\n",
      "[50 60 70] [80 90]\n"
     ]
    }
   ],
   "source": [
    "# split a univariate sequence into samples\n",
    "def split_sequence(sequence, n_steps_in, n_steps_out):\n",
    "    X, y = list(), list()\n",
    "    # for i in range(len(sequence)):\n",
    "    #     # find the end of this pattern\n",
    "    #     end_ix = i + n_steps_in\n",
    "    #     out_end_ix = end_ix + n_steps_out\n",
    "    #     # check if we are beyond the sequence\n",
    "    #     if out_end_ix > len(sequence):\n",
    "    #         break\n",
    "    #     # gather input and output parts of the pattern\n",
    "    #     seq_x, seq_y = sequence[i:end_ix], sequence[end_ix:out_end_ix]\n",
    "    #     X.append(seq_x)\n",
    "    #     y.append(seq_y)\n",
    "    i = 0\n",
    "    while i + n_steps_in + n_steps_out <= len(sequence):\n",
    "        end_ix = i + n_steps_in\n",
    "        out_end_ix = i + n_steps_in + n_steps_out\n",
    "        seq_x, seq_y = sequence[i:end_ix], sequence[end_ix:out_end_ix]\n",
    "        X.append(seq_x)\n",
    "        y.append(seq_y)\n",
    "        i += n_steps_out\n",
    "    return np.array(X), np.array(y)\n",
    " \n",
    "# define input sequence\n",
    "raw_seq = [10, 20, 30, 40, 50, 60, 70, 80, 90]\n",
    "# choose a number of time steps\n",
    "n_steps_in, n_steps_out = 3, 2\n",
    "# split into samples\n",
    "X, y = split_sequence(raw_seq, n_steps_in, n_steps_out)\n",
    "# summarize the data\n",
    "for i in range(len(X)):\n",
    "\tprint(X[i], y[i])"
   ]
  },
  {
   "cell_type": "code",
   "execution_count": 15,
   "metadata": {},
   "outputs": [],
   "source": [
    "# choose a number of time steps\n",
    "n_steps_in, n_steps_out = 24*5, 24"
   ]
  },
  {
   "cell_type": "code",
   "execution_count": 16,
   "metadata": {},
   "outputs": [],
   "source": [
    "X, y = split_sequence(temp_values, n_steps_in, n_steps_out)"
   ]
  },
  {
   "cell_type": "code",
   "execution_count": 17,
   "metadata": {},
   "outputs": [
    {
     "data": {
      "text/plain": [
       "(1856, 120)"
      ]
     },
     "execution_count": 17,
     "metadata": {},
     "output_type": "execute_result"
    }
   ],
   "source": [
    "X.shape"
   ]
  },
  {
   "cell_type": "code",
   "execution_count": 18,
   "metadata": {},
   "outputs": [],
   "source": [
    "# reshape from [samples, timesteps] into [samples, timesteps, features]\n",
    "n_features = 1\n",
    "X = X.reshape((X.shape[0], X.shape[1], n_features))"
   ]
  },
  {
   "cell_type": "code",
   "execution_count": 19,
   "metadata": {},
   "outputs": [
    {
     "data": {
      "text/plain": [
       "(1856, 120, 1)"
      ]
     },
     "execution_count": 19,
     "metadata": {},
     "output_type": "execute_result"
    }
   ],
   "source": [
    "X.shape"
   ]
  },
  {
   "cell_type": "code",
   "execution_count": 20,
   "metadata": {},
   "outputs": [
    {
     "data": {
      "text/plain": [
       "(1856, 24)"
      ]
     },
     "execution_count": 20,
     "metadata": {},
     "output_type": "execute_result"
    }
   ],
   "source": [
    "y.shape"
   ]
  },
  {
   "cell_type": "code",
   "execution_count": 21,
   "metadata": {},
   "outputs": [
    {
     "data": {
      "text/plain": [
       "array([[290.96, 292.28, 294.72, ..., 291.75, 294.55, 296.13],\n",
       "       [297.4 , 298.21, 298.01, ..., 293.54, 294.48, 296.44],\n",
       "       [296.83, 297.66, 297.68, ..., 291.25, 291.74, 293.93],\n",
       "       ...,\n",
       "       [291.58, 294.44, 296.58, ..., 290.15, 290.21, 290.41],\n",
       "       [291.26, 292.65, 293.98, ..., 285.3 , 285.08, 287.77],\n",
       "       [291.21, 293.38, 295.38, ..., 283.66, 284.14, 287.33]])"
      ]
     },
     "execution_count": 21,
     "metadata": {},
     "output_type": "execute_result"
    }
   ],
   "source": [
    "y"
   ]
  },
  {
   "cell_type": "code",
   "execution_count": 22,
   "metadata": {},
   "outputs": [
    {
     "name": "stdout",
     "output_type": "stream",
     "text": [
      "Shape of training X: (1299, 120, 1)\n",
      "Shape of validation X: (557, 120, 1)\n",
      "Shape of training y: (1299, 24)\n",
      "Shape of validation y: (557, 24)\n"
     ]
    }
   ],
   "source": [
    "# Split training and validation set\n",
    "n = len(X)\n",
    "train_X = X[0:int(n*0.7),:]\n",
    "val_X = X[int(n*0.7):,:]\n",
    "\n",
    "train_y = y[0:int(n*0.7)]\n",
    "val_y = y[int(n*0.7):]\n",
    "\n",
    "print(\"Shape of training X: {}\".format(train_X.shape))\n",
    "print(\"Shape of validation X: {}\".format(val_X.shape))\n",
    "\n",
    "print(\"Shape of training y: {}\".format(train_y.shape))\n",
    "print(\"Shape of validation y: {}\".format(val_y.shape))"
   ]
  },
  {
   "cell_type": "code",
   "execution_count": 23,
   "metadata": {},
   "outputs": [],
   "source": [
    "# Normalization\n",
    "train_X_mean = train_X.mean()\n",
    "train_X_std = train_X.std()\n",
    "\n",
    "train_y_mean = train_y.mean()\n",
    "train_y_std = train_y.std()"
   ]
  },
  {
   "cell_type": "code",
   "execution_count": 24,
   "metadata": {},
   "outputs": [],
   "source": [
    "normalized_train_X = (train_X - train_X_mean)/train_X_std\n",
    "normalized_val_X = (val_X - train_X_mean)/train_X_std\n",
    "\n",
    "normalized_train_y = (train_y - train_y_mean)/train_y_std\n",
    "normalized_val_y = (val_y - train_y_mean)/train_y_std"
   ]
  },
  {
   "cell_type": "code",
   "execution_count": 25,
   "metadata": {},
   "outputs": [
    {
     "name": "stdout",
     "output_type": "stream",
     "text": [
      "Model: \"sequential\"\n",
      "_________________________________________________________________\n",
      "Layer (type)                 Output Shape              Param #   \n",
      "=================================================================\n",
      "lstm (LSTM)                  (None, 120, 50)           10400     \n",
      "_________________________________________________________________\n",
      "lstm_1 (LSTM)                (None, 50)                20200     \n",
      "_________________________________________________________________\n",
      "dense (Dense)                (None, 24)                1224      \n",
      "=================================================================\n",
      "Total params: 31,824\n",
      "Trainable params: 31,824\n",
      "Non-trainable params: 0\n",
      "_________________________________________________________________\n",
      "None\n"
     ]
    }
   ],
   "source": [
    "# define model\n",
    "RNN_model_2 = Sequential()\n",
    "RNN_model_2.add(LSTM(50, activation='relu', return_sequences=True, input_shape=(n_steps_in, n_features)))\n",
    "RNN_model_2.add(LSTM(50, activation='relu'))\n",
    "RNN_model_2.add(Dense(n_steps_out))\n",
    "RNN_model_2.compile(optimizer='adam', loss='mse')\n",
    "print(RNN_model_2.summary())"
   ]
  },
  {
   "cell_type": "code",
   "execution_count": 26,
   "metadata": {},
   "outputs": [
    {
     "name": "stdout",
     "output_type": "stream",
     "text": [
      "Epoch 1/100\n",
      "33/33 - 8s - loss: 24944970.0000 - val_loss: 0.8677\n",
      "Epoch 2/100\n",
      "33/33 - 4s - loss: 1225641426944.0000 - val_loss: 6826975744.0000\n",
      "Epoch 3/100\n",
      "33/33 - 4s - loss: 11088.0430 - val_loss: 0.8918\n",
      "Epoch 4/100\n",
      "33/33 - 4s - loss: 0.9230 - val_loss: 0.8891\n",
      "Epoch 5/100\n",
      "33/33 - 4s - loss: 0.9184 - val_loss: 0.8836\n",
      "Epoch 6/100\n",
      "33/33 - 4s - loss: 0.9130 - val_loss: 0.8783\n",
      "Epoch 7/100\n",
      "33/33 - 5s - loss: 0.9075 - val_loss: 0.8723\n",
      "Epoch 8/100\n",
      "33/33 - 5s - loss: 0.9017 - val_loss: 0.8664\n",
      "Epoch 9/100\n",
      "33/33 - 4s - loss: 0.8958 - val_loss: 0.8602\n",
      "Epoch 10/100\n",
      "33/33 - 4s - loss: 0.8890 - val_loss: 0.8533\n",
      "Epoch 11/100\n",
      "33/33 - 4s - loss: 681828032.0000 - val_loss: 0.8521\n",
      "Epoch 12/100\n",
      "33/33 - 4s - loss: 0.8932 - val_loss: 0.8523\n",
      "Epoch 13/100\n",
      "33/33 - 4s - loss: 0.8867 - val_loss: 0.8438\n",
      "Epoch 14/100\n",
      "33/33 - 4s - loss: 0.8782 - val_loss: 0.8357\n",
      "Epoch 15/100\n",
      "33/33 - 4s - loss: 0.8702 - val_loss: 0.8280\n",
      "Epoch 16/100\n",
      "33/33 - 4s - loss: 0.8626 - val_loss: 0.8207\n",
      "Epoch 17/100\n",
      "33/33 - 4s - loss: 0.8553 - val_loss: 0.8134\n",
      "Epoch 18/100\n",
      "33/33 - 4s - loss: 0.8482 - val_loss: 0.8060\n",
      "Epoch 19/100\n",
      "33/33 - 4s - loss: 0.8412 - val_loss: 0.7991\n",
      "Epoch 20/100\n",
      "33/33 - 4s - loss: 0.8344 - val_loss: 0.7922\n",
      "Epoch 21/100\n",
      "33/33 - 4s - loss: 0.8278 - val_loss: 0.7854\n",
      "Epoch 22/100\n",
      "33/33 - 4s - loss: 0.8213 - val_loss: 0.7785\n",
      "Epoch 23/100\n",
      "33/33 - 4s - loss: 0.8149 - val_loss: 0.7720\n",
      "Epoch 24/100\n",
      "33/33 - 4s - loss: 0.8087 - val_loss: 0.7658\n",
      "Epoch 25/100\n",
      "33/33 - 4s - loss: 0.8026 - val_loss: 0.7592\n",
      "Epoch 26/100\n",
      "33/33 - 4s - loss: 0.7965 - val_loss: 0.7530\n",
      "Epoch 27/100\n",
      "33/33 - 4s - loss: 0.7905 - val_loss: 0.7465\n",
      "Epoch 28/100\n",
      "33/33 - 4s - loss: 0.7846 - val_loss: 0.7404\n",
      "Epoch 29/100\n",
      "33/33 - 4s - loss: 0.7789 - val_loss: 0.7342\n",
      "Epoch 30/100\n",
      "33/33 - 4s - loss: 0.7732 - val_loss: 0.7281\n",
      "Epoch 31/100\n",
      "33/33 - 4s - loss: 0.7675 - val_loss: 0.7221\n",
      "Epoch 32/100\n",
      "33/33 - 4s - loss: 0.7619 - val_loss: 0.7160\n",
      "Epoch 33/100\n",
      "33/33 - 4s - loss: 0.7564 - val_loss: 0.7103\n",
      "Epoch 34/100\n",
      "33/33 - 4s - loss: 0.7510 - val_loss: 0.7044\n",
      "Epoch 35/100\n",
      "33/33 - 4s - loss: 0.7457 - val_loss: 0.6989\n",
      "Epoch 36/100\n",
      "33/33 - 4s - loss: 0.7405 - val_loss: 0.6932\n",
      "Epoch 37/100\n",
      "33/33 - 4s - loss: 0.7354 - val_loss: 0.6874\n",
      "Epoch 38/100\n",
      "33/33 - 4s - loss: 0.7302 - val_loss: 0.6819\n",
      "Epoch 39/100\n",
      "33/33 - 4s - loss: 0.7251 - val_loss: 0.6764\n",
      "Epoch 40/100\n",
      "33/33 - 4s - loss: 0.7201 - val_loss: 0.6710\n",
      "Epoch 41/100\n",
      "33/33 - 4s - loss: 0.7152 - val_loss: 0.6657\n",
      "Epoch 42/100\n",
      "33/33 - 4s - loss: 0.7103 - val_loss: 0.6602\n",
      "Epoch 43/100\n",
      "33/33 - 4s - loss: 0.7055 - val_loss: 0.6551\n",
      "Epoch 44/100\n",
      "33/33 - 4s - loss: 0.7008 - val_loss: 0.6497\n",
      "Epoch 45/100\n",
      "33/33 - 4s - loss: 0.6961 - val_loss: 0.6447\n",
      "Epoch 46/100\n",
      "33/33 - 4s - loss: 0.6914 - val_loss: 0.6394\n",
      "Epoch 47/100\n",
      "33/33 - 4s - loss: 0.6869 - val_loss: 0.6344\n",
      "Epoch 48/100\n",
      "33/33 - 4s - loss: 0.6824 - val_loss: 0.6294\n",
      "Epoch 49/100\n",
      "33/33 - 4s - loss: 0.6780 - val_loss: 0.6245\n",
      "Epoch 50/100\n",
      "33/33 - 4s - loss: 0.6736 - val_loss: 0.6197\n",
      "Epoch 51/100\n",
      "33/33 - 4s - loss: 0.6692 - val_loss: 0.6151\n",
      "Epoch 52/100\n",
      "33/33 - 4s - loss: 0.6650 - val_loss: 0.6103\n",
      "Epoch 53/100\n",
      "33/33 - 4s - loss: 0.6608 - val_loss: 0.6056\n",
      "Epoch 54/100\n",
      "33/33 - 4s - loss: 0.6566 - val_loss: 0.6009\n",
      "Epoch 55/100\n",
      "33/33 - 4s - loss: 0.6525 - val_loss: 0.5964\n",
      "Epoch 56/100\n",
      "33/33 - 4s - loss: 0.6484 - val_loss: 0.5921\n",
      "Epoch 57/100\n",
      "33/33 - 4s - loss: 0.6444 - val_loss: 0.5875\n",
      "Epoch 58/100\n",
      "33/33 - 4s - loss: 0.6404 - val_loss: 0.5828\n",
      "Epoch 59/100\n",
      "33/33 - 4s - loss: 0.6365 - val_loss: 0.5784\n",
      "Epoch 60/100\n",
      "33/33 - 4s - loss: 0.6327 - val_loss: 0.5740\n",
      "Epoch 61/100\n",
      "33/33 - 4s - loss: 0.6289 - val_loss: 0.5697\n",
      "Epoch 62/100\n",
      "33/33 - 4s - loss: 0.6251 - val_loss: 0.5657\n",
      "Epoch 63/100\n",
      "33/33 - 4s - loss: 0.6215 - val_loss: 0.5616\n",
      "Epoch 64/100\n",
      "33/33 - 4s - loss: 0.6179 - val_loss: 0.5574\n",
      "Epoch 65/100\n",
      "33/33 - 4s - loss: 0.6142 - val_loss: 0.5533\n",
      "Epoch 66/100\n",
      "33/33 - 4s - loss: 0.6107 - val_loss: 0.5492\n",
      "Epoch 67/100\n",
      "33/33 - 4s - loss: 0.6072 - val_loss: 0.5452\n",
      "Epoch 68/100\n",
      "33/33 - 4s - loss: 0.6038 - val_loss: 0.5413\n",
      "Epoch 69/100\n",
      "33/33 - 4s - loss: 0.6004 - val_loss: 0.5374\n",
      "Epoch 70/100\n",
      "33/33 - 4s - loss: 0.5970 - val_loss: 0.5338\n",
      "Epoch 71/100\n",
      "33/33 - 4s - loss: 0.5939 - val_loss: 0.5299\n",
      "Epoch 72/100\n",
      "33/33 - 4s - loss: 0.5906 - val_loss: 0.5261\n",
      "Epoch 73/100\n",
      "33/33 - 4s - loss: 0.5874 - val_loss: 0.5225\n",
      "Epoch 74/100\n",
      "33/33 - 4s - loss: 0.5842 - val_loss: 0.5192\n",
      "Epoch 75/100\n",
      "33/33 - 4s - loss: 0.5812 - val_loss: 0.5156\n",
      "Epoch 76/100\n",
      "33/33 - 4s - loss: 0.5781 - val_loss: 0.5123\n",
      "Epoch 77/100\n",
      "33/33 - 4s - loss: 0.5751 - val_loss: 0.5090\n",
      "Epoch 78/100\n",
      "33/33 - 4s - loss: 0.5722 - val_loss: 0.5054\n",
      "Epoch 79/100\n",
      "33/33 - 4s - loss: 0.5692 - val_loss: 0.5019\n",
      "Epoch 80/100\n",
      "33/33 - 4s - loss: 0.5664 - val_loss: 0.4988\n",
      "Epoch 81/100\n",
      "33/33 - 4s - loss: 0.5635 - val_loss: 0.4956\n",
      "Epoch 82/100\n",
      "33/33 - 4s - loss: 0.5607 - val_loss: 0.4924\n",
      "Epoch 83/100\n",
      "33/33 - 4s - loss: 0.5580 - val_loss: 0.4892\n",
      "Epoch 84/100\n",
      "33/33 - 4s - loss: 0.5553 - val_loss: 0.4862\n",
      "Epoch 85/100\n",
      "33/33 - 4s - loss: 0.5527 - val_loss: 0.4831\n",
      "Epoch 86/100\n",
      "33/33 - 4s - loss: 0.5501 - val_loss: 0.4801\n",
      "Epoch 87/100\n",
      "33/33 - 4s - loss: 0.5475 - val_loss: 0.4773\n",
      "Epoch 88/100\n",
      "33/33 - 4s - loss: 0.5450 - val_loss: 0.4747\n",
      "Epoch 89/100\n",
      "33/33 - 4s - loss: 0.5425 - val_loss: 0.4716\n",
      "Epoch 90/100\n",
      "33/33 - 4s - loss: 0.5401 - val_loss: 0.4687\n",
      "Epoch 91/100\n",
      "33/33 - 4s - loss: 0.5377 - val_loss: 0.4661\n",
      "Epoch 92/100\n",
      "33/33 - 4s - loss: 0.5353 - val_loss: 0.4632\n",
      "Epoch 93/100\n",
      "33/33 - 4s - loss: 0.5330 - val_loss: 0.4607\n",
      "Epoch 94/100\n",
      "33/33 - 4s - loss: 0.5307 - val_loss: 0.4581\n",
      "Epoch 95/100\n",
      "33/33 - 4s - loss: 0.5284 - val_loss: 0.4554\n",
      "Epoch 96/100\n",
      "33/33 - 4s - loss: 0.5262 - val_loss: 0.4526\n",
      "Epoch 97/100\n",
      "33/33 - 4s - loss: 0.5240 - val_loss: 0.4502\n",
      "Epoch 98/100\n",
      "33/33 - 4s - loss: 0.5219 - val_loss: 0.4476\n",
      "Epoch 99/100\n",
      "33/33 - 4s - loss: 0.5198 - val_loss: 0.4454\n",
      "Epoch 100/100\n",
      "33/33 - 4s - loss: 0.5178 - val_loss: 0.4427\n"
     ]
    },
    {
     "data": {
      "text/plain": [
       "<tensorflow.python.keras.callbacks.History at 0x7fb5b9374e50>"
      ]
     },
     "execution_count": 26,
     "metadata": {},
     "output_type": "execute_result"
    }
   ],
   "source": [
    "# fit model\n",
    "RNN_model_2.fit(normalized_train_X, normalized_train_y, epochs=100, validation_split=0.2, verbose=2)"
   ]
  },
  {
   "cell_type": "code",
   "execution_count": 27,
   "metadata": {},
   "outputs": [
    {
     "data": {
      "text/plain": [
       "(557, 24)"
      ]
     },
     "execution_count": 27,
     "metadata": {},
     "output_type": "execute_result"
    }
   ],
   "source": [
    "y_true = val_y\n",
    "y_true.shape"
   ]
  },
  {
   "cell_type": "code",
   "execution_count": 36,
   "metadata": {},
   "outputs": [
    {
     "data": {
      "text/plain": [
       "array([287.84, 288.38, 288.97, ..., 283.66, 284.14, 287.33])"
      ]
     },
     "execution_count": 36,
     "metadata": {},
     "output_type": "execute_result"
    }
   ],
   "source": [
    "y_true.reshape(-1)"
   ]
  },
  {
   "cell_type": "code",
   "execution_count": 29,
   "metadata": {},
   "outputs": [
    {
     "data": {
      "text/plain": [
       "(557, 24)"
      ]
     },
     "execution_count": 29,
     "metadata": {},
     "output_type": "execute_result"
    }
   ],
   "source": [
    "normalized_y_pred = RNN_model_2.predict(normalized_val_X)\n",
    "y_pred = normalized_y_pred * train_y.std() + train_y.mean()\n",
    "y_pred.shape"
   ]
  },
  {
   "cell_type": "code",
   "execution_count": 30,
   "metadata": {},
   "outputs": [
    {
     "data": {
      "text/plain": [
       "array([[289.2087 , 289.20316, 289.1069 , ..., 289.9152 , 289.65912,\n",
       "        289.65637],\n",
       "       [289.44864, 289.36365, 289.2755 , ..., 290.21304, 289.94025,\n",
       "        289.93015],\n",
       "       [289.9357 , 289.75433, 289.65598, ..., 290.72186, 290.42764,\n",
       "        290.4338 ],\n",
       "       ...,\n",
       "       [289.38782, 289.38452, 289.2753 , ..., 290.05548, 289.79996,\n",
       "        289.82898],\n",
       "       [290.2056 , 289.99292, 289.876  , ..., 290.68527, 290.44794,\n",
       "        290.5622 ],\n",
       "       [287.71494, 287.73465, 287.73624, ..., 288.59076, 288.34875,\n",
       "        288.17776]], dtype=float32)"
      ]
     },
     "execution_count": 30,
     "metadata": {},
     "output_type": "execute_result"
    }
   ],
   "source": [
    "y_pred"
   ]
  },
  {
   "cell_type": "code",
   "execution_count": 39,
   "metadata": {},
   "outputs": [
    {
     "name": "stdout",
     "output_type": "stream",
     "text": [
      "Mean Squared Error is: 34.81\n"
     ]
    }
   ],
   "source": [
    "# Evaluation\n",
    "valScore = mean_squared_error(y_true, y_pred)\n",
    "print('Mean Squared Error is: %.2f' % (valScore))"
   ]
  },
  {
   "cell_type": "markdown",
   "metadata": {},
   "source": [
    "## Predicting future 72 hours"
   ]
  },
  {
   "cell_type": "code",
   "execution_count": 49,
   "metadata": {},
   "outputs": [],
   "source": [
    "# choose a number of time steps\n",
    "n_steps_in, n_steps_out = 24*5, 72"
   ]
  },
  {
   "cell_type": "code",
   "execution_count": 50,
   "metadata": {},
   "outputs": [],
   "source": [
    "X, y = split_sequence(temp_values, n_steps_in, n_steps_out)"
   ]
  },
  {
   "cell_type": "code",
   "execution_count": 51,
   "metadata": {},
   "outputs": [
    {
     "data": {
      "text/plain": [
       "(618, 120)"
      ]
     },
     "execution_count": 51,
     "metadata": {},
     "output_type": "execute_result"
    }
   ],
   "source": [
    "X.shape"
   ]
  },
  {
   "cell_type": "code",
   "execution_count": 58,
   "metadata": {},
   "outputs": [],
   "source": [
    "# reshape from [samples, timesteps] into [samples, timesteps, features]\n",
    "n_features = 1\n",
    "X = X.reshape((X.shape[0], X.shape[1], n_features))"
   ]
  },
  {
   "cell_type": "code",
   "execution_count": 59,
   "metadata": {},
   "outputs": [
    {
     "data": {
      "text/plain": [
       "(618, 120, 1)"
      ]
     },
     "execution_count": 59,
     "metadata": {},
     "output_type": "execute_result"
    }
   ],
   "source": [
    "X.shape"
   ]
  },
  {
   "cell_type": "code",
   "execution_count": 60,
   "metadata": {},
   "outputs": [
    {
     "data": {
      "text/plain": [
       "(618, 72)"
      ]
     },
     "execution_count": 60,
     "metadata": {},
     "output_type": "execute_result"
    }
   ],
   "source": [
    "y.shape"
   ]
  },
  {
   "cell_type": "code",
   "execution_count": 61,
   "metadata": {},
   "outputs": [
    {
     "name": "stdout",
     "output_type": "stream",
     "text": [
      "Shape of training X: (432, 120, 1)\n",
      "Shape of validation X: (186, 120, 1)\n",
      "Shape of training y: (432, 72)\n",
      "Shape of validation y: (186, 72)\n"
     ]
    }
   ],
   "source": [
    "# Split training and validation set\n",
    "n = len(X)\n",
    "train_X = X[0:int(n*0.7),:]\n",
    "val_X = X[int(n*0.7):,:]\n",
    "\n",
    "train_y = y[0:int(n*0.7)]\n",
    "val_y = y[int(n*0.7):]\n",
    "\n",
    "print(\"Shape of training X: {}\".format(train_X.shape))\n",
    "print(\"Shape of validation X: {}\".format(val_X.shape))\n",
    "\n",
    "print(\"Shape of training y: {}\".format(train_y.shape))\n",
    "print(\"Shape of validation y: {}\".format(val_y.shape))"
   ]
  },
  {
   "cell_type": "code",
   "execution_count": 62,
   "metadata": {},
   "outputs": [],
   "source": [
    "# Normalization\n",
    "train_X_mean = train_X.mean()\n",
    "train_X_std = train_X.std()\n",
    "\n",
    "train_y_mean = train_y.mean()\n",
    "train_y_std = train_y.std()"
   ]
  },
  {
   "cell_type": "code",
   "execution_count": 63,
   "metadata": {},
   "outputs": [],
   "source": [
    "normalized_train_X = (train_X - train_X_mean)/train_X_std\n",
    "normalized_val_X = (val_X - train_X_mean)/train_X_std\n",
    "\n",
    "normalized_train_y = (train_y - train_y_mean)/train_y_std\n",
    "normalized_val_y = (val_y - train_y_mean)/train_y_std"
   ]
  },
  {
   "cell_type": "code",
   "execution_count": 64,
   "metadata": {},
   "outputs": [
    {
     "name": "stdout",
     "output_type": "stream",
     "text": [
      "Model: \"sequential_2\"\n",
      "_________________________________________________________________\n",
      "Layer (type)                 Output Shape              Param #   \n",
      "=================================================================\n",
      "lstm_4 (LSTM)                (None, 120, 50)           10400     \n",
      "_________________________________________________________________\n",
      "lstm_5 (LSTM)                (None, 50)                20200     \n",
      "_________________________________________________________________\n",
      "dense_2 (Dense)              (None, 72)                3672      \n",
      "=================================================================\n",
      "Total params: 34,272\n",
      "Trainable params: 34,272\n",
      "Non-trainable params: 0\n",
      "_________________________________________________________________\n",
      "None\n"
     ]
    }
   ],
   "source": [
    "# define model\n",
    "RNN_model_2 = Sequential()\n",
    "RNN_model_2.add(LSTM(50, activation='relu', return_sequences=True, input_shape=(n_steps_in, n_features)))\n",
    "RNN_model_2.add(LSTM(50, activation='relu'))\n",
    "RNN_model_2.add(Dense(n_steps_out))\n",
    "RNN_model_2.compile(optimizer='adam', loss='mse')\n",
    "print(RNN_model_2.summary())"
   ]
  },
  {
   "cell_type": "code",
   "execution_count": 65,
   "metadata": {},
   "outputs": [
    {
     "name": "stdout",
     "output_type": "stream",
     "text": [
      "Epoch 1/100\n",
      "11/11 - 5s - loss: 0.9950 - val_loss: 0.9597\n",
      "Epoch 2/100\n",
      "11/11 - 1s - loss: 239.9470 - val_loss: 0.9091\n",
      "Epoch 3/100\n",
      "11/11 - 2s - loss: 0.9374 - val_loss: 0.9126\n",
      "Epoch 4/100\n",
      "11/11 - 1s - loss: 0.9344 - val_loss: 0.9004\n",
      "Epoch 5/100\n",
      "11/11 - 1s - loss: 0.9150 - val_loss: 0.8660\n",
      "Epoch 6/100\n",
      "11/11 - 1s - loss: 158931984.0000 - val_loss: 0.8775\n",
      "Epoch 7/100\n",
      "11/11 - 1s - loss: 0.9120 - val_loss: 0.8839\n",
      "Epoch 8/100\n",
      "11/11 - 1s - loss: 0.9134 - val_loss: 0.8786\n",
      "Epoch 9/100\n",
      "11/11 - 1s - loss: 0.9076 - val_loss: 0.8672\n",
      "Epoch 10/100\n",
      "11/11 - 1s - loss: 0.8981 - val_loss: 0.8492\n",
      "Epoch 11/100\n",
      "11/11 - 1s - loss: 0.8837 - val_loss: 10960421888.0000\n",
      "Epoch 12/100\n",
      "11/11 - 1s - loss: 470550.0625 - val_loss: 0.8841\n",
      "Epoch 13/100\n",
      "11/11 - 1s - loss: 0.9171 - val_loss: 0.8981\n",
      "Epoch 14/100\n",
      "11/11 - 1s - loss: 0.9217 - val_loss: 0.9003\n",
      "Epoch 15/100\n",
      "11/11 - 1s - loss: 0.9209 - val_loss: 0.8995\n",
      "Epoch 16/100\n",
      "11/11 - 1s - loss: 0.9192 - val_loss: 0.8974\n",
      "Epoch 17/100\n",
      "11/11 - 1s - loss: 0.9169 - val_loss: 0.8953\n",
      "Epoch 18/100\n",
      "11/11 - 1s - loss: 0.9143 - val_loss: 0.8931\n",
      "Epoch 19/100\n",
      "11/11 - 1s - loss: 0.9117 - val_loss: 0.8906\n",
      "Epoch 20/100\n",
      "11/11 - 1s - loss: 0.9088 - val_loss: 0.8881\n",
      "Epoch 21/100\n",
      "11/11 - 1s - loss: 0.9059 - val_loss: 0.8853\n",
      "Epoch 22/100\n",
      "11/11 - 1s - loss: 0.9025 - val_loss: 0.8823\n",
      "Epoch 23/100\n",
      "11/11 - 1s - loss: 0.8988 - val_loss: 0.8792\n",
      "Epoch 24/100\n",
      "11/11 - 1s - loss: 0.8943 - val_loss: 0.8753\n",
      "Epoch 25/100\n",
      "11/11 - 1s - loss: 0.8890 - val_loss: 0.8705\n",
      "Epoch 26/100\n",
      "11/11 - 1s - loss: 0.8795 - val_loss: 0.8641\n",
      "Epoch 27/100\n",
      "11/11 - 1s - loss: 2.4746 - val_loss: 0.8627\n",
      "Epoch 28/100\n",
      "11/11 - 1s - loss: 0.8730 - val_loss: 0.8610\n",
      "Epoch 29/100\n",
      "11/11 - 1s - loss: 0.8714 - val_loss: 0.8588\n",
      "Epoch 30/100\n",
      "11/11 - 1s - loss: 0.8691 - val_loss: 0.8568\n",
      "Epoch 31/100\n",
      "11/11 - 1s - loss: 0.8668 - val_loss: 0.8546\n",
      "Epoch 32/100\n",
      "11/11 - 1s - loss: 0.8644 - val_loss: 0.8524\n",
      "Epoch 33/100\n",
      "11/11 - 1s - loss: 0.8620 - val_loss: 0.8502\n",
      "Epoch 34/100\n",
      "11/11 - 1s - loss: 0.8595 - val_loss: 0.8480\n",
      "Epoch 35/100\n",
      "11/11 - 1s - loss: 0.8571 - val_loss: 0.8458\n",
      "Epoch 36/100\n",
      "11/11 - 1s - loss: 0.8546 - val_loss: 0.8436\n",
      "Epoch 37/100\n",
      "11/11 - 1s - loss: 0.8521 - val_loss: 0.8413\n",
      "Epoch 38/100\n",
      "11/11 - 1s - loss: 0.8494 - val_loss: 0.8392\n",
      "Epoch 39/100\n",
      "11/11 - 1s - loss: 0.8470 - val_loss: 0.8368\n",
      "Epoch 40/100\n",
      "11/11 - 1s - loss: 0.8444 - val_loss: 0.8345\n",
      "Epoch 41/100\n",
      "11/11 - 1s - loss: 0.8415 - val_loss: 0.8322\n",
      "Epoch 42/100\n",
      "11/11 - 1s - loss: 0.8389 - val_loss: 0.8299\n",
      "Epoch 43/100\n",
      "11/11 - 1s - loss: 0.8362 - val_loss: 0.8273\n",
      "Epoch 44/100\n",
      "11/11 - 1s - loss: 0.8333 - val_loss: 0.8249\n",
      "Epoch 45/100\n",
      "11/11 - 1s - loss: 0.8305 - val_loss: 0.8224\n",
      "Epoch 46/100\n",
      "11/11 - 1s - loss: 0.8276 - val_loss: 0.8198\n",
      "Epoch 47/100\n",
      "11/11 - 1s - loss: 0.8243 - val_loss: 0.8173\n",
      "Epoch 48/100\n",
      "11/11 - 1s - loss: 0.8212 - val_loss: 0.8147\n",
      "Epoch 49/100\n",
      "11/11 - 1s - loss: 0.8181 - val_loss: 0.8119\n",
      "Epoch 50/100\n",
      "11/11 - 1s - loss: 0.8145 - val_loss: 0.8091\n",
      "Epoch 51/100\n",
      "11/11 - 1s - loss: 0.8110 - val_loss: 0.8062\n",
      "Epoch 52/100\n",
      "11/11 - 1s - loss: 0.8073 - val_loss: 0.8028\n",
      "Epoch 53/100\n",
      "11/11 - 1s - loss: 0.8029 - val_loss: 0.7991\n",
      "Epoch 54/100\n",
      "11/11 - 1s - loss: 0.7977 - val_loss: 0.7947\n",
      "Epoch 55/100\n",
      "11/11 - 1s - loss: 0.7914 - val_loss: 0.7890\n",
      "Epoch 56/100\n",
      "11/11 - 1s - loss: 0.7831 - val_loss: 0.7824\n",
      "Epoch 57/100\n",
      "11/11 - 1s - loss: 0.7721 - val_loss: 0.7721\n",
      "Epoch 58/100\n",
      "11/11 - 1s - loss: 5498.9180 - val_loss: 0.7780\n",
      "Epoch 59/100\n",
      "11/11 - 1s - loss: 2192.6494 - val_loss: 0.8138\n",
      "Epoch 60/100\n",
      "11/11 - 1s - loss: 0.8406 - val_loss: 0.8237\n",
      "Epoch 61/100\n",
      "11/11 - 1s - loss: 0.8488 - val_loss: 0.8256\n",
      "Epoch 62/100\n",
      "11/11 - 1s - loss: 0.8502 - val_loss: 0.8258\n",
      "Epoch 63/100\n",
      "11/11 - 1s - loss: 0.8493 - val_loss: 0.8207\n",
      "Epoch 64/100\n",
      "11/11 - 1s - loss: 0.8253 - val_loss: 0.7881\n",
      "Epoch 65/100\n",
      "11/11 - 1s - loss: 11688.0762 - val_loss: 0.7929\n",
      "Epoch 66/100\n",
      "11/11 - 1s - loss: 0.8145 - val_loss: 0.8077\n",
      "Epoch 67/100\n",
      "11/11 - 1s - loss: 0.8290 - val_loss: 0.8095\n",
      "Epoch 68/100\n",
      "11/11 - 1s - loss: 0.8314 - val_loss: 0.8086\n",
      "Epoch 69/100\n",
      "11/11 - 1s - loss: 0.8311 - val_loss: 0.8069\n",
      "Epoch 70/100\n",
      "11/11 - 1s - loss: 0.8301 - val_loss: 0.8045\n",
      "Epoch 71/100\n",
      "11/11 - 1s - loss: 0.8284 - val_loss: 0.8017\n",
      "Epoch 72/100\n",
      "11/11 - 1s - loss: 0.8265 - val_loss: 0.7983\n",
      "Epoch 73/100\n",
      "11/11 - 1s - loss: 0.8241 - val_loss: 0.7944\n",
      "Epoch 74/100\n",
      "11/11 - 1s - loss: 0.8213 - val_loss: 0.7891\n",
      "Epoch 75/100\n",
      "11/11 - 1s - loss: 0.8177 - val_loss: 0.7815\n",
      "Epoch 76/100\n",
      "11/11 - 1s - loss: 0.8124 - val_loss: 0.7689\n",
      "Epoch 77/100\n",
      "11/11 - 1s - loss: 1.9767 - val_loss: 0.7705\n",
      "Epoch 78/100\n",
      "11/11 - 1s - loss: 0.8122 - val_loss: 0.7799\n",
      "Epoch 79/100\n",
      "11/11 - 1s - loss: 0.8142 - val_loss: 0.7814\n",
      "Epoch 80/100\n",
      "11/11 - 1s - loss: 0.8143 - val_loss: 0.7811\n",
      "Epoch 81/100\n",
      "11/11 - 2s - loss: 0.8139 - val_loss: 0.7803\n",
      "Epoch 82/100\n",
      "11/11 - 2s - loss: 0.8132 - val_loss: 0.7793\n",
      "Epoch 83/100\n",
      "11/11 - 2s - loss: 0.8125 - val_loss: 0.7784\n",
      "Epoch 84/100\n",
      "11/11 - 2s - loss: 0.8118 - val_loss: 0.7773\n",
      "Epoch 85/100\n",
      "11/11 - 2s - loss: 0.8111 - val_loss: 0.7763\n",
      "Epoch 86/100\n",
      "11/11 - 2s - loss: 0.8104 - val_loss: 0.7753\n",
      "Epoch 87/100\n",
      "11/11 - 2s - loss: 0.8096 - val_loss: 0.7743\n",
      "Epoch 88/100\n",
      "11/11 - 2s - loss: 0.8089 - val_loss: 0.7732\n",
      "Epoch 89/100\n",
      "11/11 - 2s - loss: 0.8082 - val_loss: 0.7722\n",
      "Epoch 90/100\n",
      "11/11 - 2s - loss: 0.8075 - val_loss: 0.7712\n",
      "Epoch 91/100\n",
      "11/11 - 2s - loss: 0.8068 - val_loss: 0.7702\n",
      "Epoch 92/100\n",
      "11/11 - 2s - loss: 0.8061 - val_loss: 0.7691\n",
      "Epoch 93/100\n",
      "11/11 - 2s - loss: 0.8053 - val_loss: 0.7681\n",
      "Epoch 94/100\n",
      "11/11 - 1s - loss: 0.8046 - val_loss: 0.7671\n",
      "Epoch 95/100\n",
      "11/11 - 2s - loss: 0.8039 - val_loss: 0.7661\n",
      "Epoch 96/100\n",
      "11/11 - 2s - loss: 0.8032 - val_loss: 0.7650\n",
      "Epoch 97/100\n",
      "11/11 - 2s - loss: 0.8024 - val_loss: 0.7640\n",
      "Epoch 98/100\n",
      "11/11 - 2s - loss: 0.8017 - val_loss: 0.7630\n",
      "Epoch 99/100\n",
      "11/11 - 2s - loss: 0.8010 - val_loss: 0.7620\n",
      "Epoch 100/100\n",
      "11/11 - 1s - loss: 0.8003 - val_loss: 0.7610\n"
     ]
    },
    {
     "data": {
      "text/plain": [
       "<tensorflow.python.keras.callbacks.History at 0x7fb59fe957c0>"
      ]
     },
     "execution_count": 65,
     "metadata": {},
     "output_type": "execute_result"
    }
   ],
   "source": [
    "# fit model\n",
    "RNN_model_2.fit(normalized_train_X, normalized_train_y, epochs=100, validation_split=0.2, verbose=2)"
   ]
  },
  {
   "cell_type": "code",
   "execution_count": 66,
   "metadata": {},
   "outputs": [
    {
     "data": {
      "text/plain": [
       "(186, 72)"
      ]
     },
     "execution_count": 66,
     "metadata": {},
     "output_type": "execute_result"
    }
   ],
   "source": [
    "y_true = val_y\n",
    "y_true.shape"
   ]
  },
  {
   "cell_type": "code",
   "execution_count": 67,
   "metadata": {},
   "outputs": [
    {
     "data": {
      "text/plain": [
       "(186, 72)"
      ]
     },
     "execution_count": 67,
     "metadata": {},
     "output_type": "execute_result"
    }
   ],
   "source": [
    "normalized_y_pred = RNN_model_2.predict(normalized_val_X)\n",
    "y_pred = normalized_y_pred * train_y.std() + train_y.mean()\n",
    "y_pred.shape"
   ]
  },
  {
   "cell_type": "code",
   "execution_count": 68,
   "metadata": {},
   "outputs": [
    {
     "name": "stdout",
     "output_type": "stream",
     "text": [
      "Mean Squared Error is: 39.39\n"
     ]
    }
   ],
   "source": [
    "# Evaluation\n",
    "valScore = mean_squared_error(y_true, y_pred)\n",
    "print('Mean Squared Error is: %.2f' % (valScore))"
   ]
  },
  {
   "cell_type": "code",
   "execution_count": null,
   "metadata": {},
   "outputs": [],
   "source": []
  },
  {
   "cell_type": "code",
   "execution_count": null,
   "metadata": {},
   "outputs": [],
   "source": []
  },
  {
   "cell_type": "code",
   "execution_count": null,
   "metadata": {},
   "outputs": [],
   "source": []
  },
  {
   "cell_type": "code",
   "execution_count": null,
   "metadata": {},
   "outputs": [],
   "source": []
  },
  {
   "cell_type": "code",
   "execution_count": null,
   "metadata": {},
   "outputs": [],
   "source": []
  },
  {
   "cell_type": "code",
   "execution_count": null,
   "metadata": {},
   "outputs": [],
   "source": []
  },
  {
   "cell_type": "code",
   "execution_count": null,
   "metadata": {},
   "outputs": [],
   "source": []
  },
  {
   "cell_type": "code",
   "execution_count": null,
   "metadata": {},
   "outputs": [],
   "source": []
  },
  {
   "cell_type": "code",
   "execution_count": null,
   "metadata": {},
   "outputs": [],
   "source": []
  },
  {
   "cell_type": "code",
   "execution_count": null,
   "metadata": {},
   "outputs": [],
   "source": []
  },
  {
   "cell_type": "code",
   "execution_count": null,
   "metadata": {},
   "outputs": [],
   "source": []
  },
  {
   "cell_type": "code",
   "execution_count": null,
   "metadata": {},
   "outputs": [],
   "source": []
  },
  {
   "cell_type": "code",
   "execution_count": null,
   "metadata": {},
   "outputs": [],
   "source": []
  },
  {
   "cell_type": "code",
   "execution_count": null,
   "metadata": {},
   "outputs": [],
   "source": []
  },
  {
   "cell_type": "code",
   "execution_count": null,
   "metadata": {},
   "outputs": [],
   "source": []
  },
  {
   "cell_type": "code",
   "execution_count": null,
   "metadata": {},
   "outputs": [],
   "source": []
  },
  {
   "cell_type": "code",
   "execution_count": null,
   "metadata": {},
   "outputs": [],
   "source": []
  },
  {
   "cell_type": "code",
   "execution_count": null,
   "metadata": {},
   "outputs": [],
   "source": []
  },
  {
   "cell_type": "code",
   "execution_count": null,
   "metadata": {},
   "outputs": [],
   "source": []
  },
  {
   "cell_type": "code",
   "execution_count": null,
   "metadata": {},
   "outputs": [],
   "source": []
  },
  {
   "cell_type": "code",
   "execution_count": null,
   "metadata": {},
   "outputs": [],
   "source": []
  },
  {
   "cell_type": "code",
   "execution_count": null,
   "metadata": {},
   "outputs": [],
   "source": []
  }
 ],
 "metadata": {
  "kernelspec": {
   "display_name": "Python 3",
   "language": "python",
   "name": "python3"
  },
  "language_info": {
   "codemirror_mode": {
    "name": "ipython",
    "version": 3
   },
   "file_extension": ".py",
   "mimetype": "text/x-python",
   "name": "python",
   "nbconvert_exporter": "python",
   "pygments_lexer": "ipython3",
   "version": "3.8.5"
  }
 },
 "nbformat": 4,
 "nbformat_minor": 4
}
