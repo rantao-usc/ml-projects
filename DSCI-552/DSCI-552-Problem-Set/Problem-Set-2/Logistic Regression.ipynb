{
 "cells": [
  {
   "cell_type": "markdown",
   "metadata": {},
   "source": [
    "# Load and explore the data set"
   ]
  },
  {
   "cell_type": "code",
   "execution_count": 1,
   "metadata": {},
   "outputs": [
    {
     "data": {
      "text/html": [
       "<div>\n",
       "<style scoped>\n",
       "    .dataframe tbody tr th:only-of-type {\n",
       "        vertical-align: middle;\n",
       "    }\n",
       "\n",
       "    .dataframe tbody tr th {\n",
       "        vertical-align: top;\n",
       "    }\n",
       "\n",
       "    .dataframe thead th {\n",
       "        text-align: right;\n",
       "    }\n",
       "</style>\n",
       "<table border=\"1\" class=\"dataframe\">\n",
       "  <thead>\n",
       "    <tr style=\"text-align: right;\">\n",
       "      <th></th>\n",
       "      <th>treatment</th>\n",
       "      <th>age</th>\n",
       "      <th>blood_pressure</th>\n",
       "      <th>gender</th>\n",
       "      <th>blood_test</th>\n",
       "      <th>family_history</th>\n",
       "      <th>MeasureA</th>\n",
       "      <th>TestB</th>\n",
       "      <th>GeneA</th>\n",
       "      <th>GeneB</th>\n",
       "      <th>GeneC</th>\n",
       "    </tr>\n",
       "  </thead>\n",
       "  <tbody>\n",
       "    <tr>\n",
       "      <th>0</th>\n",
       "      <td>1</td>\n",
       "      <td>74</td>\n",
       "      <td>94.113373</td>\n",
       "      <td>non-female</td>\n",
       "      <td>negative</td>\n",
       "      <td>False</td>\n",
       "      <td>-11.035690</td>\n",
       "      <td>-0.336843</td>\n",
       "      <td>double</td>\n",
       "      <td>1</td>\n",
       "      <td>0</td>\n",
       "    </tr>\n",
       "    <tr>\n",
       "      <th>1</th>\n",
       "      <td>1</td>\n",
       "      <td>56</td>\n",
       "      <td>83.337745</td>\n",
       "      <td>non-female</td>\n",
       "      <td>negative</td>\n",
       "      <td>False</td>\n",
       "      <td>-3.982345</td>\n",
       "      <td>-0.018734</td>\n",
       "      <td>none</td>\n",
       "      <td>1</td>\n",
       "      <td>1</td>\n",
       "    </tr>\n",
       "    <tr>\n",
       "      <th>2</th>\n",
       "      <td>0</td>\n",
       "      <td>37</td>\n",
       "      <td>81.759240</td>\n",
       "      <td>female</td>\n",
       "      <td>negative</td>\n",
       "      <td>False</td>\n",
       "      <td>6.205701</td>\n",
       "      <td>0.147933</td>\n",
       "      <td>double</td>\n",
       "      <td>1</td>\n",
       "      <td>1</td>\n",
       "    </tr>\n",
       "    <tr>\n",
       "      <th>3</th>\n",
       "      <td>1</td>\n",
       "      <td>54</td>\n",
       "      <td>88.549518</td>\n",
       "      <td>female</td>\n",
       "      <td>negative</td>\n",
       "      <td>False</td>\n",
       "      <td>-1.827613</td>\n",
       "      <td>-0.338373</td>\n",
       "      <td>none</td>\n",
       "      <td>1</td>\n",
       "      <td>1</td>\n",
       "    </tr>\n",
       "    <tr>\n",
       "      <th>4</th>\n",
       "      <td>0</td>\n",
       "      <td>73</td>\n",
       "      <td>82.171555</td>\n",
       "      <td>female</td>\n",
       "      <td>negative</td>\n",
       "      <td>NaN</td>\n",
       "      <td>-14.637389</td>\n",
       "      <td>-0.369325</td>\n",
       "      <td>none</td>\n",
       "      <td>1</td>\n",
       "      <td>1</td>\n",
       "    </tr>\n",
       "  </tbody>\n",
       "</table>\n",
       "</div>"
      ],
      "text/plain": [
       "   treatment  age  blood_pressure      gender blood_test family_history  \\\n",
       "0          1   74       94.113373  non-female   negative          False   \n",
       "1          1   56       83.337745  non-female   negative          False   \n",
       "2          0   37       81.759240      female   negative          False   \n",
       "3          1   54       88.549518      female   negative          False   \n",
       "4          0   73       82.171555      female   negative            NaN   \n",
       "\n",
       "    MeasureA     TestB   GeneA  GeneB  GeneC  \n",
       "0 -11.035690 -0.336843  double      1      0  \n",
       "1  -3.982345 -0.018734    none      1      1  \n",
       "2   6.205701  0.147933  double      1      1  \n",
       "3  -1.827613 -0.338373    none      1      1  \n",
       "4 -14.637389 -0.369325    none      1      1  "
      ]
     },
     "execution_count": 1,
     "metadata": {},
     "output_type": "execute_result"
    }
   ],
   "source": [
    "# Load dataset\n",
    "import pandas as pd\n",
    "data = pd.read_csv('ps2_available_dataset.csv')\n",
    "# Have a quick look \n",
    "data.head()"
   ]
  },
  {
   "cell_type": "code",
   "execution_count": 2,
   "metadata": {},
   "outputs": [
    {
     "name": "stdout",
     "output_type": "stream",
     "text": [
      "<class 'pandas.core.frame.DataFrame'>\n",
      "RangeIndex: 10000 entries, 0 to 9999\n",
      "Data columns (total 11 columns):\n",
      " #   Column          Non-Null Count  Dtype  \n",
      "---  ------          --------------  -----  \n",
      " 0   treatment       10000 non-null  int64  \n",
      " 1   age             10000 non-null  int64  \n",
      " 2   blood_pressure  10000 non-null  float64\n",
      " 3   gender          10000 non-null  object \n",
      " 4   blood_test      10000 non-null  object \n",
      " 5   family_history  7068 non-null   object \n",
      " 6   MeasureA        10000 non-null  float64\n",
      " 7   TestB           10000 non-null  float64\n",
      " 8   GeneA           10000 non-null  object \n",
      " 9   GeneB           10000 non-null  int64  \n",
      " 10  GeneC           10000 non-null  int64  \n",
      "dtypes: float64(3), int64(4), object(4)\n",
      "memory usage: 859.5+ KB\n"
     ]
    }
   ],
   "source": [
    "# Check variable type\n",
    "data.info()"
   ]
  },
  {
   "cell_type": "markdown",
   "metadata": {},
   "source": [
    "### Notice: \n",
    "Family_history has many null values\n"
   ]
  },
  {
   "cell_type": "markdown",
   "metadata": {},
   "source": [
    "# Dealing with missing values"
   ]
  },
  {
   "cell_type": "markdown",
   "metadata": {},
   "source": [
    "1. First, we need to find whether these null values are Missing Completely at Random (MCAR)"
   ]
  },
  {
   "cell_type": "code",
   "execution_count": 3,
   "metadata": {},
   "outputs": [
    {
     "data": {
      "text/plain": [
       "(2932, 11)"
      ]
     },
     "execution_count": 3,
     "metadata": {},
     "output_type": "execute_result"
    }
   ],
   "source": [
    "# Select the lines that have missing values\n",
    "missing_data = data[pd.isnull(data[\"family_history\"])]\n",
    "missing_data.shape"
   ]
  },
  {
   "cell_type": "markdown",
   "metadata": {},
   "source": [
    "2. Find whether missing values are correlated with any object feature"
   ]
  },
  {
   "cell_type": "code",
   "execution_count": 4,
   "metadata": {},
   "outputs": [
    {
     "data": {
      "text/html": [
       "<div>\n",
       "<style scoped>\n",
       "    .dataframe tbody tr th:only-of-type {\n",
       "        vertical-align: middle;\n",
       "    }\n",
       "\n",
       "    .dataframe tbody tr th {\n",
       "        vertical-align: top;\n",
       "    }\n",
       "\n",
       "    .dataframe thead th {\n",
       "        text-align: right;\n",
       "    }\n",
       "</style>\n",
       "<table border=\"1\" class=\"dataframe\">\n",
       "  <thead>\n",
       "    <tr style=\"text-align: right;\">\n",
       "      <th></th>\n",
       "      <th></th>\n",
       "      <th>counts</th>\n",
       "    </tr>\n",
       "    <tr>\n",
       "      <th>column</th>\n",
       "      <th>value</th>\n",
       "      <th></th>\n",
       "    </tr>\n",
       "  </thead>\n",
       "  <tbody>\n",
       "    <tr>\n",
       "      <th rowspan=\"3\" valign=\"top\">GeneA</th>\n",
       "      <th>single</th>\n",
       "      <td>600</td>\n",
       "    </tr>\n",
       "    <tr>\n",
       "      <th>double</th>\n",
       "      <td>1022</td>\n",
       "    </tr>\n",
       "    <tr>\n",
       "      <th>none</th>\n",
       "      <td>1310</td>\n",
       "    </tr>\n",
       "    <tr>\n",
       "      <th rowspan=\"2\" valign=\"top\">blood_test</th>\n",
       "      <th>positive</th>\n",
       "      <td>293</td>\n",
       "    </tr>\n",
       "    <tr>\n",
       "      <th>negative</th>\n",
       "      <td>2639</td>\n",
       "    </tr>\n",
       "    <tr>\n",
       "      <th rowspan=\"2\" valign=\"top\">gender</th>\n",
       "      <th>non-female</th>\n",
       "      <td>1101</td>\n",
       "    </tr>\n",
       "    <tr>\n",
       "      <th>female</th>\n",
       "      <td>1831</td>\n",
       "    </tr>\n",
       "  </tbody>\n",
       "</table>\n",
       "</div>"
      ],
      "text/plain": [
       "                       counts\n",
       "column     value             \n",
       "GeneA      single         600\n",
       "           double        1022\n",
       "           none          1310\n",
       "blood_test positive       293\n",
       "           negative      2639\n",
       "gender     non-female    1101\n",
       "           female        1831"
      ]
     },
     "execution_count": 4,
     "metadata": {},
     "output_type": "execute_result"
    }
   ],
   "source": [
    "# Count values of each object and sort them from small to big\n",
    "\n",
    "mis_cat_cols = missing_data.select_dtypes(include=object).columns.tolist()\n",
    "(pd.DataFrame(\n",
    "    missing_data[mis_cat_cols]\n",
    "    .melt(var_name='column', value_name='value')\n",
    "    .value_counts())\n",
    ".rename(columns={0: 'counts'})\n",
    ".sort_values(by=['column', 'counts']))  "
   ]
  },
  {
   "cell_type": "code",
   "execution_count": 5,
   "metadata": {},
   "outputs": [
    {
     "data": {
      "text/html": [
       "<div>\n",
       "<style scoped>\n",
       "    .dataframe tbody tr th:only-of-type {\n",
       "        vertical-align: middle;\n",
       "    }\n",
       "\n",
       "    .dataframe tbody tr th {\n",
       "        vertical-align: top;\n",
       "    }\n",
       "\n",
       "    .dataframe thead th {\n",
       "        text-align: right;\n",
       "    }\n",
       "</style>\n",
       "<table border=\"1\" class=\"dataframe\">\n",
       "  <thead>\n",
       "    <tr style=\"text-align: right;\">\n",
       "      <th></th>\n",
       "      <th></th>\n",
       "      <th>counts</th>\n",
       "    </tr>\n",
       "    <tr>\n",
       "      <th>column</th>\n",
       "      <th>value</th>\n",
       "      <th></th>\n",
       "    </tr>\n",
       "  </thead>\n",
       "  <tbody>\n",
       "    <tr>\n",
       "      <th rowspan=\"3\" valign=\"top\">GeneA</th>\n",
       "      <th>single</th>\n",
       "      <td>2039</td>\n",
       "    </tr>\n",
       "    <tr>\n",
       "      <th>double</th>\n",
       "      <td>3479</td>\n",
       "    </tr>\n",
       "    <tr>\n",
       "      <th>none</th>\n",
       "      <td>4482</td>\n",
       "    </tr>\n",
       "    <tr>\n",
       "      <th rowspan=\"2\" valign=\"top\">blood_test</th>\n",
       "      <th>positive</th>\n",
       "      <td>933</td>\n",
       "    </tr>\n",
       "    <tr>\n",
       "      <th>negative</th>\n",
       "      <td>9067</td>\n",
       "    </tr>\n",
       "    <tr>\n",
       "      <th rowspan=\"2\" valign=\"top\">family_history</th>\n",
       "      <th>True</th>\n",
       "      <td>100</td>\n",
       "    </tr>\n",
       "    <tr>\n",
       "      <th>False</th>\n",
       "      <td>6968</td>\n",
       "    </tr>\n",
       "    <tr>\n",
       "      <th rowspan=\"2\" valign=\"top\">gender</th>\n",
       "      <th>non-female</th>\n",
       "      <td>3638</td>\n",
       "    </tr>\n",
       "    <tr>\n",
       "      <th>female</th>\n",
       "      <td>6362</td>\n",
       "    </tr>\n",
       "  </tbody>\n",
       "</table>\n",
       "</div>"
      ],
      "text/plain": [
       "                           counts\n",
       "column         value             \n",
       "GeneA          single        2039\n",
       "               double        3479\n",
       "               none          4482\n",
       "blood_test     positive       933\n",
       "               negative      9067\n",
       "family_history True           100\n",
       "               False         6968\n",
       "gender         non-female    3638\n",
       "               female        6362"
      ]
     },
     "execution_count": 5,
     "metadata": {},
     "output_type": "execute_result"
    }
   ],
   "source": [
    "# Count values of each object and sort them from small to big\n",
    "\n",
    "cat_cols = data.select_dtypes(include=object).columns.tolist()\n",
    "(pd.DataFrame(\n",
    "    data[cat_cols]\n",
    "    .melt(var_name='column', value_name='value')\n",
    "    .value_counts())\n",
    ".rename(columns={0: 'counts'})\n",
    ".sort_values(by=['column', 'counts']))  "
   ]
  },
  {
   "cell_type": "markdown",
   "metadata": {},
   "source": [
    "This shows missing values are not correlated with any object feature, because the proporation are roughly the same."
   ]
  },
  {
   "cell_type": "markdown",
   "metadata": {},
   "source": [
    "3. Find out whether missing values are correlated with numerical features"
   ]
  },
  {
   "cell_type": "code",
   "execution_count": 6,
   "metadata": {},
   "outputs": [
    {
     "data": {
      "text/html": [
       "<div>\n",
       "<style scoped>\n",
       "    .dataframe tbody tr th:only-of-type {\n",
       "        vertical-align: middle;\n",
       "    }\n",
       "\n",
       "    .dataframe tbody tr th {\n",
       "        vertical-align: top;\n",
       "    }\n",
       "\n",
       "    .dataframe thead th {\n",
       "        text-align: right;\n",
       "    }\n",
       "</style>\n",
       "<table border=\"1\" class=\"dataframe\">\n",
       "  <thead>\n",
       "    <tr style=\"text-align: right;\">\n",
       "      <th></th>\n",
       "      <th>treatment</th>\n",
       "      <th>age</th>\n",
       "      <th>blood_pressure</th>\n",
       "      <th>MeasureA</th>\n",
       "      <th>TestB</th>\n",
       "      <th>GeneB</th>\n",
       "      <th>GeneC</th>\n",
       "    </tr>\n",
       "  </thead>\n",
       "  <tbody>\n",
       "    <tr>\n",
       "      <th>count</th>\n",
       "      <td>10000.000000</td>\n",
       "      <td>10000.000000</td>\n",
       "      <td>10000.000000</td>\n",
       "      <td>10000.000000</td>\n",
       "      <td>10000.000000</td>\n",
       "      <td>10000.000000</td>\n",
       "      <td>10000.000000</td>\n",
       "    </tr>\n",
       "    <tr>\n",
       "      <th>mean</th>\n",
       "      <td>0.358700</td>\n",
       "      <td>60.032800</td>\n",
       "      <td>84.642355</td>\n",
       "      <td>-5.992414</td>\n",
       "      <td>0.004466</td>\n",
       "      <td>0.547900</td>\n",
       "      <td>0.550400</td>\n",
       "    </tr>\n",
       "    <tr>\n",
       "      <th>std</th>\n",
       "      <td>0.479643</td>\n",
       "      <td>8.106546</td>\n",
       "      <td>5.266045</td>\n",
       "      <td>4.168837</td>\n",
       "      <td>0.322338</td>\n",
       "      <td>0.497725</td>\n",
       "      <td>0.497478</td>\n",
       "    </tr>\n",
       "    <tr>\n",
       "      <th>min</th>\n",
       "      <td>0.000000</td>\n",
       "      <td>29.000000</td>\n",
       "      <td>-99.000000</td>\n",
       "      <td>-21.708000</td>\n",
       "      <td>-0.564197</td>\n",
       "      <td>0.000000</td>\n",
       "      <td>0.000000</td>\n",
       "    </tr>\n",
       "    <tr>\n",
       "      <th>25%</th>\n",
       "      <td>0.000000</td>\n",
       "      <td>55.000000</td>\n",
       "      <td>82.314030</td>\n",
       "      <td>-8.790691</td>\n",
       "      <td>-0.251337</td>\n",
       "      <td>0.000000</td>\n",
       "      <td>0.000000</td>\n",
       "    </tr>\n",
       "    <tr>\n",
       "      <th>50%</th>\n",
       "      <td>0.000000</td>\n",
       "      <td>60.000000</td>\n",
       "      <td>83.997305</td>\n",
       "      <td>-5.956422</td>\n",
       "      <td>-0.039662</td>\n",
       "      <td>1.000000</td>\n",
       "      <td>1.000000</td>\n",
       "    </tr>\n",
       "    <tr>\n",
       "      <th>75%</th>\n",
       "      <td>1.000000</td>\n",
       "      <td>66.000000</td>\n",
       "      <td>86.342954</td>\n",
       "      <td>-3.217110</td>\n",
       "      <td>0.215928</td>\n",
       "      <td>1.000000</td>\n",
       "      <td>1.000000</td>\n",
       "    </tr>\n",
       "    <tr>\n",
       "      <th>max</th>\n",
       "      <td>1.000000</td>\n",
       "      <td>92.000000</td>\n",
       "      <td>107.595583</td>\n",
       "      <td>8.889658</td>\n",
       "      <td>1.231447</td>\n",
       "      <td>1.000000</td>\n",
       "      <td>1.000000</td>\n",
       "    </tr>\n",
       "  </tbody>\n",
       "</table>\n",
       "</div>"
      ],
      "text/plain": [
       "          treatment           age  blood_pressure      MeasureA         TestB  \\\n",
       "count  10000.000000  10000.000000    10000.000000  10000.000000  10000.000000   \n",
       "mean       0.358700     60.032800       84.642355     -5.992414      0.004466   \n",
       "std        0.479643      8.106546        5.266045      4.168837      0.322338   \n",
       "min        0.000000     29.000000      -99.000000    -21.708000     -0.564197   \n",
       "25%        0.000000     55.000000       82.314030     -8.790691     -0.251337   \n",
       "50%        0.000000     60.000000       83.997305     -5.956422     -0.039662   \n",
       "75%        1.000000     66.000000       86.342954     -3.217110      0.215928   \n",
       "max        1.000000     92.000000      107.595583      8.889658      1.231447   \n",
       "\n",
       "              GeneB         GeneC  \n",
       "count  10000.000000  10000.000000  \n",
       "mean       0.547900      0.550400  \n",
       "std        0.497725      0.497478  \n",
       "min        0.000000      0.000000  \n",
       "25%        0.000000      0.000000  \n",
       "50%        1.000000      1.000000  \n",
       "75%        1.000000      1.000000  \n",
       "max        1.000000      1.000000  "
      ]
     },
     "execution_count": 6,
     "metadata": {},
     "output_type": "execute_result"
    }
   ],
   "source": [
    "data.describe()"
   ]
  },
  {
   "cell_type": "code",
   "execution_count": 7,
   "metadata": {},
   "outputs": [
    {
     "data": {
      "text/html": [
       "<div>\n",
       "<style scoped>\n",
       "    .dataframe tbody tr th:only-of-type {\n",
       "        vertical-align: middle;\n",
       "    }\n",
       "\n",
       "    .dataframe tbody tr th {\n",
       "        vertical-align: top;\n",
       "    }\n",
       "\n",
       "    .dataframe thead th {\n",
       "        text-align: right;\n",
       "    }\n",
       "</style>\n",
       "<table border=\"1\" class=\"dataframe\">\n",
       "  <thead>\n",
       "    <tr style=\"text-align: right;\">\n",
       "      <th></th>\n",
       "      <th>treatment</th>\n",
       "      <th>age</th>\n",
       "      <th>blood_pressure</th>\n",
       "      <th>MeasureA</th>\n",
       "      <th>TestB</th>\n",
       "      <th>GeneB</th>\n",
       "      <th>GeneC</th>\n",
       "    </tr>\n",
       "  </thead>\n",
       "  <tbody>\n",
       "    <tr>\n",
       "      <th>count</th>\n",
       "      <td>2932.000000</td>\n",
       "      <td>2932.000000</td>\n",
       "      <td>2932.000000</td>\n",
       "      <td>2932.000000</td>\n",
       "      <td>2932.000000</td>\n",
       "      <td>2932.000000</td>\n",
       "      <td>2932.000000</td>\n",
       "    </tr>\n",
       "    <tr>\n",
       "      <th>mean</th>\n",
       "      <td>0.373465</td>\n",
       "      <td>60.294679</td>\n",
       "      <td>84.642901</td>\n",
       "      <td>-6.107058</td>\n",
       "      <td>0.007939</td>\n",
       "      <td>0.541610</td>\n",
       "      <td>0.544338</td>\n",
       "    </tr>\n",
       "    <tr>\n",
       "      <th>std</th>\n",
       "      <td>0.483807</td>\n",
       "      <td>8.067131</td>\n",
       "      <td>5.857660</td>\n",
       "      <td>4.187206</td>\n",
       "      <td>0.326233</td>\n",
       "      <td>0.498351</td>\n",
       "      <td>0.498115</td>\n",
       "    </tr>\n",
       "    <tr>\n",
       "      <th>min</th>\n",
       "      <td>0.000000</td>\n",
       "      <td>29.000000</td>\n",
       "      <td>-99.000000</td>\n",
       "      <td>-20.974268</td>\n",
       "      <td>-0.564197</td>\n",
       "      <td>0.000000</td>\n",
       "      <td>0.000000</td>\n",
       "    </tr>\n",
       "    <tr>\n",
       "      <th>25%</th>\n",
       "      <td>0.000000</td>\n",
       "      <td>55.000000</td>\n",
       "      <td>82.250769</td>\n",
       "      <td>-8.904374</td>\n",
       "      <td>-0.244389</td>\n",
       "      <td>0.000000</td>\n",
       "      <td>0.000000</td>\n",
       "    </tr>\n",
       "    <tr>\n",
       "      <th>50%</th>\n",
       "      <td>0.000000</td>\n",
       "      <td>60.000000</td>\n",
       "      <td>84.070302</td>\n",
       "      <td>-6.108696</td>\n",
       "      <td>-0.044438</td>\n",
       "      <td>1.000000</td>\n",
       "      <td>1.000000</td>\n",
       "    </tr>\n",
       "    <tr>\n",
       "      <th>75%</th>\n",
       "      <td>1.000000</td>\n",
       "      <td>66.000000</td>\n",
       "      <td>86.438061</td>\n",
       "      <td>-3.346114</td>\n",
       "      <td>0.220864</td>\n",
       "      <td>1.000000</td>\n",
       "      <td>1.000000</td>\n",
       "    </tr>\n",
       "    <tr>\n",
       "      <th>max</th>\n",
       "      <td>1.000000</td>\n",
       "      <td>87.000000</td>\n",
       "      <td>103.197261</td>\n",
       "      <td>8.889658</td>\n",
       "      <td>1.231447</td>\n",
       "      <td>1.000000</td>\n",
       "      <td>1.000000</td>\n",
       "    </tr>\n",
       "  </tbody>\n",
       "</table>\n",
       "</div>"
      ],
      "text/plain": [
       "         treatment          age  blood_pressure     MeasureA        TestB  \\\n",
       "count  2932.000000  2932.000000     2932.000000  2932.000000  2932.000000   \n",
       "mean      0.373465    60.294679       84.642901    -6.107058     0.007939   \n",
       "std       0.483807     8.067131        5.857660     4.187206     0.326233   \n",
       "min       0.000000    29.000000      -99.000000   -20.974268    -0.564197   \n",
       "25%       0.000000    55.000000       82.250769    -8.904374    -0.244389   \n",
       "50%       0.000000    60.000000       84.070302    -6.108696    -0.044438   \n",
       "75%       1.000000    66.000000       86.438061    -3.346114     0.220864   \n",
       "max       1.000000    87.000000      103.197261     8.889658     1.231447   \n",
       "\n",
       "             GeneB        GeneC  \n",
       "count  2932.000000  2932.000000  \n",
       "mean      0.541610     0.544338  \n",
       "std       0.498351     0.498115  \n",
       "min       0.000000     0.000000  \n",
       "25%       0.000000     0.000000  \n",
       "50%       1.000000     1.000000  \n",
       "75%       1.000000     1.000000  \n",
       "max       1.000000     1.000000  "
      ]
     },
     "execution_count": 7,
     "metadata": {},
     "output_type": "execute_result"
    }
   ],
   "source": [
    "missing_data.describe()"
   ]
  },
  {
   "cell_type": "markdown",
   "metadata": {},
   "source": [
    "Because the mean and variance are roughtly the same, the missing values are also not correlated with numerical features."
   ]
  },
  {
   "cell_type": "markdown",
   "metadata": {},
   "source": [
    "4. So far, we can know that missing values are Missing Completely at Random (MCAR). Therefore, I choose to simply delete those lines that have missing values."
   ]
  },
  {
   "cell_type": "code",
   "execution_count": 8,
   "metadata": {},
   "outputs": [
    {
     "data": {
      "text/plain": [
       "(7068, 11)"
      ]
     },
     "execution_count": 8,
     "metadata": {},
     "output_type": "execute_result"
    }
   ],
   "source": [
    "# Delete lines that have missing values\n",
    "data = data.dropna()\n",
    "data.shape"
   ]
  },
  {
   "cell_type": "markdown",
   "metadata": {},
   "source": [
    "# Explore data set "
   ]
  },
  {
   "cell_type": "code",
   "execution_count": 9,
   "metadata": {},
   "outputs": [
    {
     "data": {
      "text/html": [
       "<div>\n",
       "<style scoped>\n",
       "    .dataframe tbody tr th:only-of-type {\n",
       "        vertical-align: middle;\n",
       "    }\n",
       "\n",
       "    .dataframe tbody tr th {\n",
       "        vertical-align: top;\n",
       "    }\n",
       "\n",
       "    .dataframe thead th {\n",
       "        text-align: right;\n",
       "    }\n",
       "</style>\n",
       "<table border=\"1\" class=\"dataframe\">\n",
       "  <thead>\n",
       "    <tr style=\"text-align: right;\">\n",
       "      <th></th>\n",
       "      <th></th>\n",
       "      <th>counts</th>\n",
       "    </tr>\n",
       "    <tr>\n",
       "      <th>column</th>\n",
       "      <th>value</th>\n",
       "      <th></th>\n",
       "    </tr>\n",
       "  </thead>\n",
       "  <tbody>\n",
       "    <tr>\n",
       "      <th rowspan=\"3\" valign=\"top\">GeneA</th>\n",
       "      <th>single</th>\n",
       "      <td>1439</td>\n",
       "    </tr>\n",
       "    <tr>\n",
       "      <th>double</th>\n",
       "      <td>2457</td>\n",
       "    </tr>\n",
       "    <tr>\n",
       "      <th>none</th>\n",
       "      <td>3172</td>\n",
       "    </tr>\n",
       "    <tr>\n",
       "      <th rowspan=\"2\" valign=\"top\">blood_test</th>\n",
       "      <th>positive</th>\n",
       "      <td>640</td>\n",
       "    </tr>\n",
       "    <tr>\n",
       "      <th>negative</th>\n",
       "      <td>6428</td>\n",
       "    </tr>\n",
       "    <tr>\n",
       "      <th rowspan=\"2\" valign=\"top\">family_history</th>\n",
       "      <th>True</th>\n",
       "      <td>100</td>\n",
       "    </tr>\n",
       "    <tr>\n",
       "      <th>False</th>\n",
       "      <td>6968</td>\n",
       "    </tr>\n",
       "    <tr>\n",
       "      <th rowspan=\"2\" valign=\"top\">gender</th>\n",
       "      <th>non-female</th>\n",
       "      <td>2537</td>\n",
       "    </tr>\n",
       "    <tr>\n",
       "      <th>female</th>\n",
       "      <td>4531</td>\n",
       "    </tr>\n",
       "  </tbody>\n",
       "</table>\n",
       "</div>"
      ],
      "text/plain": [
       "                           counts\n",
       "column         value             \n",
       "GeneA          single        1439\n",
       "               double        2457\n",
       "               none          3172\n",
       "blood_test     positive       640\n",
       "               negative      6428\n",
       "family_history True           100\n",
       "               False         6968\n",
       "gender         non-female    2537\n",
       "               female        4531"
      ]
     },
     "execution_count": 9,
     "metadata": {},
     "output_type": "execute_result"
    }
   ],
   "source": [
    "# Count frequency of each object and sort them from small to big\n",
    "\n",
    "cat_cols = data.select_dtypes(include=object).columns.tolist()\n",
    "(pd.DataFrame(\n",
    "    data[cat_cols]\n",
    "    .melt(var_name='column', value_name='value')\n",
    "    .value_counts())\n",
    ".rename(columns={0: 'counts'})\n",
    ".sort_values(by=['column', 'counts']))  "
   ]
  },
  {
   "cell_type": "markdown",
   "metadata": {},
   "source": [
    "### Notice:\n",
    "1. Blood_test and family_history are imbalanced.\n",
    "\n",
    "\n",
    "2. Feature engineering ideas:\n",
    "    \n",
    "    a) blood_test, family_history, and gender: create dummy variables\n",
    "    \n",
    "    b) GeneA: use one-hot encoding"
   ]
  },
  {
   "cell_type": "code",
   "execution_count": 10,
   "metadata": {},
   "outputs": [
    {
     "data": {
      "text/plain": [
       "0    4576\n",
       "1    2492\n",
       "Name: treatment, dtype: int64"
      ]
     },
     "execution_count": 10,
     "metadata": {},
     "output_type": "execute_result"
    }
   ],
   "source": [
    "# See whether the target value is balanced\n",
    "data['treatment'].value_counts()"
   ]
  },
  {
   "cell_type": "markdown",
   "metadata": {},
   "source": [
    "### Notice:\n",
    "Our target value is balanced."
   ]
  },
  {
   "cell_type": "markdown",
   "metadata": {},
   "source": [
    "# Correlations"
   ]
  },
  {
   "cell_type": "markdown",
   "metadata": {},
   "source": [
    "### Check whether each categorical data affect target value "
   ]
  },
  {
   "cell_type": "code",
   "execution_count": 11,
   "metadata": {},
   "outputs": [
    {
     "data": {
      "image/png": "[encoded data removed]",
      "text/plain": [
       "<Figure size 432x288 with 1 Axes>"
      ]
     },
     "metadata": {
      "needs_background": "light"
     },
     "output_type": "display_data"
    }
   ],
   "source": [
    "# Check whether Family history affect Treatment\n",
    "\n",
    "import matplotlib.pyplot as plt \n",
    "plt.rc(\"font\", size=14)\n",
    "\n",
    "table=pd.crosstab(data.family_history,data.treatment)\n",
    "table.div(table.sum(1).astype(float), axis=0).plot(kind='bar', stacked=True)\n",
    "plt.title('Stacked Bar Chart of Family history vs Treatment')\n",
    "plt.xlabel('family_history')\n",
    "plt.ylabel('treatment')\n",
    "plt.savefig('fa_his_vs_treatment')"
   ]
  },
  {
   "cell_type": "markdown",
   "metadata": {},
   "source": [
    "## IMPORTANT Finding:\n",
    "We should delete this feature "
   ]
  },
  {
   "cell_type": "code",
   "execution_count": 12,
   "metadata": {},
   "outputs": [
    {
     "data": {
      "text/html": [
       "<div>\n",
       "<style scoped>\n",
       "    .dataframe tbody tr th:only-of-type {\n",
       "        vertical-align: middle;\n",
       "    }\n",
       "\n",
       "    .dataframe tbody tr th {\n",
       "        vertical-align: top;\n",
       "    }\n",
       "\n",
       "    .dataframe thead th {\n",
       "        text-align: right;\n",
       "    }\n",
       "</style>\n",
       "<table border=\"1\" class=\"dataframe\">\n",
       "  <thead>\n",
       "    <tr style=\"text-align: right;\">\n",
       "      <th></th>\n",
       "      <th>treatment</th>\n",
       "      <th>age</th>\n",
       "      <th>blood_pressure</th>\n",
       "      <th>gender</th>\n",
       "      <th>blood_test</th>\n",
       "      <th>MeasureA</th>\n",
       "      <th>TestB</th>\n",
       "      <th>GeneA</th>\n",
       "      <th>GeneB</th>\n",
       "      <th>GeneC</th>\n",
       "    </tr>\n",
       "  </thead>\n",
       "  <tbody>\n",
       "    <tr>\n",
       "      <th>0</th>\n",
       "      <td>1</td>\n",
       "      <td>74</td>\n",
       "      <td>94.113373</td>\n",
       "      <td>non-female</td>\n",
       "      <td>negative</td>\n",
       "      <td>-11.035690</td>\n",
       "      <td>-0.336843</td>\n",
       "      <td>double</td>\n",
       "      <td>1</td>\n",
       "      <td>0</td>\n",
       "    </tr>\n",
       "    <tr>\n",
       "      <th>1</th>\n",
       "      <td>1</td>\n",
       "      <td>56</td>\n",
       "      <td>83.337745</td>\n",
       "      <td>non-female</td>\n",
       "      <td>negative</td>\n",
       "      <td>-3.982345</td>\n",
       "      <td>-0.018734</td>\n",
       "      <td>none</td>\n",
       "      <td>1</td>\n",
       "      <td>1</td>\n",
       "    </tr>\n",
       "    <tr>\n",
       "      <th>2</th>\n",
       "      <td>0</td>\n",
       "      <td>37</td>\n",
       "      <td>81.759240</td>\n",
       "      <td>female</td>\n",
       "      <td>negative</td>\n",
       "      <td>6.205701</td>\n",
       "      <td>0.147933</td>\n",
       "      <td>double</td>\n",
       "      <td>1</td>\n",
       "      <td>1</td>\n",
       "    </tr>\n",
       "    <tr>\n",
       "      <th>3</th>\n",
       "      <td>1</td>\n",
       "      <td>54</td>\n",
       "      <td>88.549518</td>\n",
       "      <td>female</td>\n",
       "      <td>negative</td>\n",
       "      <td>-1.827613</td>\n",
       "      <td>-0.338373</td>\n",
       "      <td>none</td>\n",
       "      <td>1</td>\n",
       "      <td>1</td>\n",
       "    </tr>\n",
       "    <tr>\n",
       "      <th>5</th>\n",
       "      <td>0</td>\n",
       "      <td>52</td>\n",
       "      <td>81.778809</td>\n",
       "      <td>female</td>\n",
       "      <td>negative</td>\n",
       "      <td>-2.034462</td>\n",
       "      <td>-0.040692</td>\n",
       "      <td>none</td>\n",
       "      <td>1</td>\n",
       "      <td>0</td>\n",
       "    </tr>\n",
       "  </tbody>\n",
       "</table>\n",
       "</div>"
      ],
      "text/plain": [
       "   treatment  age  blood_pressure      gender blood_test   MeasureA     TestB  \\\n",
       "0          1   74       94.113373  non-female   negative -11.035690 -0.336843   \n",
       "1          1   56       83.337745  non-female   negative  -3.982345 -0.018734   \n",
       "2          0   37       81.759240      female   negative   6.205701  0.147933   \n",
       "3          1   54       88.549518      female   negative  -1.827613 -0.338373   \n",
       "5          0   52       81.778809      female   negative  -2.034462 -0.040692   \n",
       "\n",
       "    GeneA  GeneB  GeneC  \n",
       "0  double      1      0  \n",
       "1    none      1      1  \n",
       "2  double      1      1  \n",
       "3    none      1      1  \n",
       "5    none      1      0  "
      ]
     },
     "execution_count": 12,
     "metadata": {},
     "output_type": "execute_result"
    }
   ],
   "source": [
    "# Delete feature: family_history\n",
    "data = data.drop(\"family_history\", axis=1)\n",
    "data.head()"
   ]
  },
  {
   "cell_type": "code",
   "execution_count": 13,
   "metadata": {},
   "outputs": [
    {
     "data": {
      "text/plain": [
       "Text(0, 0.5, 'treatment')"
      ]
     },
     "execution_count": 13,
     "metadata": {},
     "output_type": "execute_result"
    },
    {
     "data": {
      "image/png": "[encoded data removed]",
      "text/plain": [
       "<Figure size 432x288 with 1 Axes>"
      ]
     },
     "metadata": {
      "needs_background": "light"
     },
     "output_type": "display_data"
    }
   ],
   "source": [
    "# Check whether Blood Test affect Treatment\n",
    "\n",
    "import matplotlib.pyplot as plt \n",
    "plt.rc(\"font\", size=14)\n",
    "\n",
    "table=pd.crosstab(data.blood_test,data.treatment)\n",
    "table.div(table.sum(1).astype(float), axis=0).plot(kind='bar', stacked=True)\n",
    "plt.title('Stacked Bar Chart of Blood Test vs Treatment')\n",
    "plt.xlabel('blood test')\n",
    "plt.ylabel('treatment')"
   ]
  },
  {
   "cell_type": "markdown",
   "metadata": {},
   "source": [
    "### Finding:\n",
    "Blood test has little relationship with target value"
   ]
  },
  {
   "cell_type": "code",
   "execution_count": 14,
   "metadata": {},
   "outputs": [
    {
     "data": {
      "text/plain": [
       "Text(0, 0.5, 'treatment')"
      ]
     },
     "execution_count": 14,
     "metadata": {},
     "output_type": "execute_result"
    },
    {
     "data": {
      "image/png": "[encoded data removed]",
      "text/plain": [
       "<Figure size 432x288 with 1 Axes>"
      ]
     },
     "metadata": {
      "needs_background": "light"
     },
     "output_type": "display_data"
    }
   ],
   "source": [
    "# Check whether GeneA affect Treatment\n",
    "\n",
    "import matplotlib.pyplot as plt \n",
    "plt.rc(\"font\", size=14)\n",
    "\n",
    "table=pd.crosstab(data.GeneA,data.treatment)\n",
    "table.div(table.sum(1).astype(float), axis=0).plot(kind='bar', stacked=True)\n",
    "plt.title('Stacked Bar Chart of GeneA vs Treatment')\n",
    "plt.xlabel('GeneA')\n",
    "plt.ylabel('treatment')"
   ]
  },
  {
   "cell_type": "markdown",
   "metadata": {},
   "source": [
    "### Finding:\n",
    "GeneA has little relationship with target value"
   ]
  },
  {
   "cell_type": "code",
   "execution_count": 15,
   "metadata": {},
   "outputs": [
    {
     "data": {
      "text/plain": [
       "Text(0, 0.5, 'treatment')"
      ]
     },
     "execution_count": 15,
     "metadata": {},
     "output_type": "execute_result"
    },
    {
     "data": {
      "image/png": "[encoded data removed]",
      "text/plain": [
       "<Figure size 432x288 with 1 Axes>"
      ]
     },
     "metadata": {
      "needs_background": "light"
     },
     "output_type": "display_data"
    }
   ],
   "source": [
    "# Check whether gender affect Treatment\n",
    "\n",
    "import matplotlib.pyplot as plt \n",
    "plt.rc(\"font\", size=14)\n",
    "\n",
    "table=pd.crosstab(data.gender,data.treatment)\n",
    "table.div(table.sum(1).astype(float), axis=0).plot(kind='bar', stacked=True)\n",
    "plt.title('Stacked Bar Chart of Gender vs Treatment')\n",
    "plt.xlabel('Gender')\n",
    "plt.ylabel('treatment')"
   ]
  },
  {
   "cell_type": "markdown",
   "metadata": {},
   "source": [
    "### Important Finding:\n",
    "Gender do affect target value"
   ]
  },
  {
   "cell_type": "markdown",
   "metadata": {},
   "source": [
    "### Conclusion:\n",
    "Variable that won't influence target value: GeneA\n",
    "We should delete GeneA"
   ]
  },
  {
   "cell_type": "code",
   "execution_count": 16,
   "metadata": {},
   "outputs": [
    {
     "data": {
      "text/html": [
       "<div>\n",
       "<style scoped>\n",
       "    .dataframe tbody tr th:only-of-type {\n",
       "        vertical-align: middle;\n",
       "    }\n",
       "\n",
       "    .dataframe tbody tr th {\n",
       "        vertical-align: top;\n",
       "    }\n",
       "\n",
       "    .dataframe thead th {\n",
       "        text-align: right;\n",
       "    }\n",
       "</style>\n",
       "<table border=\"1\" class=\"dataframe\">\n",
       "  <thead>\n",
       "    <tr style=\"text-align: right;\">\n",
       "      <th></th>\n",
       "      <th>treatment</th>\n",
       "      <th>age</th>\n",
       "      <th>blood_pressure</th>\n",
       "      <th>gender</th>\n",
       "      <th>blood_test</th>\n",
       "      <th>MeasureA</th>\n",
       "      <th>TestB</th>\n",
       "      <th>GeneA</th>\n",
       "      <th>GeneB</th>\n",
       "      <th>GeneC</th>\n",
       "    </tr>\n",
       "  </thead>\n",
       "  <tbody>\n",
       "    <tr>\n",
       "      <th>0</th>\n",
       "      <td>1</td>\n",
       "      <td>74</td>\n",
       "      <td>94.113373</td>\n",
       "      <td>non-female</td>\n",
       "      <td>negative</td>\n",
       "      <td>-11.035690</td>\n",
       "      <td>-0.336843</td>\n",
       "      <td>double</td>\n",
       "      <td>1</td>\n",
       "      <td>0</td>\n",
       "    </tr>\n",
       "    <tr>\n",
       "      <th>1</th>\n",
       "      <td>1</td>\n",
       "      <td>56</td>\n",
       "      <td>83.337745</td>\n",
       "      <td>non-female</td>\n",
       "      <td>negative</td>\n",
       "      <td>-3.982345</td>\n",
       "      <td>-0.018734</td>\n",
       "      <td>none</td>\n",
       "      <td>1</td>\n",
       "      <td>1</td>\n",
       "    </tr>\n",
       "    <tr>\n",
       "      <th>2</th>\n",
       "      <td>0</td>\n",
       "      <td>37</td>\n",
       "      <td>81.759240</td>\n",
       "      <td>female</td>\n",
       "      <td>negative</td>\n",
       "      <td>6.205701</td>\n",
       "      <td>0.147933</td>\n",
       "      <td>double</td>\n",
       "      <td>1</td>\n",
       "      <td>1</td>\n",
       "    </tr>\n",
       "    <tr>\n",
       "      <th>3</th>\n",
       "      <td>1</td>\n",
       "      <td>54</td>\n",
       "      <td>88.549518</td>\n",
       "      <td>female</td>\n",
       "      <td>negative</td>\n",
       "      <td>-1.827613</td>\n",
       "      <td>-0.338373</td>\n",
       "      <td>none</td>\n",
       "      <td>1</td>\n",
       "      <td>1</td>\n",
       "    </tr>\n",
       "    <tr>\n",
       "      <th>5</th>\n",
       "      <td>0</td>\n",
       "      <td>52</td>\n",
       "      <td>81.778809</td>\n",
       "      <td>female</td>\n",
       "      <td>negative</td>\n",
       "      <td>-2.034462</td>\n",
       "      <td>-0.040692</td>\n",
       "      <td>none</td>\n",
       "      <td>1</td>\n",
       "      <td>0</td>\n",
       "    </tr>\n",
       "  </tbody>\n",
       "</table>\n",
       "</div>"
      ],
      "text/plain": [
       "   treatment  age  blood_pressure      gender blood_test   MeasureA     TestB  \\\n",
       "0          1   74       94.113373  non-female   negative -11.035690 -0.336843   \n",
       "1          1   56       83.337745  non-female   negative  -3.982345 -0.018734   \n",
       "2          0   37       81.759240      female   negative   6.205701  0.147933   \n",
       "3          1   54       88.549518      female   negative  -1.827613 -0.338373   \n",
       "5          0   52       81.778809      female   negative  -2.034462 -0.040692   \n",
       "\n",
       "    GeneA  GeneB  GeneC  \n",
       "0  double      1      0  \n",
       "1    none      1      1  \n",
       "2  double      1      1  \n",
       "3    none      1      1  \n",
       "5    none      1      0  "
      ]
     },
     "execution_count": 16,
     "metadata": {},
     "output_type": "execute_result"
    }
   ],
   "source": [
    "data.head()"
   ]
  },
  {
   "cell_type": "code",
   "execution_count": 17,
   "metadata": {},
   "outputs": [
    {
     "data": {
      "text/html": [
       "<div>\n",
       "<style scoped>\n",
       "    .dataframe tbody tr th:only-of-type {\n",
       "        vertical-align: middle;\n",
       "    }\n",
       "\n",
       "    .dataframe tbody tr th {\n",
       "        vertical-align: top;\n",
       "    }\n",
       "\n",
       "    .dataframe thead th {\n",
       "        text-align: right;\n",
       "    }\n",
       "</style>\n",
       "<table border=\"1\" class=\"dataframe\">\n",
       "  <thead>\n",
       "    <tr style=\"text-align: right;\">\n",
       "      <th></th>\n",
       "      <th>treatment</th>\n",
       "      <th>age</th>\n",
       "      <th>blood_pressure</th>\n",
       "      <th>gender</th>\n",
       "      <th>blood_test</th>\n",
       "      <th>MeasureA</th>\n",
       "      <th>TestB</th>\n",
       "      <th>GeneB</th>\n",
       "      <th>GeneC</th>\n",
       "    </tr>\n",
       "  </thead>\n",
       "  <tbody>\n",
       "    <tr>\n",
       "      <th>0</th>\n",
       "      <td>1</td>\n",
       "      <td>74</td>\n",
       "      <td>94.113373</td>\n",
       "      <td>non-female</td>\n",
       "      <td>negative</td>\n",
       "      <td>-11.035690</td>\n",
       "      <td>-0.336843</td>\n",
       "      <td>1</td>\n",
       "      <td>0</td>\n",
       "    </tr>\n",
       "    <tr>\n",
       "      <th>1</th>\n",
       "      <td>1</td>\n",
       "      <td>56</td>\n",
       "      <td>83.337745</td>\n",
       "      <td>non-female</td>\n",
       "      <td>negative</td>\n",
       "      <td>-3.982345</td>\n",
       "      <td>-0.018734</td>\n",
       "      <td>1</td>\n",
       "      <td>1</td>\n",
       "    </tr>\n",
       "    <tr>\n",
       "      <th>2</th>\n",
       "      <td>0</td>\n",
       "      <td>37</td>\n",
       "      <td>81.759240</td>\n",
       "      <td>female</td>\n",
       "      <td>negative</td>\n",
       "      <td>6.205701</td>\n",
       "      <td>0.147933</td>\n",
       "      <td>1</td>\n",
       "      <td>1</td>\n",
       "    </tr>\n",
       "    <tr>\n",
       "      <th>3</th>\n",
       "      <td>1</td>\n",
       "      <td>54</td>\n",
       "      <td>88.549518</td>\n",
       "      <td>female</td>\n",
       "      <td>negative</td>\n",
       "      <td>-1.827613</td>\n",
       "      <td>-0.338373</td>\n",
       "      <td>1</td>\n",
       "      <td>1</td>\n",
       "    </tr>\n",
       "    <tr>\n",
       "      <th>5</th>\n",
       "      <td>0</td>\n",
       "      <td>52</td>\n",
       "      <td>81.778809</td>\n",
       "      <td>female</td>\n",
       "      <td>negative</td>\n",
       "      <td>-2.034462</td>\n",
       "      <td>-0.040692</td>\n",
       "      <td>1</td>\n",
       "      <td>0</td>\n",
       "    </tr>\n",
       "  </tbody>\n",
       "</table>\n",
       "</div>"
      ],
      "text/plain": [
       "   treatment  age  blood_pressure      gender blood_test   MeasureA     TestB  \\\n",
       "0          1   74       94.113373  non-female   negative -11.035690 -0.336843   \n",
       "1          1   56       83.337745  non-female   negative  -3.982345 -0.018734   \n",
       "2          0   37       81.759240      female   negative   6.205701  0.147933   \n",
       "3          1   54       88.549518      female   negative  -1.827613 -0.338373   \n",
       "5          0   52       81.778809      female   negative  -2.034462 -0.040692   \n",
       "\n",
       "   GeneB  GeneC  \n",
       "0      1      0  \n",
       "1      1      1  \n",
       "2      1      1  \n",
       "3      1      1  \n",
       "5      1      0  "
      ]
     },
     "execution_count": 17,
     "metadata": {},
     "output_type": "execute_result"
    }
   ],
   "source": [
    "# Delete feature: GeneA\n",
    "data = data.drop(\"GeneA\", axis=1)\n",
    "data.head()"
   ]
  },
  {
   "cell_type": "markdown",
   "metadata": {},
   "source": [
    "### Check correlation between other variables and target value"
   ]
  },
  {
   "cell_type": "code",
   "execution_count": 18,
   "metadata": {},
   "outputs": [
    {
     "data": {
      "text/plain": [
       "treatment         1.000000\n",
       "age              -0.147294\n",
       "blood_pressure    0.061725\n",
       "MeasureA          0.142355\n",
       "TestB             0.042063\n",
       "GeneB             0.029843\n",
       "GeneC             0.041178\n",
       "Name: treatment, dtype: float64"
      ]
     },
     "execution_count": 18,
     "metadata": {},
     "output_type": "execute_result"
    }
   ],
   "source": [
    "data.corr()[\"treatment\"]"
   ]
  },
  {
   "cell_type": "markdown",
   "metadata": {},
   "source": [
    "### Finding:\n",
    "Other variables won't affect target values"
   ]
  },
  {
   "cell_type": "markdown",
   "metadata": {},
   "source": [
    "### Check correlation between variables"
   ]
  },
  {
   "cell_type": "code",
   "execution_count": 19,
   "metadata": {},
   "outputs": [
    {
     "data": {
      "text/html": [
       "<div>\n",
       "<style scoped>\n",
       "    .dataframe tbody tr th:only-of-type {\n",
       "        vertical-align: middle;\n",
       "    }\n",
       "\n",
       "    .dataframe tbody tr th {\n",
       "        vertical-align: top;\n",
       "    }\n",
       "\n",
       "    .dataframe thead th {\n",
       "        text-align: right;\n",
       "    }\n",
       "</style>\n",
       "<table border=\"1\" class=\"dataframe\">\n",
       "  <thead>\n",
       "    <tr style=\"text-align: right;\">\n",
       "      <th></th>\n",
       "      <th>treatment</th>\n",
       "      <th>age</th>\n",
       "      <th>blood_pressure</th>\n",
       "      <th>MeasureA</th>\n",
       "      <th>TestB</th>\n",
       "      <th>GeneB</th>\n",
       "      <th>GeneC</th>\n",
       "    </tr>\n",
       "  </thead>\n",
       "  <tbody>\n",
       "    <tr>\n",
       "      <th>treatment</th>\n",
       "      <td>1.000000</td>\n",
       "      <td>-0.147294</td>\n",
       "      <td>0.061725</td>\n",
       "      <td>0.142355</td>\n",
       "      <td>0.042063</td>\n",
       "      <td>0.029843</td>\n",
       "      <td>0.041178</td>\n",
       "    </tr>\n",
       "    <tr>\n",
       "      <th>age</th>\n",
       "      <td>-0.147294</td>\n",
       "      <td>1.000000</td>\n",
       "      <td>0.004066</td>\n",
       "      <td>-0.970944</td>\n",
       "      <td>0.002526</td>\n",
       "      <td>0.023575</td>\n",
       "      <td>0.006706</td>\n",
       "    </tr>\n",
       "    <tr>\n",
       "      <th>blood_pressure</th>\n",
       "      <td>0.061725</td>\n",
       "      <td>0.004066</td>\n",
       "      <td>1.000000</td>\n",
       "      <td>-0.002923</td>\n",
       "      <td>0.000959</td>\n",
       "      <td>0.005439</td>\n",
       "      <td>-0.009015</td>\n",
       "    </tr>\n",
       "    <tr>\n",
       "      <th>MeasureA</th>\n",
       "      <td>0.142355</td>\n",
       "      <td>-0.970944</td>\n",
       "      <td>-0.002923</td>\n",
       "      <td>1.000000</td>\n",
       "      <td>-0.001578</td>\n",
       "      <td>-0.024170</td>\n",
       "      <td>-0.005822</td>\n",
       "    </tr>\n",
       "    <tr>\n",
       "      <th>TestB</th>\n",
       "      <td>0.042063</td>\n",
       "      <td>0.002526</td>\n",
       "      <td>0.000959</td>\n",
       "      <td>-0.001578</td>\n",
       "      <td>1.000000</td>\n",
       "      <td>-0.021551</td>\n",
       "      <td>0.014354</td>\n",
       "    </tr>\n",
       "    <tr>\n",
       "      <th>GeneB</th>\n",
       "      <td>0.029843</td>\n",
       "      <td>0.023575</td>\n",
       "      <td>0.005439</td>\n",
       "      <td>-0.024170</td>\n",
       "      <td>-0.021551</td>\n",
       "      <td>1.000000</td>\n",
       "      <td>-0.013953</td>\n",
       "    </tr>\n",
       "    <tr>\n",
       "      <th>GeneC</th>\n",
       "      <td>0.041178</td>\n",
       "      <td>0.006706</td>\n",
       "      <td>-0.009015</td>\n",
       "      <td>-0.005822</td>\n",
       "      <td>0.014354</td>\n",
       "      <td>-0.013953</td>\n",
       "      <td>1.000000</td>\n",
       "    </tr>\n",
       "  </tbody>\n",
       "</table>\n",
       "</div>"
      ],
      "text/plain": [
       "                treatment       age  blood_pressure  MeasureA     TestB  \\\n",
       "treatment        1.000000 -0.147294        0.061725  0.142355  0.042063   \n",
       "age             -0.147294  1.000000        0.004066 -0.970944  0.002526   \n",
       "blood_pressure   0.061725  0.004066        1.000000 -0.002923  0.000959   \n",
       "MeasureA         0.142355 -0.970944       -0.002923  1.000000 -0.001578   \n",
       "TestB            0.042063  0.002526        0.000959 -0.001578  1.000000   \n",
       "GeneB            0.029843  0.023575        0.005439 -0.024170 -0.021551   \n",
       "GeneC            0.041178  0.006706       -0.009015 -0.005822  0.014354   \n",
       "\n",
       "                   GeneB     GeneC  \n",
       "treatment       0.029843  0.041178  \n",
       "age             0.023575  0.006706  \n",
       "blood_pressure  0.005439 -0.009015  \n",
       "MeasureA       -0.024170 -0.005822  \n",
       "TestB          -0.021551  0.014354  \n",
       "GeneB           1.000000 -0.013953  \n",
       "GeneC          -0.013953  1.000000  "
      ]
     },
     "execution_count": 19,
     "metadata": {},
     "output_type": "execute_result"
    }
   ],
   "source": [
    "data.corr()"
   ]
  },
  {
   "cell_type": "markdown",
   "metadata": {},
   "source": [
    "## Important Finding:\n",
    "There is strong correlation between Measure A and age. I decide to use regularization to deal with it."
   ]
  },
  {
   "cell_type": "markdown",
   "metadata": {},
   "source": [
    "# Preprocessing"
   ]
  },
  {
   "cell_type": "markdown",
   "metadata": {},
   "source": [
    "## Handing Categorical Attributes"
   ]
  },
  {
   "cell_type": "code",
   "execution_count": 20,
   "metadata": {},
   "outputs": [
    {
     "data": {
      "text/html": [
       "<div>\n",
       "<style scoped>\n",
       "    .dataframe tbody tr th:only-of-type {\n",
       "        vertical-align: middle;\n",
       "    }\n",
       "\n",
       "    .dataframe tbody tr th {\n",
       "        vertical-align: top;\n",
       "    }\n",
       "\n",
       "    .dataframe thead th {\n",
       "        text-align: right;\n",
       "    }\n",
       "</style>\n",
       "<table border=\"1\" class=\"dataframe\">\n",
       "  <thead>\n",
       "    <tr style=\"text-align: right;\">\n",
       "      <th></th>\n",
       "      <th>treatment</th>\n",
       "      <th>age</th>\n",
       "      <th>blood_pressure</th>\n",
       "      <th>gender</th>\n",
       "      <th>blood_test</th>\n",
       "      <th>MeasureA</th>\n",
       "      <th>TestB</th>\n",
       "      <th>GeneB</th>\n",
       "      <th>GeneC</th>\n",
       "    </tr>\n",
       "  </thead>\n",
       "  <tbody>\n",
       "    <tr>\n",
       "      <th>0</th>\n",
       "      <td>1</td>\n",
       "      <td>74</td>\n",
       "      <td>94.113373</td>\n",
       "      <td>non-female</td>\n",
       "      <td>negative</td>\n",
       "      <td>-11.035690</td>\n",
       "      <td>-0.336843</td>\n",
       "      <td>1</td>\n",
       "      <td>0</td>\n",
       "    </tr>\n",
       "    <tr>\n",
       "      <th>1</th>\n",
       "      <td>1</td>\n",
       "      <td>56</td>\n",
       "      <td>83.337745</td>\n",
       "      <td>non-female</td>\n",
       "      <td>negative</td>\n",
       "      <td>-3.982345</td>\n",
       "      <td>-0.018734</td>\n",
       "      <td>1</td>\n",
       "      <td>1</td>\n",
       "    </tr>\n",
       "    <tr>\n",
       "      <th>2</th>\n",
       "      <td>0</td>\n",
       "      <td>37</td>\n",
       "      <td>81.759240</td>\n",
       "      <td>female</td>\n",
       "      <td>negative</td>\n",
       "      <td>6.205701</td>\n",
       "      <td>0.147933</td>\n",
       "      <td>1</td>\n",
       "      <td>1</td>\n",
       "    </tr>\n",
       "    <tr>\n",
       "      <th>3</th>\n",
       "      <td>1</td>\n",
       "      <td>54</td>\n",
       "      <td>88.549518</td>\n",
       "      <td>female</td>\n",
       "      <td>negative</td>\n",
       "      <td>-1.827613</td>\n",
       "      <td>-0.338373</td>\n",
       "      <td>1</td>\n",
       "      <td>1</td>\n",
       "    </tr>\n",
       "    <tr>\n",
       "      <th>5</th>\n",
       "      <td>0</td>\n",
       "      <td>52</td>\n",
       "      <td>81.778809</td>\n",
       "      <td>female</td>\n",
       "      <td>negative</td>\n",
       "      <td>-2.034462</td>\n",
       "      <td>-0.040692</td>\n",
       "      <td>1</td>\n",
       "      <td>0</td>\n",
       "    </tr>\n",
       "  </tbody>\n",
       "</table>\n",
       "</div>"
      ],
      "text/plain": [
       "   treatment  age  blood_pressure      gender blood_test   MeasureA     TestB  \\\n",
       "0          1   74       94.113373  non-female   negative -11.035690 -0.336843   \n",
       "1          1   56       83.337745  non-female   negative  -3.982345 -0.018734   \n",
       "2          0   37       81.759240      female   negative   6.205701  0.147933   \n",
       "3          1   54       88.549518      female   negative  -1.827613 -0.338373   \n",
       "5          0   52       81.778809      female   negative  -2.034462 -0.040692   \n",
       "\n",
       "   GeneB  GeneC  \n",
       "0      1      0  \n",
       "1      1      1  \n",
       "2      1      1  \n",
       "3      1      1  \n",
       "5      1      0  "
      ]
     },
     "execution_count": 20,
     "metadata": {},
     "output_type": "execute_result"
    }
   ],
   "source": [
    "data.head()"
   ]
  },
  {
   "cell_type": "markdown",
   "metadata": {},
   "source": [
    "1. Create dummy variables for blood_test, family_history, and gender \n",
    "2. Encode GeneA as one-hot vectors"
   ]
  },
  {
   "cell_type": "code",
   "execution_count": 21,
   "metadata": {},
   "outputs": [],
   "source": [
    "# Create dummy variable and one-hot encoding\n",
    "cat_var = data.select_dtypes(include=object).columns.tolist()\n",
    "for var in cat_var:\n",
    "    data=pd.concat([data,pd.get_dummies(data[var],prefix=var)],axis=1).drop([var],axis=1)"
   ]
  },
  {
   "cell_type": "code",
   "execution_count": 22,
   "metadata": {},
   "outputs": [
    {
     "data": {
      "text/html": [
       "<div>\n",
       "<style scoped>\n",
       "    .dataframe tbody tr th:only-of-type {\n",
       "        vertical-align: middle;\n",
       "    }\n",
       "\n",
       "    .dataframe tbody tr th {\n",
       "        vertical-align: top;\n",
       "    }\n",
       "\n",
       "    .dataframe thead th {\n",
       "        text-align: right;\n",
       "    }\n",
       "</style>\n",
       "<table border=\"1\" class=\"dataframe\">\n",
       "  <thead>\n",
       "    <tr style=\"text-align: right;\">\n",
       "      <th></th>\n",
       "      <th>treatment</th>\n",
       "      <th>age</th>\n",
       "      <th>blood_pressure</th>\n",
       "      <th>MeasureA</th>\n",
       "      <th>TestB</th>\n",
       "      <th>GeneB</th>\n",
       "      <th>GeneC</th>\n",
       "      <th>gender_female</th>\n",
       "      <th>gender_non-female</th>\n",
       "      <th>blood_test_negative</th>\n",
       "      <th>blood_test_positive</th>\n",
       "    </tr>\n",
       "  </thead>\n",
       "  <tbody>\n",
       "    <tr>\n",
       "      <th>0</th>\n",
       "      <td>1</td>\n",
       "      <td>74</td>\n",
       "      <td>94.113373</td>\n",
       "      <td>-11.035690</td>\n",
       "      <td>-0.336843</td>\n",
       "      <td>1</td>\n",
       "      <td>0</td>\n",
       "      <td>0</td>\n",
       "      <td>1</td>\n",
       "      <td>1</td>\n",
       "      <td>0</td>\n",
       "    </tr>\n",
       "    <tr>\n",
       "      <th>1</th>\n",
       "      <td>1</td>\n",
       "      <td>56</td>\n",
       "      <td>83.337745</td>\n",
       "      <td>-3.982345</td>\n",
       "      <td>-0.018734</td>\n",
       "      <td>1</td>\n",
       "      <td>1</td>\n",
       "      <td>0</td>\n",
       "      <td>1</td>\n",
       "      <td>1</td>\n",
       "      <td>0</td>\n",
       "    </tr>\n",
       "    <tr>\n",
       "      <th>2</th>\n",
       "      <td>0</td>\n",
       "      <td>37</td>\n",
       "      <td>81.759240</td>\n",
       "      <td>6.205701</td>\n",
       "      <td>0.147933</td>\n",
       "      <td>1</td>\n",
       "      <td>1</td>\n",
       "      <td>1</td>\n",
       "      <td>0</td>\n",
       "      <td>1</td>\n",
       "      <td>0</td>\n",
       "    </tr>\n",
       "    <tr>\n",
       "      <th>3</th>\n",
       "      <td>1</td>\n",
       "      <td>54</td>\n",
       "      <td>88.549518</td>\n",
       "      <td>-1.827613</td>\n",
       "      <td>-0.338373</td>\n",
       "      <td>1</td>\n",
       "      <td>1</td>\n",
       "      <td>1</td>\n",
       "      <td>0</td>\n",
       "      <td>1</td>\n",
       "      <td>0</td>\n",
       "    </tr>\n",
       "    <tr>\n",
       "      <th>5</th>\n",
       "      <td>0</td>\n",
       "      <td>52</td>\n",
       "      <td>81.778809</td>\n",
       "      <td>-2.034462</td>\n",
       "      <td>-0.040692</td>\n",
       "      <td>1</td>\n",
       "      <td>0</td>\n",
       "      <td>1</td>\n",
       "      <td>0</td>\n",
       "      <td>1</td>\n",
       "      <td>0</td>\n",
       "    </tr>\n",
       "  </tbody>\n",
       "</table>\n",
       "</div>"
      ],
      "text/plain": [
       "   treatment  age  blood_pressure   MeasureA     TestB  GeneB  GeneC  \\\n",
       "0          1   74       94.113373 -11.035690 -0.336843      1      0   \n",
       "1          1   56       83.337745  -3.982345 -0.018734      1      1   \n",
       "2          0   37       81.759240   6.205701  0.147933      1      1   \n",
       "3          1   54       88.549518  -1.827613 -0.338373      1      1   \n",
       "5          0   52       81.778809  -2.034462 -0.040692      1      0   \n",
       "\n",
       "   gender_female  gender_non-female  blood_test_negative  blood_test_positive  \n",
       "0              0                  1                    1                    0  \n",
       "1              0                  1                    1                    0  \n",
       "2              1                  0                    1                    0  \n",
       "3              1                  0                    1                    0  \n",
       "5              1                  0                    1                    0  "
      ]
     },
     "execution_count": 22,
     "metadata": {},
     "output_type": "execute_result"
    }
   ],
   "source": [
    "data.head()"
   ]
  },
  {
   "cell_type": "code",
   "execution_count": 23,
   "metadata": {},
   "outputs": [
    {
     "data": {
      "text/html": [
       "<div>\n",
       "<style scoped>\n",
       "    .dataframe tbody tr th:only-of-type {\n",
       "        vertical-align: middle;\n",
       "    }\n",
       "\n",
       "    .dataframe tbody tr th {\n",
       "        vertical-align: top;\n",
       "    }\n",
       "\n",
       "    .dataframe thead th {\n",
       "        text-align: right;\n",
       "    }\n",
       "</style>\n",
       "<table border=\"1\" class=\"dataframe\">\n",
       "  <thead>\n",
       "    <tr style=\"text-align: right;\">\n",
       "      <th></th>\n",
       "      <th>treatment</th>\n",
       "      <th>age</th>\n",
       "      <th>blood_pressure</th>\n",
       "      <th>MeasureA</th>\n",
       "      <th>TestB</th>\n",
       "      <th>GeneB</th>\n",
       "      <th>GeneC</th>\n",
       "      <th>gender_female</th>\n",
       "      <th>gender_non-female</th>\n",
       "      <th>blood_test_negative</th>\n",
       "      <th>blood_test_positive</th>\n",
       "    </tr>\n",
       "  </thead>\n",
       "  <tbody>\n",
       "    <tr>\n",
       "      <th>treatment</th>\n",
       "      <td>1.000000</td>\n",
       "      <td>-0.147294</td>\n",
       "      <td>0.061725</td>\n",
       "      <td>0.142355</td>\n",
       "      <td>0.042063</td>\n",
       "      <td>0.029843</td>\n",
       "      <td>0.041178</td>\n",
       "      <td>-0.321952</td>\n",
       "      <td>0.321952</td>\n",
       "      <td>0.050201</td>\n",
       "      <td>-0.050201</td>\n",
       "    </tr>\n",
       "    <tr>\n",
       "      <th>age</th>\n",
       "      <td>-0.147294</td>\n",
       "      <td>1.000000</td>\n",
       "      <td>0.004066</td>\n",
       "      <td>-0.970944</td>\n",
       "      <td>0.002526</td>\n",
       "      <td>0.023575</td>\n",
       "      <td>0.006706</td>\n",
       "      <td>-0.008913</td>\n",
       "      <td>0.008913</td>\n",
       "      <td>0.014782</td>\n",
       "      <td>-0.014782</td>\n",
       "    </tr>\n",
       "    <tr>\n",
       "      <th>blood_pressure</th>\n",
       "      <td>0.061725</td>\n",
       "      <td>0.004066</td>\n",
       "      <td>1.000000</td>\n",
       "      <td>-0.002923</td>\n",
       "      <td>0.000959</td>\n",
       "      <td>0.005439</td>\n",
       "      <td>-0.009015</td>\n",
       "      <td>-0.014412</td>\n",
       "      <td>0.014412</td>\n",
       "      <td>0.006774</td>\n",
       "      <td>-0.006774</td>\n",
       "    </tr>\n",
       "    <tr>\n",
       "      <th>MeasureA</th>\n",
       "      <td>0.142355</td>\n",
       "      <td>-0.970944</td>\n",
       "      <td>-0.002923</td>\n",
       "      <td>1.000000</td>\n",
       "      <td>-0.001578</td>\n",
       "      <td>-0.024170</td>\n",
       "      <td>-0.005822</td>\n",
       "      <td>0.011381</td>\n",
       "      <td>-0.011381</td>\n",
       "      <td>-0.017416</td>\n",
       "      <td>0.017416</td>\n",
       "    </tr>\n",
       "    <tr>\n",
       "      <th>TestB</th>\n",
       "      <td>0.042063</td>\n",
       "      <td>0.002526</td>\n",
       "      <td>0.000959</td>\n",
       "      <td>-0.001578</td>\n",
       "      <td>1.000000</td>\n",
       "      <td>-0.021551</td>\n",
       "      <td>0.014354</td>\n",
       "      <td>0.026275</td>\n",
       "      <td>-0.026275</td>\n",
       "      <td>0.012629</td>\n",
       "      <td>-0.012629</td>\n",
       "    </tr>\n",
       "    <tr>\n",
       "      <th>GeneB</th>\n",
       "      <td>0.029843</td>\n",
       "      <td>0.023575</td>\n",
       "      <td>0.005439</td>\n",
       "      <td>-0.024170</td>\n",
       "      <td>-0.021551</td>\n",
       "      <td>1.000000</td>\n",
       "      <td>-0.013953</td>\n",
       "      <td>0.008089</td>\n",
       "      <td>-0.008089</td>\n",
       "      <td>0.000323</td>\n",
       "      <td>-0.000323</td>\n",
       "    </tr>\n",
       "    <tr>\n",
       "      <th>GeneC</th>\n",
       "      <td>0.041178</td>\n",
       "      <td>0.006706</td>\n",
       "      <td>-0.009015</td>\n",
       "      <td>-0.005822</td>\n",
       "      <td>0.014354</td>\n",
       "      <td>-0.013953</td>\n",
       "      <td>1.000000</td>\n",
       "      <td>0.010526</td>\n",
       "      <td>-0.010526</td>\n",
       "      <td>0.019699</td>\n",
       "      <td>-0.019699</td>\n",
       "    </tr>\n",
       "    <tr>\n",
       "      <th>gender_female</th>\n",
       "      <td>-0.321952</td>\n",
       "      <td>-0.008913</td>\n",
       "      <td>-0.014412</td>\n",
       "      <td>0.011381</td>\n",
       "      <td>0.026275</td>\n",
       "      <td>0.008089</td>\n",
       "      <td>0.010526</td>\n",
       "      <td>1.000000</td>\n",
       "      <td>-1.000000</td>\n",
       "      <td>0.012619</td>\n",
       "      <td>-0.012619</td>\n",
       "    </tr>\n",
       "    <tr>\n",
       "      <th>gender_non-female</th>\n",
       "      <td>0.321952</td>\n",
       "      <td>0.008913</td>\n",
       "      <td>0.014412</td>\n",
       "      <td>-0.011381</td>\n",
       "      <td>-0.026275</td>\n",
       "      <td>-0.008089</td>\n",
       "      <td>-0.010526</td>\n",
       "      <td>-1.000000</td>\n",
       "      <td>1.000000</td>\n",
       "      <td>-0.012619</td>\n",
       "      <td>0.012619</td>\n",
       "    </tr>\n",
       "    <tr>\n",
       "      <th>blood_test_negative</th>\n",
       "      <td>0.050201</td>\n",
       "      <td>0.014782</td>\n",
       "      <td>0.006774</td>\n",
       "      <td>-0.017416</td>\n",
       "      <td>0.012629</td>\n",
       "      <td>0.000323</td>\n",
       "      <td>0.019699</td>\n",
       "      <td>0.012619</td>\n",
       "      <td>-0.012619</td>\n",
       "      <td>1.000000</td>\n",
       "      <td>-1.000000</td>\n",
       "    </tr>\n",
       "    <tr>\n",
       "      <th>blood_test_positive</th>\n",
       "      <td>-0.050201</td>\n",
       "      <td>-0.014782</td>\n",
       "      <td>-0.006774</td>\n",
       "      <td>0.017416</td>\n",
       "      <td>-0.012629</td>\n",
       "      <td>-0.000323</td>\n",
       "      <td>-0.019699</td>\n",
       "      <td>-0.012619</td>\n",
       "      <td>0.012619</td>\n",
       "      <td>-1.000000</td>\n",
       "      <td>1.000000</td>\n",
       "    </tr>\n",
       "  </tbody>\n",
       "</table>\n",
       "</div>"
      ],
      "text/plain": [
       "                     treatment       age  blood_pressure  MeasureA     TestB  \\\n",
       "treatment             1.000000 -0.147294        0.061725  0.142355  0.042063   \n",
       "age                  -0.147294  1.000000        0.004066 -0.970944  0.002526   \n",
       "blood_pressure        0.061725  0.004066        1.000000 -0.002923  0.000959   \n",
       "MeasureA              0.142355 -0.970944       -0.002923  1.000000 -0.001578   \n",
       "TestB                 0.042063  0.002526        0.000959 -0.001578  1.000000   \n",
       "GeneB                 0.029843  0.023575        0.005439 -0.024170 -0.021551   \n",
       "GeneC                 0.041178  0.006706       -0.009015 -0.005822  0.014354   \n",
       "gender_female        -0.321952 -0.008913       -0.014412  0.011381  0.026275   \n",
       "gender_non-female     0.321952  0.008913        0.014412 -0.011381 -0.026275   \n",
       "blood_test_negative   0.050201  0.014782        0.006774 -0.017416  0.012629   \n",
       "blood_test_positive  -0.050201 -0.014782       -0.006774  0.017416 -0.012629   \n",
       "\n",
       "                        GeneB     GeneC  gender_female  gender_non-female  \\\n",
       "treatment            0.029843  0.041178      -0.321952           0.321952   \n",
       "age                  0.023575  0.006706      -0.008913           0.008913   \n",
       "blood_pressure       0.005439 -0.009015      -0.014412           0.014412   \n",
       "MeasureA            -0.024170 -0.005822       0.011381          -0.011381   \n",
       "TestB               -0.021551  0.014354       0.026275          -0.026275   \n",
       "GeneB                1.000000 -0.013953       0.008089          -0.008089   \n",
       "GeneC               -0.013953  1.000000       0.010526          -0.010526   \n",
       "gender_female        0.008089  0.010526       1.000000          -1.000000   \n",
       "gender_non-female   -0.008089 -0.010526      -1.000000           1.000000   \n",
       "blood_test_negative  0.000323  0.019699       0.012619          -0.012619   \n",
       "blood_test_positive -0.000323 -0.019699      -0.012619           0.012619   \n",
       "\n",
       "                     blood_test_negative  blood_test_positive  \n",
       "treatment                       0.050201            -0.050201  \n",
       "age                             0.014782            -0.014782  \n",
       "blood_pressure                  0.006774            -0.006774  \n",
       "MeasureA                       -0.017416             0.017416  \n",
       "TestB                           0.012629            -0.012629  \n",
       "GeneB                           0.000323            -0.000323  \n",
       "GeneC                           0.019699            -0.019699  \n",
       "gender_female                   0.012619            -0.012619  \n",
       "gender_non-female              -0.012619             0.012619  \n",
       "blood_test_negative             1.000000            -1.000000  \n",
       "blood_test_positive            -1.000000             1.000000  "
      ]
     },
     "execution_count": 23,
     "metadata": {},
     "output_type": "execute_result"
    }
   ],
   "source": [
    "data.corr()"
   ]
  },
  {
   "cell_type": "markdown",
   "metadata": {},
   "source": [
    "## Split X and y"
   ]
  },
  {
   "cell_type": "code",
   "execution_count": 25,
   "metadata": {},
   "outputs": [],
   "source": [
    "y = data[\"treatment\"]\n",
    "X = data.drop(\"treatment\", axis=1)"
   ]
  },
  {
   "cell_type": "code",
   "execution_count": 26,
   "metadata": {},
   "outputs": [
    {
     "data": {
      "text/plain": [
       "(7068, 10)"
      ]
     },
     "execution_count": 26,
     "metadata": {},
     "output_type": "execute_result"
    }
   ],
   "source": [
    "X.shape"
   ]
  },
  {
   "cell_type": "markdown",
   "metadata": {},
   "source": [
    "# Feature selection"
   ]
  },
  {
   "cell_type": "code",
   "execution_count": 27,
   "metadata": {},
   "outputs": [],
   "source": [
    "data_copy = data\n",
    "X_copy = X\n",
    "y_copy = y"
   ]
  },
  {
   "cell_type": "code",
   "execution_count": 28,
   "metadata": {
    "scrolled": true
   },
   "outputs": [
    {
     "data": {
      "text/plain": [
       "array([ 9,  8, 10,  4,  7,  6,  2,  1,  5,  3])"
      ]
     },
     "execution_count": 28,
     "metadata": {},
     "output_type": "execute_result"
    }
   ],
   "source": [
    "# Using RFE to get the ranking of the importance of each feature\n",
    "from sklearn.feature_selection import RFE\n",
    "from sklearn.linear_model import LogisticRegression\n",
    "\n",
    "estimator = LogisticRegression(max_iter=1000)\n",
    "selector = RFE(estimator, n_features_to_select=1, step=1)\n",
    "selector = selector.fit(X, y)\n",
    "selector.ranking_"
   ]
  },
  {
   "cell_type": "code",
   "execution_count": 29,
   "metadata": {
    "scrolled": true
   },
   "outputs": [
    {
     "data": {
      "text/html": [
       "<div>\n",
       "<style scoped>\n",
       "    .dataframe tbody tr th:only-of-type {\n",
       "        vertical-align: middle;\n",
       "    }\n",
       "\n",
       "    .dataframe tbody tr th {\n",
       "        vertical-align: top;\n",
       "    }\n",
       "\n",
       "    .dataframe thead th {\n",
       "        text-align: right;\n",
       "    }\n",
       "</style>\n",
       "<table border=\"1\" class=\"dataframe\">\n",
       "  <thead>\n",
       "    <tr style=\"text-align: right;\">\n",
       "      <th></th>\n",
       "      <th>age</th>\n",
       "      <th>blood_pressure</th>\n",
       "      <th>MeasureA</th>\n",
       "      <th>TestB</th>\n",
       "      <th>GeneB</th>\n",
       "      <th>GeneC</th>\n",
       "      <th>gender_female</th>\n",
       "      <th>gender_non-female</th>\n",
       "      <th>blood_test_negative</th>\n",
       "      <th>blood_test_positive</th>\n",
       "    </tr>\n",
       "  </thead>\n",
       "  <tbody>\n",
       "    <tr>\n",
       "      <th>0</th>\n",
       "      <td>74</td>\n",
       "      <td>94.113373</td>\n",
       "      <td>-11.035690</td>\n",
       "      <td>-0.336843</td>\n",
       "      <td>1</td>\n",
       "      <td>0</td>\n",
       "      <td>0</td>\n",
       "      <td>1</td>\n",
       "      <td>1</td>\n",
       "      <td>0</td>\n",
       "    </tr>\n",
       "    <tr>\n",
       "      <th>1</th>\n",
       "      <td>56</td>\n",
       "      <td>83.337745</td>\n",
       "      <td>-3.982345</td>\n",
       "      <td>-0.018734</td>\n",
       "      <td>1</td>\n",
       "      <td>1</td>\n",
       "      <td>0</td>\n",
       "      <td>1</td>\n",
       "      <td>1</td>\n",
       "      <td>0</td>\n",
       "    </tr>\n",
       "    <tr>\n",
       "      <th>2</th>\n",
       "      <td>37</td>\n",
       "      <td>81.759240</td>\n",
       "      <td>6.205701</td>\n",
       "      <td>0.147933</td>\n",
       "      <td>1</td>\n",
       "      <td>1</td>\n",
       "      <td>1</td>\n",
       "      <td>0</td>\n",
       "      <td>1</td>\n",
       "      <td>0</td>\n",
       "    </tr>\n",
       "    <tr>\n",
       "      <th>3</th>\n",
       "      <td>54</td>\n",
       "      <td>88.549518</td>\n",
       "      <td>-1.827613</td>\n",
       "      <td>-0.338373</td>\n",
       "      <td>1</td>\n",
       "      <td>1</td>\n",
       "      <td>1</td>\n",
       "      <td>0</td>\n",
       "      <td>1</td>\n",
       "      <td>0</td>\n",
       "    </tr>\n",
       "    <tr>\n",
       "      <th>5</th>\n",
       "      <td>52</td>\n",
       "      <td>81.778809</td>\n",
       "      <td>-2.034462</td>\n",
       "      <td>-0.040692</td>\n",
       "      <td>1</td>\n",
       "      <td>0</td>\n",
       "      <td>1</td>\n",
       "      <td>0</td>\n",
       "      <td>1</td>\n",
       "      <td>0</td>\n",
       "    </tr>\n",
       "  </tbody>\n",
       "</table>\n",
       "</div>"
      ],
      "text/plain": [
       "   age  blood_pressure   MeasureA     TestB  GeneB  GeneC  gender_female  \\\n",
       "0   74       94.113373 -11.035690 -0.336843      1      0              0   \n",
       "1   56       83.337745  -3.982345 -0.018734      1      1              0   \n",
       "2   37       81.759240   6.205701  0.147933      1      1              1   \n",
       "3   54       88.549518  -1.827613 -0.338373      1      1              1   \n",
       "5   52       81.778809  -2.034462 -0.040692      1      0              1   \n",
       "\n",
       "   gender_non-female  blood_test_negative  blood_test_positive  \n",
       "0                  1                    1                    0  \n",
       "1                  1                    1                    0  \n",
       "2                  0                    1                    0  \n",
       "3                  0                    1                    0  \n",
       "5                  0                    1                    0  "
      ]
     },
     "execution_count": 29,
     "metadata": {},
     "output_type": "execute_result"
    }
   ],
   "source": [
    "X.head()"
   ]
  },
  {
   "cell_type": "code",
   "execution_count": 30,
   "metadata": {
    "scrolled": true
   },
   "outputs": [
    {
     "name": "stdout",
     "output_type": "stream",
     "text": [
      "blood_test_negative:9\n",
      "gender_non-female:8\n",
      "blood_test_positive:10\n",
      "TestB:4\n",
      "gender_female:7\n",
      "GeneC:6\n",
      "blood_pressure:2\n",
      "age:1\n",
      "GeneB:5\n",
      "MeasureA:3\n"
     ]
    }
   ],
   "source": [
    "# Print in a more understandable way\n",
    "for ele in selector.ranking_:\n",
    "    print(\"{}:{}\".format(X.columns[ele-1], ele))"
   ]
  },
  {
   "cell_type": "markdown",
   "metadata": {},
   "source": [
    "# Training, Validation, and Test Set"
   ]
  },
  {
   "cell_type": "code",
   "execution_count": 31,
   "metadata": {},
   "outputs": [
    {
     "data": {
      "text/plain": [
       "((4240, 11), (1414, 11), (1414, 11))"
      ]
     },
     "execution_count": 31,
     "metadata": {},
     "output_type": "execute_result"
    }
   ],
   "source": [
    "# Create randam indices\n",
    "import numpy as np\n",
    "np.random.seed(44)\n",
    "N = len(data)\n",
    "shuffled_indices = np.random.permutation(N)\n",
    "\n",
    "# Split indices into train, validation and test sets\n",
    "train_indices = shuffled_indices[:int(N*0.6)]\n",
    "valid_indices = shuffled_indices[int(N*0.6):int(N*0.8)]\n",
    "test_indices = shuffled_indices[int(N*0.8):]\n",
    "\n",
    "# Split data into train, validation and test sets\n",
    "train_set = data.iloc[train_indices]\n",
    "valid_set = data.iloc[valid_indices]\n",
    "test_set = data.iloc[test_indices]\n",
    "\n",
    "train_set.shape, valid_set.shape, test_set.shape"
   ]
  },
  {
   "cell_type": "code",
   "execution_count": 31,
   "metadata": {},
   "outputs": [],
   "source": [
    "# # Use this code indeed\n",
    "# from sklearn.model_selection import train_test_split\n",
    "# train_X, test_X, train_y, test_y = train_test_split(X, y, test_size=0.3, random_state=0)"
   ]
  },
  {
   "cell_type": "markdown",
   "metadata": {},
   "source": [
    "## Split X and y of train, validation and test sets"
   ]
  },
  {
   "cell_type": "code",
   "execution_count": 32,
   "metadata": {},
   "outputs": [],
   "source": [
    "# Split train set\n",
    "train_y = train_set[\"treatment\"]\n",
    "train_X = train_set.drop(\"treatment\", axis=1)\n",
    "\n",
    "# Split validation set\n",
    "valid_y = valid_set[\"treatment\"]\n",
    "valid_X = valid_set.drop(\"treatment\", axis=1)\n",
    "\n",
    "# Split test set\n",
    "test_y = test_set[\"treatment\"]\n",
    "test_X = test_set.drop(\"treatment\", axis=1)"
   ]
  },
  {
   "cell_type": "markdown",
   "metadata": {},
   "source": [
    "## Train"
   ]
  },
  {
   "cell_type": "code",
   "execution_count": 33,
   "metadata": {
    "scrolled": true
   },
   "outputs": [
    {
     "name": "stdout",
     "output_type": "stream",
     "text": [
      "Optimization terminated successfully.\n",
      "         Current function value: 0.582072\n",
      "         Iterations 6\n",
      "                                   Results: Logit\n",
      "====================================================================================\n",
      "Model:                    Logit                  Method:                 MLE        \n",
      "Dependent Variable:       treatment              Pseudo R-squared:       0.108      \n",
      "Date:                     2023-07-20 23:40       AIC:                    4953.9714  \n",
      "No. Observations:         4240                   BIC:                    5011.1422  \n",
      "Df Model:                 8                      Log-Likelihood:         -2468.0    \n",
      "Df Residuals:             4231                   LL-Null:                -2765.6    \n",
      "Converged:                1.0000                 LLR p-value:            2.4246e-123\n",
      "No. Iterations:           6.0000                 Scale:                  1.0000     \n",
      "------------------------------------------------------------------------------------\n",
      "                     Coef.    Std.Err.      z    P>|z|      [0.025         0.975]   \n",
      "------------------------------------------------------------------------------------\n",
      "age                 -0.0533       0.0178 -2.9879 0.0028        -0.0882       -0.0183\n",
      "blood_pressure       0.0605       0.0106  5.7167 0.0000         0.0397        0.0812\n",
      "MeasureA            -0.0105       0.0348 -0.3009 0.7635        -0.0788        0.0578\n",
      "TestB                0.3126       0.1069  2.9242 0.0035         0.1031        0.5221\n",
      "GeneB                0.2268       0.0697  3.2541 0.0011         0.0902        0.3634\n",
      "GeneC                0.2506       0.0697  3.5968 0.0003         0.1140        0.3871\n",
      "gender_female       -2.1540 8244929.4903 -0.0000 1.0000 -16159767.0100 16159762.7021\n",
      "gender_non-female   -0.7315 8244929.4903 -0.0000 1.0000 -16159765.5876 16159764.1245\n",
      "blood_test_negative -1.2392 8244929.4903 -0.0000 1.0000 -16159766.0953 16159763.6168\n",
      "blood_test_positive -1.6462 8244929.4903 -0.0000 1.0000 -16159766.5023 16159763.2098\n",
      "====================================================================================\n",
      "\n"
     ]
    }
   ],
   "source": [
    "# Using statsmodel to train the model\n",
    "import statsmodels.api as sm\n",
    "logit_model=sm.Logit(train_y,train_X)\n",
    "result=logit_model.fit()\n",
    "print(result.summary2())"
   ]
  },
  {
   "cell_type": "markdown",
   "metadata": {},
   "source": [
    "## Logistic Regression Model Fitting"
   ]
  },
  {
   "cell_type": "code",
   "execution_count": 34,
   "metadata": {},
   "outputs": [
    {
     "data": {
      "text/plain": [
       "LogisticRegression(max_iter=1000, penalty='none')"
      ]
     },
     "execution_count": 34,
     "metadata": {},
     "output_type": "execute_result"
    }
   ],
   "source": [
    "# Fit model on the training set\n",
    "logreg = LogisticRegression(max_iter=1000, penalty='none')\n",
    "logreg.fit(train_X, train_y)"
   ]
  },
  {
   "cell_type": "code",
   "execution_count": 35,
   "metadata": {},
   "outputs": [
    {
     "data": {
      "text/plain": [
       "(array([-1.44414083]),\n",
       " array([[-0.0532763 ,  0.06050992, -0.0104852 ,  0.31268639,  0.22580858,\n",
       "          0.25143254, -1.43329494, -0.01084589, -0.51844976, -0.92569107]]))"
      ]
     },
     "execution_count": 35,
     "metadata": {},
     "output_type": "execute_result"
    }
   ],
   "source": [
    "logreg.intercept_, logreg.coef_"
   ]
  },
  {
   "cell_type": "markdown",
   "metadata": {},
   "source": [
    "## Evaluating on the Validation Set"
   ]
  },
  {
   "cell_type": "code",
   "execution_count": 36,
   "metadata": {},
   "outputs": [],
   "source": [
    "# Define a new evalation function\n",
    "def log_eva(X, y, M):\n",
    "    \"\"\"M means the model used\"\"\"\n",
    "    from sklearn.metrics import confusion_matrix, precision_score, recall_score, f1_score\n",
    "    \n",
    "    pred_y = M.predict(X)\n",
    "    \n",
    "    # Calculate accuracy\n",
    "    print('Accuracy of logistic regression classifier on test set: {:.2f}'.format(M.score(X, y)))\n",
    "    \n",
    "    # Calculate confusion matrix\n",
    "    c_mat = confusion_matrix(y, pred_y)\n",
    "    print('Confusion matrix is')\n",
    "    print(c_mat)\n",
    "    \n",
    "    # Compute precision score\n",
    "    print(\"Precision score is:{}\".format(precision_score(y, pred_y)))\n",
    "    \n",
    "    # Compute recall score\n",
    "    print(\"Recall score is:{}\".format(recall_score(y, pred_y)))\n",
    "    \n",
    "    # Compute f1 score\n",
    "    print(\"F1 score is:{}\".format(f1_score(y, pred_y)))"
   ]
  },
  {
   "cell_type": "code",
   "execution_count": 37,
   "metadata": {},
   "outputs": [
    {
     "name": "stdout",
     "output_type": "stream",
     "text": [
      "Accuracy of logistic regression classifier on test set: 0.71\n",
      "Confusion matrix is\n",
      "[[787 146]\n",
      " [262 219]]\n",
      "Precision score is:0.6\n",
      "Recall score is:0.4553014553014553\n",
      "F1 score is:0.5177304964539008\n"
     ]
    }
   ],
   "source": [
    "log_eva(valid_X, valid_y, logreg)"
   ]
  },
  {
   "cell_type": "markdown",
   "metadata": {},
   "source": [
    "## Fitting model using penalty"
   ]
  },
  {
   "cell_type": "code",
   "execution_count": 42,
   "metadata": {},
   "outputs": [
    {
     "data": {
      "text/plain": [
       "LogisticRegression(max_iter=1000)"
      ]
     },
     "execution_count": 42,
     "metadata": {},
     "output_type": "execute_result"
    }
   ],
   "source": [
    "from sklearn.linear_model import LogisticRegression\n",
    "# L1 penalty\n",
    "logreg_L1 = LogisticRegression(max_iter=1000, penalty='l1', solver='liblinear')\n",
    "logreg_L1.fit(train_X, train_y)\n",
    "\n",
    "# L2 penalty\n",
    "logreg_L2 = LogisticRegression(max_iter=1000, penalty='l2')\n",
    "logreg_L2.fit(train_X, train_y)"
   ]
  },
  {
   "cell_type": "code",
   "execution_count": 43,
   "metadata": {},
   "outputs": [
    {
     "data": {
      "text/plain": [
       "(array([-0.52412503]),\n",
       " array([[-0.06660716,  0.05114576, -0.03554566,  0.30063827,  0.21887579,\n",
       "          0.24254958, -1.41818591,  0.        ,  0.        , -0.39182244]]))"
      ]
     },
     "execution_count": 43,
     "metadata": {},
     "output_type": "execute_result"
    }
   ],
   "source": [
    "logreg_L1.intercept_, logreg_L1.coef_"
   ]
  },
  {
   "cell_type": "code",
   "execution_count": 44,
   "metadata": {},
   "outputs": [
    {
     "data": {
      "text/plain": [
       "(array([-1.07916019]),\n",
       " array([[-0.06053072,  0.05553226, -0.02409978,  0.31278935,  0.22551119,\n",
       "          0.24930814, -1.2238803 ,  0.19403843, -0.31391334, -0.71592853]]))"
      ]
     },
     "execution_count": 44,
     "metadata": {},
     "output_type": "execute_result"
    }
   ],
   "source": [
    "logreg_L2.intercept_, logreg_L2.coef_"
   ]
  },
  {
   "cell_type": "markdown",
   "metadata": {},
   "source": [
    "## Evaluating model using validation set after using penalty L1"
   ]
  },
  {
   "cell_type": "code",
   "execution_count": 45,
   "metadata": {},
   "outputs": [
    {
     "name": "stdout",
     "output_type": "stream",
     "text": [
      "Accuracy of logistic regression classifier on test set: 0.71\n",
      "Confusion matrix is\n",
      "[[788 133]\n",
      " [273 220]]\n",
      "Precision score is:0.623229461756374\n",
      "Recall score is:0.4462474645030426\n",
      "F1 score is:0.5200945626477541\n"
     ]
    }
   ],
   "source": [
    "log_eva(test_X, test_y, logreg_L1)"
   ]
  },
  {
   "cell_type": "markdown",
   "metadata": {},
   "source": [
    "## Evaluating model using validation set after using penalty L2"
   ]
  },
  {
   "cell_type": "code",
   "execution_count": 46,
   "metadata": {},
   "outputs": [
    {
     "name": "stdout",
     "output_type": "stream",
     "text": [
      "Accuracy of logistic regression classifier on test set: 0.71\n",
      "Confusion matrix is\n",
      "[[790 143]\n",
      " [262 219]]\n",
      "Precision score is:0.6049723756906077\n",
      "Recall score is:0.4553014553014553\n",
      "F1 score is:0.5195729537366548\n"
     ]
    }
   ],
   "source": [
    "log_eva(valid_X, valid_y, logreg_L2)"
   ]
  },
  {
   "cell_type": "markdown",
   "metadata": {},
   "source": [
    "### Conclusion:\n",
    "Adding L1 regularization to my model increases the interprebality of our model, since it let the coefficient before useless variable become zero. But it won't improve the model. "
   ]
  },
  {
   "cell_type": "markdown",
   "metadata": {},
   "source": [
    "# Train for Real"
   ]
  },
  {
   "cell_type": "code",
   "execution_count": 47,
   "metadata": {},
   "outputs": [
    {
     "data": {
      "text/plain": [
       "((5654, 10), (5654,))"
      ]
     },
     "execution_count": 47,
     "metadata": {},
     "output_type": "execute_result"
    }
   ],
   "source": [
    "# Combine the train set and the validation set\n",
    "train_an_valid_X = train_X.append(valid_X)\n",
    "train_an_valid_y = train_y.append(valid_y)\n",
    "\n",
    "train_an_valid_X.shape, train_an_valid_y.shape"
   ]
  },
  {
   "cell_type": "code",
   "execution_count": 48,
   "metadata": {},
   "outputs": [
    {
     "data": {
      "text/plain": [
       "LogisticRegression(max_iter=1000, penalty='l1', solver='liblinear')"
      ]
     },
     "execution_count": 48,
     "metadata": {},
     "output_type": "execute_result"
    }
   ],
   "source": [
    "# fit the model using L1 penalty\n",
    "logreg_L1.fit(train_an_valid_X, train_an_valid_y)"
   ]
  },
  {
   "cell_type": "markdown",
   "metadata": {},
   "source": [
    "# Test for Real"
   ]
  },
  {
   "cell_type": "code",
   "execution_count": 49,
   "metadata": {},
   "outputs": [
    {
     "name": "stdout",
     "output_type": "stream",
     "text": [
      "Accuracy of logistic regression classifier on test set: 0.71\n",
      "Confusion matrix is\n",
      "[[793 128]\n",
      " [275 218]]\n",
      "Precision score is:0.630057803468208\n",
      "Recall score is:0.4421906693711968\n",
      "F1 score is:0.5196662693682956\n"
     ]
    }
   ],
   "source": [
    "# Check the performance\n",
    "log_eva(test_X, test_y, logreg_L1)"
   ]
  },
  {
   "cell_type": "markdown",
   "metadata": {},
   "source": [
    "## ROC Curve"
   ]
  },
  {
   "cell_type": "code",
   "execution_count": 50,
   "metadata": {},
   "outputs": [
    {
     "data": {
      "image/png": "[encoded data removed]",
      "text/plain": [
       "<Figure size 432x288 with 1 Axes>"
      ]
     },
     "metadata": {
      "needs_background": "light"
     },
     "output_type": "display_data"
    }
   ],
   "source": [
    "import matplotlib.pyplot as plt \n",
    "from sklearn.metrics import roc_curve\n",
    "from sklearn import metrics\n",
    "fpr, tpr, thresholds = roc_curve(test_y, logreg_L1.predict_proba(test_X)[:,1])\n",
    "plt.figure()\n",
    "# Compute AUC score\n",
    "plt.plot(fpr, tpr, label='AUC Score = %0.2f' % metrics.auc(fpr,tpr))\n",
    "plt.plot([0, 1], [0, 1],'r--')\n",
    "plt.xlim([0.0, 1.0])\n",
    "plt.ylim([0.0, 1.05])\n",
    "plt.xlabel('False Positive Rate')\n",
    "plt.ylabel('True Positive Rate')\n",
    "plt.title('Receiver operating characteristic')\n",
    "plt.legend(loc=\"lower right\")\n",
    "plt.savefig('Log_ROC')\n",
    "plt.show()"
   ]
  },
  {
   "cell_type": "markdown",
   "metadata": {},
   "source": [
    "# Over-sampling"
   ]
  },
  {
   "cell_type": "code",
   "execution_count": 52,
   "metadata": {},
   "outputs": [
    {
     "name": "stdout",
     "output_type": "stream",
     "text": [
      "length of oversampled data is  6428\n",
      "Number of no subscription in oversampled data 3214\n",
      "Number of subscription 3214\n",
      "Proportion of no subscription data in oversampled data is  0.5\n",
      "Proportion of subscription data in oversampled data is  0.5\n"
     ]
    }
   ],
   "source": [
    "from imblearn.over_sampling import SMOTE\n",
    "from sklearn.model_selection import train_test_split\n",
    "\n",
    "os = SMOTE(random_state=0)\n",
    "X_train, X_test, y_train, y_test = train_test_split(X, y, test_size=0.3, random_state=0)\n",
    "columns = X_train.columns\n",
    "\n",
    "os_data_X,os_data_y=os.fit_resample(X_train, y_train)\n",
    "os_data_X = pd.DataFrame(data=os_data_X,columns=columns )\n",
    "os_data_y= pd.DataFrame(data=os_data_y,columns=['treatment'])\n",
    "# we can Check the numbers of our data\n",
    "print(\"length of oversampled data is \",len(os_data_X))\n",
    "print(\"Number of no subscription in oversampled data\",len(os_data_y[os_data_y['treatment']==0]))\n",
    "print(\"Number of subscription\",len(os_data_y[os_data_y['treatment']==1]))\n",
    "print(\"Proportion of no subscription data in oversampled data is \",len(os_data_y[os_data_y['treatment']==0])/len(os_data_X))\n",
    "print(\"Proportion of subscription data in oversampled data is \",len(os_data_y[os_data_y['treatment']==1])/len(os_data_X))"
   ]
  },
  {
   "cell_type": "code",
   "execution_count": 53,
   "metadata": {},
   "outputs": [],
   "source": [
    "train_X, test_X, train_y, test_y = train_test_split(os_data_X, os_data_y, test_size=0.3, random_state=0)"
   ]
  },
  {
   "cell_type": "code",
   "execution_count": 62,
   "metadata": {},
   "outputs": [
    {
     "data": {
      "text/plain": [
       "LogisticRegression(max_iter=1000, penalty='l1', solver='liblinear')"
      ]
     },
     "execution_count": 62,
     "metadata": {},
     "output_type": "execute_result"
    }
   ],
   "source": [
    "from sklearn.linear_model import LogisticRegression\n",
    "# L1 penalty\n",
    "logreg_L1 = LogisticRegression(max_iter=1000, penalty='l1', solver='liblinear')\n",
    "logreg_L1.fit(train_X, train_y.values.ravel())"
   ]
  },
  {
   "cell_type": "code",
   "execution_count": 63,
   "metadata": {},
   "outputs": [
    {
     "name": "stdout",
     "output_type": "stream",
     "text": [
      "Accuracy of logistic regression classifier on test set: 0.67\n",
      "Confusion matrix is\n",
      "[[690 230]\n",
      " [397 612]]\n",
      "Precision score is:0.7268408551068883\n",
      "Recall score is:0.6065411298315163\n",
      "F1 score is:0.6612641815235007\n"
     ]
    }
   ],
   "source": [
    "# Evaluate on validation set\n",
    "log_eva(test_X, test_y, logreg_L1)"
   ]
  },
  {
   "cell_type": "code",
   "execution_count": 64,
   "metadata": {},
   "outputs": [
    {
     "data": {
      "image/png": "[encoded data removed]",
      "text/plain": [
       "<Figure size 432x288 with 1 Axes>"
      ]
     },
     "metadata": {
      "needs_background": "light"
     },
     "output_type": "display_data"
    }
   ],
   "source": [
    "from sklearn.metrics import roc_curve\n",
    "from sklearn import metrics\n",
    "fpr, tpr, thresholds = roc_curve(test_y, logreg_L1.predict_proba(test_X)[:,1])\n",
    "plt.figure()\n",
    "# Compute AUC score\n",
    "plt.plot(fpr, tpr, label='AUC Score = %0.2f' % metrics.auc(fpr,tpr))\n",
    "plt.plot([0, 1], [0, 1],'r--')\n",
    "plt.xlim([0.0, 1.0])\n",
    "plt.ylim([0.0, 1.05])\n",
    "plt.xlabel('False Positive Rate')\n",
    "plt.ylabel('True Positive Rate')\n",
    "plt.title('Receiver operating characteristic')\n",
    "plt.legend(loc=\"lower right\")\n",
    "plt.savefig('Log_ROC')\n",
    "plt.show()"
   ]
  }
 ],
 "metadata": {
  "kernelspec": {
   "display_name": "Python 3 (ipykernel)",
   "language": "python",
   "name": "python3"
  },
  "language_info": {
   "codemirror_mode": {
    "name": "ipython",
    "version": 3
   },
   "file_extension": ".py",
   "mimetype": "text/x-python",
   "name": "python",
   "nbconvert_exporter": "python",
   "pygments_lexer": "ipython3",
   "version": "3.9.6"
  }
 },
 "nbformat": 4,
 "nbformat_minor": 4
}
