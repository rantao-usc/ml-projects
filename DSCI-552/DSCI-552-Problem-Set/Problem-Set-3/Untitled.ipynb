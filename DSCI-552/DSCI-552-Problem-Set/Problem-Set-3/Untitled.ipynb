{
 "cells": [
  {
   "cell_type": "markdown",
   "metadata": {},
   "source": [
    "# Load and explore the data set"
   ]
  },
  {
   "cell_type": "code",
   "execution_count": 1,
   "metadata": {},
   "outputs": [],
   "source": [
    "# Load dataset\n",
    "import numpy as np\n",
    "\n",
    "# Load data of patient Z\n",
    "p_z = np.load('datasets/ps3_patient_zet.npy')\n",
    "\n",
    "# Load data of other patients \n",
    "p_others = np.load('datasets/ps3_genetic_fingerprints.npy')"
   ]
  },
  {
   "cell_type": "code",
   "execution_count": 2,
   "metadata": {},
   "outputs": [
    {
     "data": {
      "text/plain": [
       "(512,)"
      ]
     },
     "execution_count": 2,
     "metadata": {},
     "output_type": "execute_result"
    }
   ],
   "source": [
    "# data exploration\n",
    "p_z.shape # p_z = 1 x 512"
   ]
  },
  {
   "cell_type": "code",
   "execution_count": 3,
   "metadata": {},
   "outputs": [
    {
     "data": {
      "text/plain": [
       "(16930, 512)"
      ]
     },
     "execution_count": 3,
     "metadata": {},
     "output_type": "execute_result"
    }
   ],
   "source": [
    "# data exploration\n",
    "p_others.shape # p_others = 16930 x 512"
   ]
  },
  {
   "cell_type": "markdown",
   "metadata": {},
   "source": [
    "# Find the optimal number of clusters"
   ]
  },
  {
   "cell_type": "code",
   "execution_count": 27,
   "metadata": {},
   "outputs": [
    {
     "data": {
      "image/png": "[encoded data removed]",
      "text/plain": [
       "<Figure size 432x288 with 1 Axes>"
      ]
     },
     "metadata": {
      "needs_background": "light"
     },
     "output_type": "display_data"
    }
   ],
   "source": [
    "from sklearn.cluster import KMeans\n",
    "import matplotlib.pyplot as plt\n",
    "\n",
    "# Print the inertia plot to find the optimal number of clusters\n",
    "inertia_score = {}\n",
    "for k in range(1, 10):\n",
    "    kmeans = KMeans(n_clusters=k).fit(p_others)\n",
    "    inertia_score[k] = kmeans.inertia_ \n",
    "plt.figure()\n",
    "plt.plot(list(inertia_score.keys()), list(inertia_score.values()))\n",
    "plt.xlabel(\"Number of cluster\")\n",
    "plt.ylabel(\"inertia\")\n",
    "\n",
    "# save figure\n",
    "plt.savefig('inertia plot')"
   ]
  },
  {
   "cell_type": "code",
   "execution_count": 28,
   "metadata": {},
   "outputs": [
    {
     "data": {
      "image/png": "[encoded data removed]",
      "text/plain": [
       "<Figure size 432x288 with 1 Axes>"
      ]
     },
     "metadata": {
      "needs_background": "light"
     },
     "output_type": "display_data"
    }
   ],
   "source": [
    "# Lets plot silhouette score plot to prove our results\n",
    "from sklearn.metrics import silhouette_score\n",
    "s_score = {}\n",
    "for k in range(2, 10):\n",
    "    kmeans = KMeans(n_clusters=k).fit(p_others)\n",
    "    s_score[k] = silhouette_score(p_others, kmeans.labels_)\n",
    "\n",
    "plt.figure()\n",
    "plt.plot(list(s_score.keys()), list(s_score.values()))\n",
    "plt.xlabel(\"Number of cluster\")\n",
    "plt.ylabel(\"Silhouette score\")\n",
    "\n",
    "# save figure\n",
    "plt.savefig('silhouette score plot')"
   ]
  },
  {
   "cell_type": "markdown",
   "metadata": {},
   "source": [
    "### IMPORTANT FINDING:\n",
    "From these plots, it is obvious that the optimal number of clusters is 7"
   ]
  },
  {
   "cell_type": "markdown",
   "metadata": {},
   "source": [
    "# K-means"
   ]
  },
  {
   "cell_type": "code",
   "execution_count": 16,
   "metadata": {},
   "outputs": [],
   "source": [
    "from sklearn.cluster import KMeans\n",
    "k = 7\n",
    "kmeans = KMeans(n_clusters=k).fit(p_others)\n",
    "\n",
    "# using kmeans to predict which patient belongs to which cluster\n",
    "y_kmeans = kmeans.predict(p_others)"
   ]
  },
  {
   "cell_type": "code",
   "execution_count": 17,
   "metadata": {},
   "outputs": [
    {
     "data": {
      "text/plain": [
       "array([[ 0.0000000e+00,  1.3460522e-10,  0.0000000e+00, ...,\n",
       "         0.0000000e+00, -1.9324943e-08, -2.9103830e-09],\n",
       "       [ 0.0000000e+00,  2.9864986e-04,  0.0000000e+00, ...,\n",
       "         0.0000000e+00,  5.8226986e-05, -2.7939677e-09],\n",
       "       [ 0.0000000e+00,  1.3096724e-10,  0.0000000e+00, ...,\n",
       "         0.0000000e+00,  3.8512563e-04, -3.0267984e-09],\n",
       "       ...,\n",
       "       [ 0.0000000e+00,  1.3460522e-10,  0.0000000e+00, ...,\n",
       "         0.0000000e+00,  2.3254254e-03,  4.4172979e-05],\n",
       "       [ 0.0000000e+00,  1.3460522e-10,  0.0000000e+00, ...,\n",
       "         0.0000000e+00, -1.7229468e-08,  7.9457853e-03],\n",
       "       [ 0.0000000e+00,  1.3460522e-10,  0.0000000e+00, ...,\n",
       "         0.0000000e+00,  5.9161768e-03, -2.7939677e-09]], dtype=float32)"
      ]
     },
     "execution_count": 17,
     "metadata": {},
     "output_type": "execute_result"
    }
   ],
   "source": [
    "kmeans.cluster_centers_"
   ]
  },
  {
   "cell_type": "code",
   "execution_count": 18,
   "metadata": {},
   "outputs": [
    {
     "data": {
      "text/plain": [
       "array([5, 5, 4, ..., 2, 6, 6], dtype=int32)"
      ]
     },
     "execution_count": 18,
     "metadata": {},
     "output_type": "execute_result"
    }
   ],
   "source": [
    "y_kmeans"
   ]
  },
  {
   "cell_type": "code",
   "execution_count": 19,
   "metadata": {},
   "outputs": [],
   "source": [
    "# find the cluster to which patient Z belongs \n",
    "p_z_cluster = kmeans.predict(p_z.reshape(1,-1))"
   ]
  },
  {
   "cell_type": "code",
   "execution_count": 20,
   "metadata": {},
   "outputs": [
    {
     "data": {
      "text/plain": [
       "array([2], dtype=int32)"
      ]
     },
     "execution_count": 20,
     "metadata": {},
     "output_type": "execute_result"
    }
   ],
   "source": [
    "p_z_cluster"
   ]
  },
  {
   "cell_type": "code",
   "execution_count": 21,
   "metadata": {},
   "outputs": [
    {
     "name": "stdout",
     "output_type": "stream",
     "text": [
      "Counter({0: 2715, 5: 2496, 2: 2422, 3: 2412, 4: 2384, 6: 2344, 1: 2157})\n"
     ]
    }
   ],
   "source": [
    "# find the number of patients of each cluster \n",
    "from collections import Counter\n",
    "print(Counter(kmeans.labels_))"
   ]
  },
  {
   "cell_type": "markdown",
   "metadata": {},
   "source": [
    "# PCA"
   ]
  },
  {
   "cell_type": "code",
   "execution_count": 22,
   "metadata": {},
   "outputs": [
    {
     "data": {
      "text/plain": [
       "array([0.21908994, 0.40710294, 0.5581414 ], dtype=float32)"
      ]
     },
     "execution_count": 22,
     "metadata": {},
     "output_type": "execute_result"
    }
   ],
   "source": [
    "from sklearn.decomposition import PCA\n",
    "pca = PCA()\n",
    "pca.fit(p_others)\n",
    "\n",
    "# find cumsum of pca explained variance ratio\n",
    "cumsum = np.cumsum(pca.explained_variance_ratio_)\n",
    "cumsum[:3]"
   ]
  },
  {
   "cell_type": "code",
   "execution_count": 30,
   "metadata": {},
   "outputs": [
    {
     "data": {
      "text/plain": [
       "41"
      ]
     },
     "execution_count": 30,
     "metadata": {},
     "output_type": "execute_result"
    }
   ],
   "source": [
    "d = np.argmax(cumsum >= 0.95) + 1\n",
    "d"
   ]
  },
  {
   "cell_type": "code",
   "execution_count": 33,
   "metadata": {},
   "outputs": [
    {
     "data": {
      "image/png": "[encoded data removed]",
      "text/plain": [
       "<Figure size 432x288 with 1 Axes>"
      ]
     },
     "metadata": {
      "needs_background": "light"
     },
     "output_type": "display_data"
    }
   ],
   "source": [
    "#The following code constructs the Scree plot\n",
    "per_var = np.round(pca.explained_variance_ratio_* 100, decimals=1)\n",
    "labels = ['PC' + str(x) for x in range(1, len(per_var)+1)]\n",
    " \n",
    "plt.bar(x=range(1,len(per_var)+1), height=per_var, tick_label=labels)\n",
    "plt.ylabel('Percentage of Explained Variance')\n",
    "plt.xlabel('Principal Component')\n",
    "plt.title('Scree Plot')\n",
    "# save figure\n",
    "plt.savefig('Scree Plot')"
   ]
  },
  {
   "cell_type": "code",
   "execution_count": 23,
   "metadata": {},
   "outputs": [],
   "source": [
    "# plot dataset to 2-d\n",
    "pca_2 = PCA(n_components = 2)\n",
    "\n",
    "# using pca to transform original data set, cluster centers, and patient z\n",
    "pca_2_data = pca_2.fit_transform(p_others)\n",
    "pca_cluster_center = pca_2.fit_transform(kmeans.cluster_centers_)\n",
    "pca_patient_z = pca_2.transform(p_z.reshape(1,-1))"
   ]
  },
  {
   "cell_type": "code",
   "execution_count": 24,
   "metadata": {},
   "outputs": [
    {
     "data": {
      "text/plain": [
       "array([[ 1.0881922, -3.7909663]], dtype=float32)"
      ]
     },
     "execution_count": 24,
     "metadata": {},
     "output_type": "execute_result"
    }
   ],
   "source": [
    "pca_cluster_center[p_z_cluster] # find the center of cluster to which patient z belongs"
   ]
  },
  {
   "cell_type": "code",
   "execution_count": 25,
   "metadata": {},
   "outputs": [
    {
     "data": {
      "text/plain": [
       "array([[ -7.240641 ,  -8.413081 ],\n",
       "       [ 21.629122 ,  18.780424 ],\n",
       "       [  1.0881922,  -3.7909663],\n",
       "       [ -9.895903 ,  19.736593 ],\n",
       "       [ -7.1289644, -16.994896 ],\n",
       "       [ 21.355349 , -13.930249 ],\n",
       "       [-19.807154 ,   4.612189 ]], dtype=float32)"
      ]
     },
     "execution_count": 25,
     "metadata": {},
     "output_type": "execute_result"
    }
   ],
   "source": [
    "pca_cluster_center # find the center of each cluster"
   ]
  },
  {
   "cell_type": "code",
   "execution_count": 26,
   "metadata": {},
   "outputs": [
    {
     "data": {
      "image/png": "[encoded data removed]",
      "text/plain": [
       "<Figure size 432x288 with 1 Axes>"
      ]
     },
     "metadata": {
      "needs_background": "light"
     },
     "output_type": "display_data"
    }
   ],
   "source": [
    "import matplotlib.pyplot as plt\n",
    "\n",
    "fig = plt.figure()\n",
    "\n",
    "X = pca_2_data\n",
    "centers = pca_cluster_center \n",
    "\n",
    "p_z_X = pca_patient_z\n",
    "\n",
    "# plot original data set\n",
    "plt.scatter(X[:, 0], X[:, 1], c=y_kmeans, s=50, cmap='viridis')\n",
    "\n",
    "# plot cluster centers\n",
    "plt.scatter(centers[:, 0], centers[:, 1], c='black', s=200, alpha=0.5)\n",
    "\n",
    "# plot where patient Z belong (red point)\n",
    "plt.scatter(p_z_X[:, 0], p_z_X[:, 1], c='red')\n",
    "\n",
    "# save figure\n",
    "plt.savefig('2-d pca plot')"
   ]
  },
  {
   "cell_type": "markdown",
   "metadata": {},
   "source": [
    "# Create output csv file"
   ]
  },
  {
   "cell_type": "code",
   "execution_count": 20,
   "metadata": {},
   "outputs": [],
   "source": [
    "import csv\n",
    "with open('output.csv', 'w', newline='') as file:\n",
    "    writer = csv.writer(file)\n",
    "    writer.writerow([\"Id\", \"Predicted\"])\n",
    "    \n",
    "    i = 0\n",
    "    for ele in y_kmeans:\n",
    "        if ele == p_z_cluster:\n",
    "            writer.writerow([i, 1])\n",
    "        else:\n",
    "            writer.writerow([i, 0])\n",
    "        i += 1"
   ]
  }
 ],
 "metadata": {
  "kernelspec": {
   "display_name": "Python 3 (ipykernel)",
   "language": "python",
   "name": "python3"
  },
  "language_info": {
   "codemirror_mode": {
    "name": "ipython",
    "version": 3
   },
   "file_extension": ".py",
   "mimetype": "text/x-python",
   "name": "python",
   "nbconvert_exporter": "python",
   "pygments_lexer": "ipython3",
   "version": "3.9.6"
  }
 },
 "nbformat": 4,
 "nbformat_minor": 4
}
