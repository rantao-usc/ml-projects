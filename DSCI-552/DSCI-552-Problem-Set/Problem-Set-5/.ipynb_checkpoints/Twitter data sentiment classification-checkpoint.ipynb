{
 "cells": [
  {
   "cell_type": "markdown",
   "metadata": {},
   "source": [
    "# Load dataset"
   ]
  },
  {
   "cell_type": "code",
   "execution_count": 1,
   "metadata": {},
   "outputs": [],
   "source": [
    "import pandas as pd\n",
    "df_text = pd.read_csv('datasets/ps5_tweets_text.csv', index_col=0)\n",
    "df_label = pd.read_csv('datasets/ps5_tweets_labels_as_numbers.csv', index_col=0)"
   ]
  },
  {
   "cell_type": "code",
   "execution_count": 2,
   "metadata": {},
   "outputs": [
    {
     "data": {
      "text/html": [
       "<div>\n",
       "<style scoped>\n",
       "    .dataframe tbody tr th:only-of-type {\n",
       "        vertical-align: middle;\n",
       "    }\n",
       "\n",
       "    .dataframe tbody tr th {\n",
       "        vertical-align: top;\n",
       "    }\n",
       "\n",
       "    .dataframe thead th {\n",
       "        text-align: right;\n",
       "    }\n",
       "</style>\n",
       "<table border=\"1\" class=\"dataframe\">\n",
       "  <thead>\n",
       "    <tr style=\"text-align: right;\">\n",
       "      <th></th>\n",
       "      <th>Tweet</th>\n",
       "    </tr>\n",
       "    <tr>\n",
       "      <th>Id</th>\n",
       "      <th></th>\n",
       "    </tr>\n",
       "  </thead>\n",
       "  <tbody>\n",
       "    <tr>\n",
       "      <th>0</th>\n",
       "      <td>https://t.co/UpjxfOgQs8\\r\\r\\n\\r\\r\\nGaisss! Ple...</td>\n",
       "    </tr>\n",
       "    <tr>\n",
       "      <th>1</th>\n",
       "      <td>@mygovindia Today just after a week of lockdow...</td>\n",
       "    </tr>\n",
       "    <tr>\n",
       "      <th>2</th>\n",
       "      <td>Tuskys partners with Amref to provide on groun...</td>\n",
       "    </tr>\n",
       "    <tr>\n",
       "      <th>3</th>\n",
       "      <td>@chrissyteigen are u doing ur own grocery shop...</td>\n",
       "    </tr>\n",
       "    <tr>\n",
       "      <th>4</th>\n",
       "      <td>UK Critical Care Nurse Cries at Empty SuperMar...</td>\n",
       "    </tr>\n",
       "  </tbody>\n",
       "</table>\n",
       "</div>"
      ],
      "text/plain": [
       "                                                Tweet\n",
       "Id                                                   \n",
       "0   https://t.co/UpjxfOgQs8\\r\\r\\n\\r\\r\\nGaisss! Ple...\n",
       "1   @mygovindia Today just after a week of lockdow...\n",
       "2   Tuskys partners with Amref to provide on groun...\n",
       "3   @chrissyteigen are u doing ur own grocery shop...\n",
       "4   UK Critical Care Nurse Cries at Empty SuperMar..."
      ]
     },
     "execution_count": 2,
     "metadata": {},
     "output_type": "execute_result"
    }
   ],
   "source": [
    "df_text.head()"
   ]
  },
  {
   "cell_type": "code",
   "execution_count": 3,
   "metadata": {},
   "outputs": [
    {
     "data": {
      "text/plain": [
       "'https://t.co/UpjxfOgQs8\\r\\r\\n\\r\\r\\nGaisss! Please read this,and please limit yourself to go outside and please,please..always wash your hands,always use the hand sanitizer. \\r\\r\\n\\r\\r\\nAnd please get ready to stock up the food.'"
      ]
     },
     "execution_count": 3,
     "metadata": {},
     "output_type": "execute_result"
    }
   ],
   "source": [
    "df_text['Tweet'][0]"
   ]
  },
  {
   "cell_type": "code",
   "execution_count": 4,
   "metadata": {},
   "outputs": [],
   "source": [
    "# Cleaning df_text dataset\n",
    "import re\n",
    "clean_tweets = []\n",
    "for tweet in df_text['Tweet']:\n",
    "    tweet = re.sub(\"@[A-Za-z0-9]+\",\"\",tweet) #Remove @ sign\n",
    "#     tweet = re.sub('&lt;/?[a-z]+&gt;', '', tweet) \n",
    "    tweet = re.sub('&amp;', 'and', tweet) # Replace &amp; with and\n",
    "    tweet = re.sub(r\"(?:\\@|http?\\://|https?\\://|www)\\S+\", \"\", tweet) #Remove http links\n",
    "    tweet = \" \".join(tweet.split())\n",
    "#     tweet = re.sub(\"!@#$%^&*()[]{};:,./<>?\\|`~-=_+\", \"\", tweet)\n",
    "    tweet = re.sub(\"/t\", \"\", tweet)\n",
    "    tweet = re.sub(\"-\", \"\", tweet)\n",
    "    tweet = re.sub(\":\", \"\", tweet)\n",
    "    tweet = re.sub(\"!\", \"\", tweet)\n",
    "    tweet = re.sub(\"[0-9]\", \"\", tweet)\n",
    "#     tweet = tweet.replace(\"*\", \"\")\n",
    "    tweet = re.sub(\"[A-Za-z0-9]+\\*+[A-Za-z0-9]+\", \"\", tweet) # Delete words like F**k\n",
    "    tweet = tweet.replace(\"(\", \"\")\n",
    "    tweet = tweet.replace(\")\", \"\")\n",
    "    tweet = tweet.replace(\".\", \"\")\n",
    "    tweet = tweet.replace(\"?\", \"\")\n",
    "    tweet = tweet.replace(\"  \", \" \")\n",
    "    tweet = tweet.replace(\",\", \"\")\n",
    "    tweet = tweet.replace(\"#\", \"\").replace(\"_\", \" \") #Remove hashtag sign but keep the text\n",
    "    ##Here's where all the cleaning takes place\n",
    "    clean_tweets.append(tweet)\n",
    "    \n",
    "df_text['Tweet'] = clean_tweets"
   ]
  },
  {
   "cell_type": "code",
   "execution_count": 5,
   "metadata": {},
   "outputs": [
    {
     "data": {
      "text/plain": [
       "\"Makes my heart ache its the elderly that won't make it through the disease either and people want yo starve them too and force them out every day to expose themselves more and more because they can't bulk buy selfish stopthepeak stayhome\""
      ]
     },
     "execution_count": 5,
     "metadata": {},
     "output_type": "execute_result"
    }
   ],
   "source": [
    "clean_tweets[5]"
   ]
  },
  {
   "cell_type": "code",
   "execution_count": 6,
   "metadata": {},
   "outputs": [
    {
     "data": {
      "text/plain": [
       "'Today just after a week of lockdown lot of confectionary stores are running out of stock how will be the seen if lockdown increased because of COVID community spread specially in B and C class city Emergency Supply chain need to be pla'"
      ]
     },
     "execution_count": 6,
     "metadata": {},
     "output_type": "execute_result"
    }
   ],
   "source": [
    "df_text['Tweet'][1]"
   ]
  },
  {
   "cell_type": "code",
   "execution_count": 7,
   "metadata": {},
   "outputs": [
    {
     "data": {
      "text/html": [
       "<div>\n",
       "<style scoped>\n",
       "    .dataframe tbody tr th:only-of-type {\n",
       "        vertical-align: middle;\n",
       "    }\n",
       "\n",
       "    .dataframe tbody tr th {\n",
       "        vertical-align: top;\n",
       "    }\n",
       "\n",
       "    .dataframe thead th {\n",
       "        text-align: right;\n",
       "    }\n",
       "</style>\n",
       "<table border=\"1\" class=\"dataframe\">\n",
       "  <thead>\n",
       "    <tr style=\"text-align: right;\">\n",
       "      <th></th>\n",
       "      <th>Label</th>\n",
       "    </tr>\n",
       "    <tr>\n",
       "      <th>Id</th>\n",
       "      <th></th>\n",
       "    </tr>\n",
       "  </thead>\n",
       "  <tbody>\n",
       "    <tr>\n",
       "      <th>0</th>\n",
       "      <td>4</td>\n",
       "    </tr>\n",
       "    <tr>\n",
       "      <th>1</th>\n",
       "      <td>1</td>\n",
       "    </tr>\n",
       "    <tr>\n",
       "      <th>2</th>\n",
       "      <td>2</td>\n",
       "    </tr>\n",
       "    <tr>\n",
       "      <th>3</th>\n",
       "      <td>1</td>\n",
       "    </tr>\n",
       "    <tr>\n",
       "      <th>4</th>\n",
       "      <td>0</td>\n",
       "    </tr>\n",
       "  </tbody>\n",
       "</table>\n",
       "</div>"
      ],
      "text/plain": [
       "    Label\n",
       "Id       \n",
       "0       4\n",
       "1       1\n",
       "2       2\n",
       "3       1\n",
       "4       0"
      ]
     },
     "execution_count": 7,
     "metadata": {},
     "output_type": "execute_result"
    }
   ],
   "source": [
    "df_label.head()"
   ]
  },
  {
   "cell_type": "code",
   "execution_count": 8,
   "metadata": {},
   "outputs": [],
   "source": [
    "# Check whether this dataset has missing data "
   ]
  },
  {
   "cell_type": "code",
   "execution_count": 9,
   "metadata": {},
   "outputs": [
    {
     "data": {
      "text/plain": [
       "(37041, 1)"
      ]
     },
     "execution_count": 9,
     "metadata": {},
     "output_type": "execute_result"
    }
   ],
   "source": [
    "df_text.shape"
   ]
  },
  {
   "cell_type": "code",
   "execution_count": 10,
   "metadata": {},
   "outputs": [
    {
     "name": "stdout",
     "output_type": "stream",
     "text": [
      "<class 'pandas.core.frame.DataFrame'>\n",
      "Int64Index: 37041 entries, 0 to 37040\n",
      "Data columns (total 1 columns):\n",
      " #   Column  Non-Null Count  Dtype \n",
      "---  ------  --------------  ----- \n",
      " 0   Tweet   37041 non-null  object\n",
      "dtypes: object(1)\n",
      "memory usage: 1.8+ MB\n"
     ]
    }
   ],
   "source": [
    "df_text.info()"
   ]
  },
  {
   "cell_type": "code",
   "execution_count": 11,
   "metadata": {},
   "outputs": [
    {
     "data": {
      "text/plain": [
       "array([4, 1, 2, 0, 3])"
      ]
     },
     "execution_count": 11,
     "metadata": {},
     "output_type": "execute_result"
    }
   ],
   "source": [
    "df_label['Label'].unique()"
   ]
  },
  {
   "cell_type": "code",
   "execution_count": 17,
   "metadata": {},
   "outputs": [],
   "source": [
    "# Do not have missing data"
   ]
  },
  {
   "cell_type": "markdown",
   "metadata": {},
   "source": [
    "# Naive Bayes"
   ]
  },
  {
   "cell_type": "code",
   "execution_count": 12,
   "metadata": {},
   "outputs": [
    {
     "name": "stderr",
     "output_type": "stream",
     "text": [
      "[nltk_data] Downloading package punkt to /Users/taoran/nltk_data...\n",
      "[nltk_data]   Package punkt is already up-to-date!\n"
     ]
    },
    {
     "data": {
      "text/plain": [
       "True"
      ]
     },
     "execution_count": 12,
     "metadata": {},
     "output_type": "execute_result"
    }
   ],
   "source": [
    "import ssl\n",
    "ssl._create_default_https_context = ssl._create_unverified_context\n",
    "import nltk\n",
    "nltk.download('punkt')"
   ]
  },
  {
   "cell_type": "code",
   "execution_count": 13,
   "metadata": {},
   "outputs": [
    {
     "data": {
      "text/plain": [
       "'Gaisss Please read thisand please limit yourself to go outside and pleasepleasealways wash your handsalways use the hand sanitizer And please get ready to stock up the food'"
      ]
     },
     "execution_count": 13,
     "metadata": {},
     "output_type": "execute_result"
    }
   ],
   "source": [
    "df_text[\"Tweet\"][0]"
   ]
  },
  {
   "cell_type": "code",
   "execution_count": 14,
   "metadata": {},
   "outputs": [],
   "source": [
    "from sklearn.feature_extraction.text import CountVectorizer\n",
    "from nltk.tokenize import RegexpTokenizer\n",
    "#tokenizer to remove unwanted elements from out data like symbols and numbers\n",
    "token = RegexpTokenizer(r'[a-zA-Z0-9]+')\n",
    "cv = CountVectorizer(lowercase=True,stop_words='english',ngram_range = (1,1),tokenizer = token.tokenize)\n",
    "text_counts= cv.fit_transform(df_text[\"Tweet\"])"
   ]
  },
  {
   "cell_type": "code",
   "execution_count": 15,
   "metadata": {},
   "outputs": [],
   "source": [
    "from sklearn.model_selection import train_test_split\n",
    "X_train, X_test, y_train, y_test = train_test_split(\n",
    "    text_counts, df_label['Label'], test_size=0.3, random_state=1)"
   ]
  },
  {
   "cell_type": "code",
   "execution_count": 16,
   "metadata": {},
   "outputs": [],
   "source": [
    "from sklearn.naive_bayes import MultinomialNB\n",
    "#Import scikit-learn metrics module for accuracy calculation\n",
    "from sklearn import metrics\n",
    "# Model Generation Using Multinomial Naive Bayes\n",
    "clf = MultinomialNB().fit(X_train, y_train)\n",
    "predicted= clf.predict(X_test)"
   ]
  },
  {
   "cell_type": "code",
   "execution_count": 17,
   "metadata": {},
   "outputs": [],
   "source": [
    "# Define a new evalation function\n",
    "def log_eva(X, y, M):\n",
    "    \"\"\"M means the model used\"\"\"\n",
    "    from sklearn.metrics import confusion_matrix, precision_score, recall_score, f1_score\n",
    "    \n",
    "    pred_y = M.predict(X)\n",
    "    \n",
    "#     # Calculate accuracy\n",
    "#     print('Accuracy of logistic regression classifier on test set: {:.2f}'.format(M.score(X, y)))\n",
    "    \n",
    "    # Calculate confusion matrix\n",
    "    c_mat = confusion_matrix(y, pred_y)\n",
    "    print('Confusion matrix is')\n",
    "    print(c_mat)\n",
    "    \n",
    "    # Compute precision score\n",
    "    print(\"Precision score is:{}\".format(precision_score(y, pred_y, average='micro')))\n",
    "    \n",
    "    # Compute recall score\n",
    "    print(\"Recall score is:{}\".format(recall_score(y, pred_y, average='micro')))\n",
    "    \n",
    "    # Compute f1 score\n",
    "    print(\"F1 score is:{}\".format(f1_score(y, pred_y, average='micro')))"
   ]
  },
  {
   "cell_type": "code",
   "execution_count": 17,
   "metadata": {},
   "outputs": [
    {
     "data": {
      "text/plain": [
       "<sklearn.metrics._plot.confusion_matrix.ConfusionMatrixDisplay at 0x7fc1f9b70d30>"
      ]
     },
     "execution_count": 17,
     "metadata": {},
     "output_type": "execute_result"
    },
    {
     "data": {
      "image/png": "[encoded data removed]",
      "text/plain": [
       "<Figure size 432x288 with 2 Axes>"
      ]
     },
     "metadata": {
      "needs_background": "light"
     },
     "output_type": "display_data"
    }
   ],
   "source": [
    "from sklearn.metrics import plot_confusion_matrix\n",
    "# import matplotlib.pyplot as plt\n",
    "plot_confusion_matrix(clf, X_test, y_test)"
   ]
  },
  {
   "cell_type": "code",
   "execution_count": 18,
   "metadata": {},
   "outputs": [
    {
     "name": "stdout",
     "output_type": "stream",
     "text": [
      "Confusion matrix is\n",
      "[[ 481  783   24  210   20]\n",
      " [ 223 1355  110  912   98]\n",
      " [  34  434  693  823   84]\n",
      " [  49  582  158 1912  401]\n",
      " [   7  131   19  878  692]]\n",
      "Precision score is:0.46189147844866374\n",
      "Recall score is:0.46189147844866374\n",
      "F1 score is:0.46189147844866374\n"
     ]
    }
   ],
   "source": [
    "log_eva(X_test, y_test, clf)"
   ]
  },
  {
   "cell_type": "markdown",
   "metadata": {},
   "source": [
    "# A simple neural network"
   ]
  },
  {
   "cell_type": "code",
   "execution_count": 11,
   "metadata": {},
   "outputs": [],
   "source": [
    "from sklearn.preprocessing import LabelEncoder\n",
    "# encode class values as integers\n",
    "encoder = LabelEncoder()\n",
    "Y = df_label['Label'].tolist()\n",
    "encoder.fit(Y)\n",
    "encoded_Y = encoder.transform(Y)\n",
    "# convert integers to dummy variables (i.e. one hot encoded)\n",
    "from keras.utils import np_utils\n",
    "dummy_y = np_utils.to_categorical(encoded_Y)"
   ]
  },
  {
   "cell_type": "code",
   "execution_count": 13,
   "metadata": {},
   "outputs": [
    {
     "data": {
      "text/plain": [
       "array([[0., 0., 0., 0., 1.],\n",
       "       [0., 1., 0., 0., 0.],\n",
       "       [0., 0., 1., 0., 0.],\n",
       "       ...,\n",
       "       [1., 0., 0., 0., 0.],\n",
       "       [0., 0., 1., 0., 0.],\n",
       "       [1., 0., 0., 0., 0.]], dtype=float32)"
      ]
     },
     "execution_count": 13,
     "metadata": {},
     "output_type": "execute_result"
    }
   ],
   "source": [
    "dummy_y"
   ]
  },
  {
   "cell_type": "code",
   "execution_count": 14,
   "metadata": {},
   "outputs": [],
   "source": [
    "vocab_size = 10000\n",
    "embedding_dim = 16\n",
    "max_length = 100\n",
    "trunc_type='post'\n",
    "padding_type='post'\n",
    "oov_tok = \"<OOV>\"\n",
    "training_size = 20000"
   ]
  },
  {
   "cell_type": "code",
   "execution_count": 16,
   "metadata": {},
   "outputs": [],
   "source": [
    "from sklearn.model_selection import train_test_split\n",
    "training_sentences, testing_sentences, training_labels, testing_labels = train_test_split(\n",
    "    df_text['Tweet'], dummy_y, test_size=0.3, random_state=1)"
   ]
  },
  {
   "cell_type": "code",
   "execution_count": 17,
   "metadata": {},
   "outputs": [],
   "source": [
    "from tensorflow.keras.preprocessing.text import Tokenizer\n",
    "from tensorflow.keras.preprocessing.sequence import pad_sequences\n",
    "\n",
    "tokenizer = Tokenizer(num_words=vocab_size, oov_token=oov_tok)\n",
    "# This tokenizer can only fit on training dataset, otherwise, it will leak the information of the testing dataset\n",
    "tokenizer.fit_on_texts(training_sentences)\n",
    "\n",
    "word_index = tokenizer.word_index\n",
    "\n",
    "# This could be done on both training and testing dataset\n",
    "training_sequences = tokenizer.texts_to_sequences(training_sentences)\n",
    "training_padded = pad_sequences(training_sequences, maxlen=max_length, padding=padding_type, truncating=trunc_type)\n",
    "\n",
    "testing_sequences = tokenizer.texts_to_sequences(testing_sentences)\n",
    "testing_padded = pad_sequences(testing_sequences, maxlen=max_length, padding=padding_type, truncating=trunc_type)"
   ]
  },
  {
   "cell_type": "code",
   "execution_count": 18,
   "metadata": {},
   "outputs": [],
   "source": [
    "# Need this block to get it to work with TensorFlow 2.x\n",
    "import numpy as np\n",
    "training_padded = np.array(training_padded)\n",
    "training_labels = np.array(training_labels)\n",
    "testing_padded = np.array(testing_padded)\n",
    "testing_labels = np.array(testing_labels)"
   ]
  },
  {
   "cell_type": "code",
   "execution_count": 24,
   "metadata": {},
   "outputs": [],
   "source": [
    "import tensorflow as tf\n",
    "model = tf.keras.Sequential([\n",
    "    tf.keras.layers.Embedding(vocab_size, embedding_dim, input_length=max_length),\n",
    "    tf.keras.layers.GlobalAveragePooling1D(),\n",
    "    tf.keras.layers.Dense(32, activation='relu'),\n",
    "    tf.keras.layers.Dense(5, activation='softmax')\n",
    "])\n",
    "model.compile(loss='categorical_crossentropy',optimizer='adam',metrics=['accuracy'])"
   ]
  },
  {
   "cell_type": "code",
   "execution_count": 25,
   "metadata": {},
   "outputs": [],
   "source": [
    "callback = tf.keras.callbacks.EarlyStopping(monitor='val_accuracy', patience=5)"
   ]
  },
  {
   "cell_type": "code",
   "execution_count": 26,
   "metadata": {},
   "outputs": [
    {
     "name": "stdout",
     "output_type": "stream",
     "text": [
      "Epoch 1/30\n",
      "568/568 - 2s - loss: 1.5554 - accuracy: 0.2837 - val_loss: 1.5068 - val_accuracy: 0.3207\n",
      "Epoch 2/30\n",
      "568/568 - 2s - loss: 1.4630 - accuracy: 0.3371 - val_loss: 1.4284 - val_accuracy: 0.3656\n",
      "Epoch 3/30\n",
      "568/568 - 1s - loss: 1.3349 - accuracy: 0.4417 - val_loss: 1.2957 - val_accuracy: 0.4675\n",
      "Epoch 4/30\n",
      "568/568 - 2s - loss: 1.1444 - accuracy: 0.5448 - val_loss: 1.1675 - val_accuracy: 0.5142\n",
      "Epoch 5/30\n",
      "568/568 - 1s - loss: 0.9883 - accuracy: 0.6167 - val_loss: 1.0924 - val_accuracy: 0.5550\n",
      "Epoch 6/30\n",
      "568/568 - 2s - loss: 0.8675 - accuracy: 0.6761 - val_loss: 1.0379 - val_accuracy: 0.5862\n",
      "Epoch 7/30\n",
      "568/568 - 1s - loss: 0.7728 - accuracy: 0.7193 - val_loss: 1.0053 - val_accuracy: 0.6033\n",
      "Epoch 8/30\n",
      "568/568 - 1s - loss: 0.6949 - accuracy: 0.7557 - val_loss: 0.9897 - val_accuracy: 0.6089\n",
      "Epoch 9/30\n",
      "568/568 - 1s - loss: 0.6310 - accuracy: 0.7829 - val_loss: 0.9935 - val_accuracy: 0.6155\n",
      "Epoch 10/30\n",
      "568/568 - 1s - loss: 0.5755 - accuracy: 0.8051 - val_loss: 0.9938 - val_accuracy: 0.6192\n",
      "Epoch 11/30\n",
      "568/568 - 1s - loss: 0.5262 - accuracy: 0.8246 - val_loss: 1.0235 - val_accuracy: 0.6160\n",
      "Epoch 12/30\n",
      "568/568 - 1s - loss: 0.4827 - accuracy: 0.8455 - val_loss: 1.0227 - val_accuracy: 0.6236\n",
      "Epoch 13/30\n",
      "568/568 - 1s - loss: 0.4435 - accuracy: 0.8624 - val_loss: 1.0564 - val_accuracy: 0.6260\n",
      "Epoch 14/30\n",
      "568/568 - 1s - loss: 0.4064 - accuracy: 0.8789 - val_loss: 1.0687 - val_accuracy: 0.6295\n",
      "Epoch 15/30\n",
      "568/568 - 1s - loss: 0.3734 - accuracy: 0.8908 - val_loss: 1.1172 - val_accuracy: 0.6271\n",
      "Epoch 16/30\n",
      "568/568 - 1s - loss: 0.3433 - accuracy: 0.9008 - val_loss: 1.1480 - val_accuracy: 0.6224\n",
      "Epoch 17/30\n",
      "568/568 - 1s - loss: 0.3162 - accuracy: 0.9110 - val_loss: 1.1727 - val_accuracy: 0.6287\n",
      "Epoch 18/30\n",
      "568/568 - 1s - loss: 0.2901 - accuracy: 0.9213 - val_loss: 1.2176 - val_accuracy: 0.6263\n",
      "Epoch 19/30\n",
      "568/568 - 1s - loss: 0.2655 - accuracy: 0.9290 - val_loss: 1.2809 - val_accuracy: 0.6235\n"
     ]
    }
   ],
   "source": [
    "num_epochs = 30\n",
    "history = model.fit(training_padded, training_labels, epochs=num_epochs, validation_split=0.3, verbose=2, callbacks=[callback])"
   ]
  },
  {
   "cell_type": "code",
   "execution_count": 27,
   "metadata": {},
   "outputs": [
    {
     "data": {
      "image/png": "[encoded data removed]",
      "text/plain": [
       "<Figure size 432x288 with 1 Axes>"
      ]
     },
     "metadata": {
      "needs_background": "light"
     },
     "output_type": "display_data"
    },
    {
     "data": {
      "image/png": "[encoded data removed]",
      "text/plain": [
       "<Figure size 432x288 with 1 Axes>"
      ]
     },
     "metadata": {
      "needs_background": "light"
     },
     "output_type": "display_data"
    }
   ],
   "source": [
    "import matplotlib.pyplot as plt\n",
    "\n",
    "\n",
    "def plot_graphs(history, string):\n",
    "    plt.plot(history.history[string])\n",
    "    plt.plot(history.history['val_'+string])\n",
    "    plt.xlabel(\"Epochs\")\n",
    "    plt.ylabel(string)\n",
    "    plt.legend([string, 'val_'+string])\n",
    "    plt.show()\n",
    "\n",
    "plot_graphs(history, \"accuracy\")\n",
    "plot_graphs(history, \"loss\")"
   ]
  },
  {
   "cell_type": "code",
   "execution_count": 91,
   "metadata": {},
   "outputs": [],
   "source": [
    "# Define a new evalation function\n",
    "def log_eva(X, y, M):\n",
    "    \"\"\"M means the model used\"\"\"\n",
    "    from sklearn.metrics import confusion_matrix, precision_score, recall_score, f1_score, classification_report\n",
    "    \n",
    "    \n",
    "    pred_y = M.predict(X)\n",
    "    pred_y = np.argmax(pred_y, axis=1)\n",
    "    y = np.argmax(y, axis=1)\n",
    "    # Calculate accuracy\n",
    "#     print('Accuracy of the classifier on test set: {:.2f}'.format(M.accuracy_score(y, pred_y)))\n",
    "    \n",
    "    # Calculate confusion matrix\n",
    "    c_mat = confusion_matrix(y, pred_y)\n",
    "    print('Confusion matrix is')\n",
    "    print(c_mat)\n",
    "    \n",
    "    # Compute precision score\n",
    "    print(\"Micro Precision score is:{}\".format(precision_score(y, pred_y, average='micro')))\n",
    "    \n",
    "    # Compute recall score\n",
    "    print(\"Micro Recall score is:{}\".format(recall_score(y, pred_y, average='micro')))\n",
    "    \n",
    "    # Compute f1 score\n",
    "    print(\"Micro F1 score is:{}\".format(f1_score(y, pred_y, average='micro')))"
   ]
  },
  {
   "cell_type": "code",
   "execution_count": 92,
   "metadata": {},
   "outputs": [
    {
     "name": "stdout",
     "output_type": "stream",
     "text": [
      "Confusion matrix is\n",
      "[[ 882  541   34   40   21]\n",
      " [ 222 1798  285  355   38]\n",
      " [  13  395 1297  344   19]\n",
      " [  42  500  283 1982  295]\n",
      " [   3   32   24  600 1068]]\n",
      "Micro Precision score is:0.6323225051741204\n",
      "Micro Recall score is:0.6323225051741204\n",
      "Micro F1 score is:0.6323225051741204\n"
     ]
    }
   ],
   "source": [
    "log_eva(testing_padded, testing_labels, model)"
   ]
  },
  {
   "cell_type": "markdown",
   "metadata": {},
   "source": [
    "# Kaggle"
   ]
  },
  {
   "cell_type": "code",
   "execution_count": 79,
   "metadata": {},
   "outputs": [],
   "source": [
    "# load dataset\n",
    "df_kaggle = pd.read_csv('datasets/ps5_tweets_text_for_the_kaggle_competition.csv')"
   ]
  },
  {
   "cell_type": "code",
   "execution_count": 82,
   "metadata": {},
   "outputs": [],
   "source": [
    "# Cleaning df_kaggle dataset\n",
    "import re\n",
    "clean_tweets = []\n",
    "for tweet in df_kaggle['Tweet']:\n",
    "    tweet = re.sub(\"@[A-Za-z0-9]+\",\"\",tweet) #Remove @ sign\n",
    "#     tweet = re.sub('&lt;/?[a-z]+&gt;', '', tweet) \n",
    "    tweet = re.sub('&amp;', 'and', tweet) # Replace &amp; with and\n",
    "    tweet = re.sub(r\"(?:\\@|http?\\://|https?\\://|www)\\S+\", \"\", tweet) #Remove http links\n",
    "    tweet = \" \".join(tweet.split())\n",
    "#     tweet = re.sub(\"!@#$%^&*()[]{};:,./<>?\\|`~-=_+\", \"\", tweet)\n",
    "    tweet = re.sub(\"/t\", \"\", tweet)\n",
    "    tweet = re.sub(\"-\", \"\", tweet)\n",
    "    tweet = re.sub(\":\", \"\", tweet)\n",
    "    tweet = re.sub(\"!\", \"\", tweet)\n",
    "    tweet = re.sub(\"[0-9]\", \"\", tweet)\n",
    "#     tweet = tweet.replace(\"*\", \"\")\n",
    "    tweet = re.sub(\"[A-Za-z0-9]+\\*+[A-Za-z0-9]+\", \"\", tweet) # Delete words like F**k\n",
    "    tweet = tweet.replace(\"(\", \"\")\n",
    "    tweet = tweet.replace(\")\", \"\")\n",
    "    tweet = tweet.replace(\".\", \"\")\n",
    "    tweet = tweet.replace(\"?\", \"\")\n",
    "    tweet = tweet.replace(\"  \", \" \")\n",
    "    tweet = tweet.replace(\",\", \"\")\n",
    "    tweet = tweet.replace(\"#\", \"\").replace(\"_\", \" \") #Remove hashtag sign but keep the text\n",
    "    ##Here's where all the cleaning takes place\n",
    "    clean_tweets.append(tweet)"
   ]
  },
  {
   "cell_type": "code",
   "execution_count": 83,
   "metadata": {},
   "outputs": [
    {
     "data": {
      "text/plain": [
       "array([1, 4, 4, ..., 2, 0, 4])"
      ]
     },
     "execution_count": 83,
     "metadata": {},
     "output_type": "execute_result"
    }
   ],
   "source": [
    "sequences = tokenizer.texts_to_sequences(clean_tweets)\n",
    "padded = pad_sequences(sequences, maxlen=max_length, padding=padding_type, truncating=trunc_type)\n",
    "predict = model.predict(padded)\n",
    "predict = np.argmax(predict, axis=1)\n",
    "predict"
   ]
  },
  {
   "cell_type": "code",
   "execution_count": 84,
   "metadata": {},
   "outputs": [],
   "source": [
    "import csv\n",
    "with open('output.csv', 'w', newline='') as file:\n",
    "    writer = csv.writer(file)\n",
    "    writer.writerow([\"Id\", \"Predicted\"])\n",
    "    \n",
    "    i = 0\n",
    "    for ele in predict:\n",
    "        \n",
    "        writer.writerow([i, ele])\n",
    "        \n",
    "        i += 1"
   ]
  },
  {
   "cell_type": "code",
   "execution_count": null,
   "metadata": {},
   "outputs": [],
   "source": []
  }
 ],
 "metadata": {
  "kernelspec": {
   "display_name": "Python 3 (ipykernel)",
   "language": "python",
   "name": "python3"
  },
  "language_info": {
   "codemirror_mode": {
    "name": "ipython",
    "version": 3
   },
   "file_extension": ".py",
   "mimetype": "text/x-python",
   "name": "python",
   "nbconvert_exporter": "python",
   "pygments_lexer": "ipython3",
   "version": "3.9.6"
  }
 },
 "nbformat": 4,
 "nbformat_minor": 4
}
